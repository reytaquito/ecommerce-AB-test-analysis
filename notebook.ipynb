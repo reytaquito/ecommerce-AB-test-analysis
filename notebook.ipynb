{
 "cells": [
  {
   "cell_type": "markdown",
   "metadata": {},
   "source": [
    "# E‑commerce A/B Test Hypotheses Prioritization & Analysis"
   ]
  },
  {
   "cell_type": "markdown",
   "metadata": {},
   "source": [
    "## 📄 Project Description\n",
    "\n",
    "This repository contains the end‑to‑end workflow for prioritizing marketing hypotheses, running an A/B test, and analyzing its results for a large online retailer.  \n",
    "\n",
    "Key objectives:\n",
    "\n",
    "1. **Hypotheses prioritization** based on expected impact and effort.  \n",
    "2. **A/B test execution** to validate the top hypothesis.  \n",
    "3. **Visualization** of cumulative revenue, average order size, and conversion rates per group.  \n",
    "4. **Anomaly detection** in user order counts and order prices.  \n",
    "5. **Statistical inference** on differences in conversion and order size, both on raw and filtered datasets.  \n",
    "6. **Decision recommendation**: choose a winner group, stop test for no difference, or continue testing.\n",
    "\n",
    "---\n",
    "\n",
    "## 📈 Analyses & Visualizations\n",
    "\n",
    "1. **Cumulative Revenue by Group**  \n",
    "   - Plot of accumulated revenue over time for control (A) vs. variant (B).  \n",
    "   - Conclusions & hypotheses on revenue trends.\n",
    "\n",
    "2. **Cumulative Average Order Size by Group**  \n",
    "   - Plot of average order value accumulation.  \n",
    "   - Interpret differences and possible causes.\n",
    "\n",
    "3. **Relative Difference in Cumulative Average Order Size (B vs. A)**  \n",
    "   - Percentage gap chart.  \n",
    "   - Insights on magnitude and stability of effect.\n",
    "\n",
    "4. **Daily Conversion Rate per Group**  \n",
    "   - Conversion = orders ÷ visits per day.  \n",
    "   - Line chart comparison and descriptive conclusions.\n",
    "\n",
    "5. **Scatter Plot: Number of Orders per User**  \n",
    "   - Identify heavy purchasers vs. occasional buyers.  \n",
    "   - Conclusions & detection of outliers.\n",
    "\n",
    "6. **Order Count Anomaly Detection**  \n",
    "   - 95th and 99th percentiles of orders per user.  \n",
    "   - Thresholds beyond which an order count is considered anomalous.\n",
    "\n",
    "7. **Scatter Plot: Order Prices**  \n",
    "   - Distribution of individual order values.  \n",
    "   - Conclusions on pricing behavior.\n",
    "\n",
    "8. **Order Price Anomaly Detection**  \n",
    "   - 95th and 99th percentiles of order price.  \n",
    "   - Definition of anomalous order values.\n",
    "\n",
    "9. **Statistical Significance Tests (Raw Data)**  \n",
    "   - Conversion difference (two‑sample z‑test).  \n",
    "   - Average order size difference (t‑test).\n",
    "\n",
    "10. **Statistical Significance Tests (Filtered Data)**  \n",
    "   - Repeat conversion and order size tests after excluding anomalies.\n",
    "\n",
    "11. **Decision Making**  \n",
    "   - Recommendation to:  \n",
    "     1. Stop test and choose a leader.  \n",
    "     2. Stop test—no significant difference.  \n",
    "     3. Continue test for more data.\n",
    "\n",
    "---"
   ]
  },
  {
   "cell_type": "markdown",
   "metadata": {},
   "source": [
    "## Importing Libraries and Datasets"
   ]
  },
  {
   "cell_type": "code",
   "execution_count": 1,
   "metadata": {
    "trusted": true
   },
   "outputs": [],
   "source": [
    "import pandas as pd\n",
    "import numpy as np\n",
    "import matplotlib.pyplot as plt\n",
    "import seaborn as sns\n",
    "from scipy import stats\n",
    "from datetime import timedelta\n",
    "from scipy.stats import mannwhitneyu\n",
    "from statsmodels.stats.proportion import proportions_ztest"
   ]
  },
  {
   "cell_type": "code",
   "execution_count": 2,
   "metadata": {
    "trusted": true
   },
   "outputs": [],
   "source": [
    "hypotheses = pd.read_csv('datasets/hypotheses_us.csv')\n",
    "orders = pd.read_csv('datasets/orders_us.csv')\n",
    "visits = pd.read_csv('datasets/visits_us.csv')"
   ]
  },
  {
   "cell_type": "markdown",
   "metadata": {},
   "source": [
    "## Data Preprocessing and Cleaning"
   ]
  },
  {
   "cell_type": "code",
   "execution_count": 3,
   "metadata": {
    "trusted": true
   },
   "outputs": [
    {
     "name": "stdout",
     "output_type": "stream",
     "text": [
      "<class 'pandas.core.frame.DataFrame'>\n",
      "RangeIndex: 9 entries, 0 to 8\n",
      "Data columns (total 5 columns):\n",
      " #   Column      Non-Null Count  Dtype \n",
      "---  ------      --------------  ----- \n",
      " 0   Hypothesis  9 non-null      object\n",
      " 1   Reach       9 non-null      int64 \n",
      " 2   Impact      9 non-null      int64 \n",
      " 3   Confidence  9 non-null      int64 \n",
      " 4   Effort      9 non-null      int64 \n",
      "dtypes: int64(4), object(1)\n",
      "memory usage: 492.0+ bytes\n",
      "None\n"
     ]
    },
    {
     "data": {
      "text/html": [
       "<div>\n",
       "<style scoped>\n",
       "    .dataframe tbody tr th:only-of-type {\n",
       "        vertical-align: middle;\n",
       "    }\n",
       "\n",
       "    .dataframe tbody tr th {\n",
       "        vertical-align: top;\n",
       "    }\n",
       "\n",
       "    .dataframe thead th {\n",
       "        text-align: right;\n",
       "    }\n",
       "</style>\n",
       "<table border=\"1\" class=\"dataframe\">\n",
       "  <thead>\n",
       "    <tr style=\"text-align: right;\">\n",
       "      <th></th>\n",
       "      <th>Hypothesis</th>\n",
       "      <th>Reach</th>\n",
       "      <th>Impact</th>\n",
       "      <th>Confidence</th>\n",
       "      <th>Effort</th>\n",
       "    </tr>\n",
       "  </thead>\n",
       "  <tbody>\n",
       "    <tr>\n",
       "      <th>0</th>\n",
       "      <td>Add two new channels for attracting traffic. T...</td>\n",
       "      <td>3</td>\n",
       "      <td>10</td>\n",
       "      <td>8</td>\n",
       "      <td>6</td>\n",
       "    </tr>\n",
       "    <tr>\n",
       "      <th>1</th>\n",
       "      <td>Launch your own delivery service. This will sh...</td>\n",
       "      <td>2</td>\n",
       "      <td>5</td>\n",
       "      <td>4</td>\n",
       "      <td>10</td>\n",
       "    </tr>\n",
       "    <tr>\n",
       "      <th>2</th>\n",
       "      <td>Add product recommendation blocks to the store...</td>\n",
       "      <td>8</td>\n",
       "      <td>3</td>\n",
       "      <td>7</td>\n",
       "      <td>3</td>\n",
       "    </tr>\n",
       "    <tr>\n",
       "      <th>3</th>\n",
       "      <td>Change the category structure. This will incre...</td>\n",
       "      <td>8</td>\n",
       "      <td>3</td>\n",
       "      <td>3</td>\n",
       "      <td>8</td>\n",
       "    </tr>\n",
       "    <tr>\n",
       "      <th>4</th>\n",
       "      <td>Change the background color on the main page. ...</td>\n",
       "      <td>3</td>\n",
       "      <td>1</td>\n",
       "      <td>1</td>\n",
       "      <td>1</td>\n",
       "    </tr>\n",
       "  </tbody>\n",
       "</table>\n",
       "</div>"
      ],
      "text/plain": [
       "                                          Hypothesis  Reach  Impact  \\\n",
       "0  Add two new channels for attracting traffic. T...      3      10   \n",
       "1  Launch your own delivery service. This will sh...      2       5   \n",
       "2  Add product recommendation blocks to the store...      8       3   \n",
       "3  Change the category structure. This will incre...      8       3   \n",
       "4  Change the background color on the main page. ...      3       1   \n",
       "\n",
       "   Confidence  Effort  \n",
       "0           8       6  \n",
       "1           4      10  \n",
       "2           7       3  \n",
       "3           3       8  \n",
       "4           1       1  "
      ]
     },
     "execution_count": 3,
     "metadata": {},
     "output_type": "execute_result"
    }
   ],
   "source": [
    "print(hypotheses.info())\n",
    "hypotheses.head()"
   ]
  },
  {
   "cell_type": "code",
   "execution_count": 4,
   "metadata": {
    "trusted": true
   },
   "outputs": [
    {
     "name": "stdout",
     "output_type": "stream",
     "text": [
      "<class 'pandas.core.frame.DataFrame'>\n",
      "RangeIndex: 1197 entries, 0 to 1196\n",
      "Data columns (total 5 columns):\n",
      " #   Column         Non-Null Count  Dtype  \n",
      "---  ------         --------------  -----  \n",
      " 0   transactionId  1197 non-null   int64  \n",
      " 1   visitorId      1197 non-null   int64  \n",
      " 2   date           1197 non-null   object \n",
      " 3   revenue        1197 non-null   float64\n",
      " 4   group          1197 non-null   object \n",
      "dtypes: float64(1), int64(2), object(2)\n",
      "memory usage: 46.9+ KB\n",
      "None\n"
     ]
    },
    {
     "data": {
      "text/html": [
       "<div>\n",
       "<style scoped>\n",
       "    .dataframe tbody tr th:only-of-type {\n",
       "        vertical-align: middle;\n",
       "    }\n",
       "\n",
       "    .dataframe tbody tr th {\n",
       "        vertical-align: top;\n",
       "    }\n",
       "\n",
       "    .dataframe thead th {\n",
       "        text-align: right;\n",
       "    }\n",
       "</style>\n",
       "<table border=\"1\" class=\"dataframe\">\n",
       "  <thead>\n",
       "    <tr style=\"text-align: right;\">\n",
       "      <th></th>\n",
       "      <th>transactionId</th>\n",
       "      <th>visitorId</th>\n",
       "      <th>date</th>\n",
       "      <th>revenue</th>\n",
       "      <th>group</th>\n",
       "    </tr>\n",
       "  </thead>\n",
       "  <tbody>\n",
       "    <tr>\n",
       "      <th>0</th>\n",
       "      <td>3667963787</td>\n",
       "      <td>3312258926</td>\n",
       "      <td>2019-08-15</td>\n",
       "      <td>30.4</td>\n",
       "      <td>B</td>\n",
       "    </tr>\n",
       "    <tr>\n",
       "      <th>1</th>\n",
       "      <td>2804400009</td>\n",
       "      <td>3642806036</td>\n",
       "      <td>2019-08-15</td>\n",
       "      <td>15.2</td>\n",
       "      <td>B</td>\n",
       "    </tr>\n",
       "    <tr>\n",
       "      <th>2</th>\n",
       "      <td>2961555356</td>\n",
       "      <td>4069496402</td>\n",
       "      <td>2019-08-15</td>\n",
       "      <td>10.2</td>\n",
       "      <td>A</td>\n",
       "    </tr>\n",
       "    <tr>\n",
       "      <th>3</th>\n",
       "      <td>3797467345</td>\n",
       "      <td>1196621759</td>\n",
       "      <td>2019-08-15</td>\n",
       "      <td>155.1</td>\n",
       "      <td>B</td>\n",
       "    </tr>\n",
       "    <tr>\n",
       "      <th>4</th>\n",
       "      <td>2282983706</td>\n",
       "      <td>2322279887</td>\n",
       "      <td>2019-08-15</td>\n",
       "      <td>40.5</td>\n",
       "      <td>B</td>\n",
       "    </tr>\n",
       "  </tbody>\n",
       "</table>\n",
       "</div>"
      ],
      "text/plain": [
       "   transactionId   visitorId        date  revenue group\n",
       "0     3667963787  3312258926  2019-08-15     30.4     B\n",
       "1     2804400009  3642806036  2019-08-15     15.2     B\n",
       "2     2961555356  4069496402  2019-08-15     10.2     A\n",
       "3     3797467345  1196621759  2019-08-15    155.1     B\n",
       "4     2282983706  2322279887  2019-08-15     40.5     B"
      ]
     },
     "execution_count": 4,
     "metadata": {},
     "output_type": "execute_result"
    }
   ],
   "source": [
    "print(orders.info())\n",
    "orders.head()"
   ]
  },
  {
   "cell_type": "code",
   "execution_count": 5,
   "metadata": {},
   "outputs": [],
   "source": [
    "#convert date columns to datetime\n",
    "orders['date'] = pd.to_datetime(orders['date'])\n"
   ]
  },
  {
   "cell_type": "code",
   "execution_count": 6,
   "metadata": {
    "trusted": true
   },
   "outputs": [
    {
     "name": "stdout",
     "output_type": "stream",
     "text": [
      "transactionId    0\n",
      "visitorId        0\n",
      "date             0\n",
      "revenue          0\n",
      "group            0\n",
      "dtype: int64\n",
      "0\n"
     ]
    }
   ],
   "source": [
    "# verify if there are any missing values or duplicates in the datasets\n",
    "print(orders.isnull().sum())\n",
    "print(orders.duplicated().sum())"
   ]
  },
  {
   "cell_type": "code",
   "execution_count": 7,
   "metadata": {
    "trusted": true
   },
   "outputs": [
    {
     "name": "stdout",
     "output_type": "stream",
     "text": [
      "   visitorId  group\n",
      "0    5114589      1\n",
      "1    6958315      1\n",
      "2    8300375      2\n",
      "3   11685486      1\n",
      "4   39475350      1\n",
      "visitorId     0\n",
      "group        58\n",
      "dtype: int64\n",
      "<class 'pandas.core.frame.DataFrame'>\n",
      "Index: 1016 entries, 0 to 1196\n",
      "Data columns (total 5 columns):\n",
      " #   Column         Non-Null Count  Dtype         \n",
      "---  ------         --------------  -----         \n",
      " 0   transactionId  1016 non-null   int64         \n",
      " 1   visitorId      1016 non-null   int64         \n",
      " 2   date           1016 non-null   datetime64[ns]\n",
      " 3   revenue        1016 non-null   float64       \n",
      " 4   group          1016 non-null   object        \n",
      "dtypes: datetime64[ns](1), float64(1), int64(2), object(1)\n",
      "memory usage: 47.6+ KB\n"
     ]
    }
   ],
   "source": [
    "# verify if users are in both groups\n",
    "grupo_por_usuario = orders.groupby('visitorId')['group'].nunique().reset_index()\n",
    "print(grupo_por_usuario.head(5))\n",
    "count = grupo_por_usuario[grupo_por_usuario==2].count()\n",
    "print(count)\n",
    "\n",
    "#we have 58 users that are in both groups, we will remove them from the dataset\n",
    "usuarios_mix = grupo_por_usuario[grupo_por_usuario['group'] > 1]['visitorId']\n",
    "orders = orders[~orders['visitorId'].isin(usuarios_mix)]\n",
    "orders.info()"
   ]
  },
  {
   "cell_type": "code",
   "execution_count": 8,
   "metadata": {
    "trusted": true
   },
   "outputs": [
    {
     "name": "stdout",
     "output_type": "stream",
     "text": [
      "<class 'pandas.core.frame.DataFrame'>\n",
      "RangeIndex: 62 entries, 0 to 61\n",
      "Data columns (total 3 columns):\n",
      " #   Column  Non-Null Count  Dtype \n",
      "---  ------  --------------  ----- \n",
      " 0   date    62 non-null     object\n",
      " 1   group   62 non-null     object\n",
      " 2   visits  62 non-null     int64 \n",
      "dtypes: int64(1), object(2)\n",
      "memory usage: 1.6+ KB\n",
      "None\n"
     ]
    },
    {
     "data": {
      "text/html": [
       "<div>\n",
       "<style scoped>\n",
       "    .dataframe tbody tr th:only-of-type {\n",
       "        vertical-align: middle;\n",
       "    }\n",
       "\n",
       "    .dataframe tbody tr th {\n",
       "        vertical-align: top;\n",
       "    }\n",
       "\n",
       "    .dataframe thead th {\n",
       "        text-align: right;\n",
       "    }\n",
       "</style>\n",
       "<table border=\"1\" class=\"dataframe\">\n",
       "  <thead>\n",
       "    <tr style=\"text-align: right;\">\n",
       "      <th></th>\n",
       "      <th>date</th>\n",
       "      <th>group</th>\n",
       "      <th>visits</th>\n",
       "    </tr>\n",
       "  </thead>\n",
       "  <tbody>\n",
       "    <tr>\n",
       "      <th>0</th>\n",
       "      <td>2019-08-01</td>\n",
       "      <td>A</td>\n",
       "      <td>719</td>\n",
       "    </tr>\n",
       "    <tr>\n",
       "      <th>1</th>\n",
       "      <td>2019-08-02</td>\n",
       "      <td>A</td>\n",
       "      <td>619</td>\n",
       "    </tr>\n",
       "    <tr>\n",
       "      <th>2</th>\n",
       "      <td>2019-08-03</td>\n",
       "      <td>A</td>\n",
       "      <td>507</td>\n",
       "    </tr>\n",
       "    <tr>\n",
       "      <th>3</th>\n",
       "      <td>2019-08-04</td>\n",
       "      <td>A</td>\n",
       "      <td>717</td>\n",
       "    </tr>\n",
       "    <tr>\n",
       "      <th>4</th>\n",
       "      <td>2019-08-05</td>\n",
       "      <td>A</td>\n",
       "      <td>756</td>\n",
       "    </tr>\n",
       "  </tbody>\n",
       "</table>\n",
       "</div>"
      ],
      "text/plain": [
       "         date group  visits\n",
       "0  2019-08-01     A     719\n",
       "1  2019-08-02     A     619\n",
       "2  2019-08-03     A     507\n",
       "3  2019-08-04     A     717\n",
       "4  2019-08-05     A     756"
      ]
     },
     "execution_count": 8,
     "metadata": {},
     "output_type": "execute_result"
    }
   ],
   "source": [
    "print(visits.info())\n",
    "visits.head()"
   ]
  },
  {
   "cell_type": "code",
   "execution_count": null,
   "metadata": {},
   "outputs": [],
   "source": [
    "#convert date columns to datetime\n",
    "visits['date'] = pd.to_datetime(visits['date'])"
   ]
  },
  {
   "cell_type": "code",
   "execution_count": 9,
   "metadata": {
    "trusted": true
   },
   "outputs": [
    {
     "name": "stdout",
     "output_type": "stream",
     "text": [
      "date      0\n",
      "group     0\n",
      "visits    0\n",
      "dtype: int64\n",
      "0\n"
     ]
    }
   ],
   "source": [
    "# verificar datos nulos y datos duplicados\n",
    "print(visits.isnull().sum())\n",
    "print(visits.duplicated().sum())"
   ]
  },
  {
   "cell_type": "markdown",
   "metadata": {},
   "source": [
    "## Aanalyze hypotheses"
   ]
  },
  {
   "cell_type": "markdown",
   "metadata": {},
   "source": [
    "### Prioritize hypotheses"
   ]
  },
  {
   "cell_type": "markdown",
   "metadata": {},
   "source": [
    "**ICE** Method<br>\n",
    "ICE: (Impact × Confidence) / Effort"
   ]
  },
  {
   "cell_type": "code",
   "execution_count": 10,
   "metadata": {
    "trusted": true
   },
   "outputs": [
    {
     "data": {
      "text/html": [
       "<div>\n",
       "<style scoped>\n",
       "    .dataframe tbody tr th:only-of-type {\n",
       "        vertical-align: middle;\n",
       "    }\n",
       "\n",
       "    .dataframe tbody tr th {\n",
       "        vertical-align: top;\n",
       "    }\n",
       "\n",
       "    .dataframe thead th {\n",
       "        text-align: right;\n",
       "    }\n",
       "</style>\n",
       "<table border=\"1\" class=\"dataframe\">\n",
       "  <thead>\n",
       "    <tr style=\"text-align: right;\">\n",
       "      <th></th>\n",
       "      <th>Hypothesis</th>\n",
       "      <th>Reach</th>\n",
       "      <th>Impact</th>\n",
       "      <th>Confidence</th>\n",
       "      <th>Effort</th>\n",
       "    </tr>\n",
       "  </thead>\n",
       "  <tbody>\n",
       "    <tr>\n",
       "      <th>0</th>\n",
       "      <td>Add two new channels for attracting traffic. T...</td>\n",
       "      <td>3</td>\n",
       "      <td>10</td>\n",
       "      <td>8</td>\n",
       "      <td>6</td>\n",
       "    </tr>\n",
       "    <tr>\n",
       "      <th>1</th>\n",
       "      <td>Launch your own delivery service. This will sh...</td>\n",
       "      <td>2</td>\n",
       "      <td>5</td>\n",
       "      <td>4</td>\n",
       "      <td>10</td>\n",
       "    </tr>\n",
       "    <tr>\n",
       "      <th>2</th>\n",
       "      <td>Add product recommendation blocks to the store...</td>\n",
       "      <td>8</td>\n",
       "      <td>3</td>\n",
       "      <td>7</td>\n",
       "      <td>3</td>\n",
       "    </tr>\n",
       "    <tr>\n",
       "      <th>3</th>\n",
       "      <td>Change the category structure. This will incre...</td>\n",
       "      <td>8</td>\n",
       "      <td>3</td>\n",
       "      <td>3</td>\n",
       "      <td>8</td>\n",
       "    </tr>\n",
       "    <tr>\n",
       "      <th>4</th>\n",
       "      <td>Change the background color on the main page. ...</td>\n",
       "      <td>3</td>\n",
       "      <td>1</td>\n",
       "      <td>1</td>\n",
       "      <td>1</td>\n",
       "    </tr>\n",
       "    <tr>\n",
       "      <th>5</th>\n",
       "      <td>Add a customer review page. This will increase...</td>\n",
       "      <td>3</td>\n",
       "      <td>2</td>\n",
       "      <td>2</td>\n",
       "      <td>3</td>\n",
       "    </tr>\n",
       "    <tr>\n",
       "      <th>6</th>\n",
       "      <td>Show banners with current offers and sales on ...</td>\n",
       "      <td>5</td>\n",
       "      <td>3</td>\n",
       "      <td>8</td>\n",
       "      <td>3</td>\n",
       "    </tr>\n",
       "    <tr>\n",
       "      <th>7</th>\n",
       "      <td>Add a subscription form to all the main pages....</td>\n",
       "      <td>10</td>\n",
       "      <td>7</td>\n",
       "      <td>8</td>\n",
       "      <td>5</td>\n",
       "    </tr>\n",
       "    <tr>\n",
       "      <th>8</th>\n",
       "      <td>Launch a promotion that gives users discounts ...</td>\n",
       "      <td>1</td>\n",
       "      <td>9</td>\n",
       "      <td>9</td>\n",
       "      <td>5</td>\n",
       "    </tr>\n",
       "  </tbody>\n",
       "</table>\n",
       "</div>"
      ],
      "text/plain": [
       "                                          Hypothesis  Reach  Impact  \\\n",
       "0  Add two new channels for attracting traffic. T...      3      10   \n",
       "1  Launch your own delivery service. This will sh...      2       5   \n",
       "2  Add product recommendation blocks to the store...      8       3   \n",
       "3  Change the category structure. This will incre...      8       3   \n",
       "4  Change the background color on the main page. ...      3       1   \n",
       "5  Add a customer review page. This will increase...      3       2   \n",
       "6  Show banners with current offers and sales on ...      5       3   \n",
       "7  Add a subscription form to all the main pages....     10       7   \n",
       "8  Launch a promotion that gives users discounts ...      1       9   \n",
       "\n",
       "   Confidence  Effort  \n",
       "0           8       6  \n",
       "1           4      10  \n",
       "2           7       3  \n",
       "3           3       8  \n",
       "4           1       1  \n",
       "5           2       3  \n",
       "6           8       3  \n",
       "7           8       5  \n",
       "8           9       5  "
      ]
     },
     "execution_count": 10,
     "metadata": {},
     "output_type": "execute_result"
    }
   ],
   "source": [
    "hypotheses"
   ]
  },
  {
   "cell_type": "code",
   "execution_count": 11,
   "metadata": {
    "trusted": true
   },
   "outputs": [
    {
     "data": {
      "text/html": [
       "<div>\n",
       "<style scoped>\n",
       "    .dataframe tbody tr th:only-of-type {\n",
       "        vertical-align: middle;\n",
       "    }\n",
       "\n",
       "    .dataframe tbody tr th {\n",
       "        vertical-align: top;\n",
       "    }\n",
       "\n",
       "    .dataframe thead th {\n",
       "        text-align: right;\n",
       "    }\n",
       "</style>\n",
       "<table border=\"1\" class=\"dataframe\">\n",
       "  <thead>\n",
       "    <tr style=\"text-align: right;\">\n",
       "      <th></th>\n",
       "      <th>Hypothesis</th>\n",
       "      <th>ICE</th>\n",
       "    </tr>\n",
       "  </thead>\n",
       "  <tbody>\n",
       "    <tr>\n",
       "      <th>8</th>\n",
       "      <td>Launch a promotion that gives users discounts ...</td>\n",
       "      <td>16.2</td>\n",
       "    </tr>\n",
       "    <tr>\n",
       "      <th>0</th>\n",
       "      <td>Add two new channels for attracting traffic. T...</td>\n",
       "      <td>13.3</td>\n",
       "    </tr>\n",
       "    <tr>\n",
       "      <th>7</th>\n",
       "      <td>Add a subscription form to all the main pages....</td>\n",
       "      <td>11.2</td>\n",
       "    </tr>\n",
       "    <tr>\n",
       "      <th>6</th>\n",
       "      <td>Show banners with current offers and sales on ...</td>\n",
       "      <td>8.0</td>\n",
       "    </tr>\n",
       "    <tr>\n",
       "      <th>2</th>\n",
       "      <td>Add product recommendation blocks to the store...</td>\n",
       "      <td>7.0</td>\n",
       "    </tr>\n",
       "    <tr>\n",
       "      <th>1</th>\n",
       "      <td>Launch your own delivery service. This will sh...</td>\n",
       "      <td>2.0</td>\n",
       "    </tr>\n",
       "    <tr>\n",
       "      <th>5</th>\n",
       "      <td>Add a customer review page. This will increase...</td>\n",
       "      <td>1.3</td>\n",
       "    </tr>\n",
       "    <tr>\n",
       "      <th>3</th>\n",
       "      <td>Change the category structure. This will incre...</td>\n",
       "      <td>1.1</td>\n",
       "    </tr>\n",
       "    <tr>\n",
       "      <th>4</th>\n",
       "      <td>Change the background color on the main page. ...</td>\n",
       "      <td>1.0</td>\n",
       "    </tr>\n",
       "  </tbody>\n",
       "</table>\n",
       "</div>"
      ],
      "text/plain": [
       "                                          Hypothesis   ICE\n",
       "8  Launch a promotion that gives users discounts ...  16.2\n",
       "0  Add two new channels for attracting traffic. T...  13.3\n",
       "7  Add a subscription form to all the main pages....  11.2\n",
       "6  Show banners with current offers and sales on ...   8.0\n",
       "2  Add product recommendation blocks to the store...   7.0\n",
       "1  Launch your own delivery service. This will sh...   2.0\n",
       "5  Add a customer review page. This will increase...   1.3\n",
       "3  Change the category structure. This will incre...   1.1\n",
       "4  Change the background color on the main page. ...   1.0"
      ]
     },
     "execution_count": 11,
     "metadata": {},
     "output_type": "execute_result"
    }
   ],
   "source": [
    "hypotheses['ICE'] = (hypotheses['Impact'] * hypotheses['Confidence']) / hypotheses['Effort']\n",
    "ICE = hypotheses[['Hypothesis', 'ICE']].sort_values(by='ICE', ascending=False).round(1)\n",
    "ICE"
   ]
  },
  {
   "cell_type": "markdown",
   "metadata": {},
   "source": [
    "**RICE** Method<br>\n",
    "ICE: (Reach * Impact × Confidence) / Effort"
   ]
  },
  {
   "cell_type": "code",
   "execution_count": 12,
   "metadata": {
    "trusted": true
   },
   "outputs": [
    {
     "data": {
      "text/html": [
       "<div>\n",
       "<style scoped>\n",
       "    .dataframe tbody tr th:only-of-type {\n",
       "        vertical-align: middle;\n",
       "    }\n",
       "\n",
       "    .dataframe tbody tr th {\n",
       "        vertical-align: top;\n",
       "    }\n",
       "\n",
       "    .dataframe thead th {\n",
       "        text-align: right;\n",
       "    }\n",
       "</style>\n",
       "<table border=\"1\" class=\"dataframe\">\n",
       "  <thead>\n",
       "    <tr style=\"text-align: right;\">\n",
       "      <th></th>\n",
       "      <th>Hypothesis</th>\n",
       "      <th>RICE</th>\n",
       "    </tr>\n",
       "  </thead>\n",
       "  <tbody>\n",
       "    <tr>\n",
       "      <th>7</th>\n",
       "      <td>Add a subscription form to all the main pages....</td>\n",
       "      <td>112.0</td>\n",
       "    </tr>\n",
       "    <tr>\n",
       "      <th>2</th>\n",
       "      <td>Add product recommendation blocks to the store...</td>\n",
       "      <td>56.0</td>\n",
       "    </tr>\n",
       "    <tr>\n",
       "      <th>0</th>\n",
       "      <td>Add two new channels for attracting traffic. T...</td>\n",
       "      <td>40.0</td>\n",
       "    </tr>\n",
       "    <tr>\n",
       "      <th>6</th>\n",
       "      <td>Show banners with current offers and sales on ...</td>\n",
       "      <td>40.0</td>\n",
       "    </tr>\n",
       "    <tr>\n",
       "      <th>8</th>\n",
       "      <td>Launch a promotion that gives users discounts ...</td>\n",
       "      <td>16.2</td>\n",
       "    </tr>\n",
       "    <tr>\n",
       "      <th>3</th>\n",
       "      <td>Change the category structure. This will incre...</td>\n",
       "      <td>9.0</td>\n",
       "    </tr>\n",
       "    <tr>\n",
       "      <th>1</th>\n",
       "      <td>Launch your own delivery service. This will sh...</td>\n",
       "      <td>4.0</td>\n",
       "    </tr>\n",
       "    <tr>\n",
       "      <th>5</th>\n",
       "      <td>Add a customer review page. This will increase...</td>\n",
       "      <td>4.0</td>\n",
       "    </tr>\n",
       "    <tr>\n",
       "      <th>4</th>\n",
       "      <td>Change the background color on the main page. ...</td>\n",
       "      <td>3.0</td>\n",
       "    </tr>\n",
       "  </tbody>\n",
       "</table>\n",
       "</div>"
      ],
      "text/plain": [
       "                                          Hypothesis   RICE\n",
       "7  Add a subscription form to all the main pages....  112.0\n",
       "2  Add product recommendation blocks to the store...   56.0\n",
       "0  Add two new channels for attracting traffic. T...   40.0\n",
       "6  Show banners with current offers and sales on ...   40.0\n",
       "8  Launch a promotion that gives users discounts ...   16.2\n",
       "3  Change the category structure. This will incre...    9.0\n",
       "1  Launch your own delivery service. This will sh...    4.0\n",
       "5  Add a customer review page. This will increase...    4.0\n",
       "4  Change the background color on the main page. ...    3.0"
      ]
     },
     "execution_count": 12,
     "metadata": {},
     "output_type": "execute_result"
    }
   ],
   "source": [
    "hypotheses['RICE'] = (hypotheses['Reach'] * hypotheses['Impact'] * hypotheses['Confidence']) / hypotheses['Effort']\n",
    "RICE = hypotheses[['Hypothesis', 'RICE']].sort_values(by='RICE', ascending=False)\n",
    "RICE"
   ]
  },
  {
   "cell_type": "markdown",
   "metadata": {},
   "source": [
    "## A/B Test Analysis"
   ]
  },
  {
   "cell_type": "markdown",
   "metadata": {},
   "source": [
    "### 1.- Accumulated income by group."
   ]
  },
  {
   "cell_type": "code",
   "execution_count": 35,
   "metadata": {
    "trusted": true
   },
   "outputs": [
    {
     "data": {
      "text/html": [
       "<div>\n",
       "<style scoped>\n",
       "    .dataframe tbody tr th:only-of-type {\n",
       "        vertical-align: middle;\n",
       "    }\n",
       "\n",
       "    .dataframe tbody tr th {\n",
       "        vertical-align: top;\n",
       "    }\n",
       "\n",
       "    .dataframe thead th {\n",
       "        text-align: right;\n",
       "    }\n",
       "</style>\n",
       "<table border=\"1\" class=\"dataframe\">\n",
       "  <thead>\n",
       "    <tr style=\"text-align: right;\">\n",
       "      <th></th>\n",
       "      <th>transactionId</th>\n",
       "      <th>visitorId</th>\n",
       "      <th>date</th>\n",
       "      <th>revenue</th>\n",
       "      <th>group</th>\n",
       "    </tr>\n",
       "  </thead>\n",
       "  <tbody>\n",
       "    <tr>\n",
       "      <th>0</th>\n",
       "      <td>3667963787</td>\n",
       "      <td>3312258926</td>\n",
       "      <td>2019-08-15</td>\n",
       "      <td>30.4</td>\n",
       "      <td>B</td>\n",
       "    </tr>\n",
       "    <tr>\n",
       "      <th>1</th>\n",
       "      <td>2804400009</td>\n",
       "      <td>3642806036</td>\n",
       "      <td>2019-08-15</td>\n",
       "      <td>15.2</td>\n",
       "      <td>B</td>\n",
       "    </tr>\n",
       "    <tr>\n",
       "      <th>3</th>\n",
       "      <td>3797467345</td>\n",
       "      <td>1196621759</td>\n",
       "      <td>2019-08-15</td>\n",
       "      <td>155.1</td>\n",
       "      <td>B</td>\n",
       "    </tr>\n",
       "    <tr>\n",
       "      <th>4</th>\n",
       "      <td>2282983706</td>\n",
       "      <td>2322279887</td>\n",
       "      <td>2019-08-15</td>\n",
       "      <td>40.5</td>\n",
       "      <td>B</td>\n",
       "    </tr>\n",
       "    <tr>\n",
       "      <th>5</th>\n",
       "      <td>182168103</td>\n",
       "      <td>935554773</td>\n",
       "      <td>2019-08-15</td>\n",
       "      <td>35.0</td>\n",
       "      <td>B</td>\n",
       "    </tr>\n",
       "    <tr>\n",
       "      <th>...</th>\n",
       "      <td>...</td>\n",
       "      <td>...</td>\n",
       "      <td>...</td>\n",
       "      <td>...</td>\n",
       "      <td>...</td>\n",
       "    </tr>\n",
       "    <tr>\n",
       "      <th>1191</th>\n",
       "      <td>3592955527</td>\n",
       "      <td>608641596</td>\n",
       "      <td>2019-08-14</td>\n",
       "      <td>255.7</td>\n",
       "      <td>B</td>\n",
       "    </tr>\n",
       "    <tr>\n",
       "      <th>1192</th>\n",
       "      <td>2662137336</td>\n",
       "      <td>3733762160</td>\n",
       "      <td>2019-08-14</td>\n",
       "      <td>100.8</td>\n",
       "      <td>B</td>\n",
       "    </tr>\n",
       "    <tr>\n",
       "      <th>1193</th>\n",
       "      <td>2203539145</td>\n",
       "      <td>370388673</td>\n",
       "      <td>2019-08-14</td>\n",
       "      <td>50.1</td>\n",
       "      <td>A</td>\n",
       "    </tr>\n",
       "    <tr>\n",
       "      <th>1194</th>\n",
       "      <td>1807773912</td>\n",
       "      <td>573423106</td>\n",
       "      <td>2019-08-14</td>\n",
       "      <td>165.3</td>\n",
       "      <td>A</td>\n",
       "    </tr>\n",
       "    <tr>\n",
       "      <th>1196</th>\n",
       "      <td>3936777065</td>\n",
       "      <td>2108080724</td>\n",
       "      <td>2019-08-15</td>\n",
       "      <td>3120.1</td>\n",
       "      <td>B</td>\n",
       "    </tr>\n",
       "  </tbody>\n",
       "</table>\n",
       "<p>1016 rows × 5 columns</p>\n",
       "</div>"
      ],
      "text/plain": [
       "      transactionId   visitorId       date  revenue group\n",
       "0        3667963787  3312258926 2019-08-15     30.4     B\n",
       "1        2804400009  3642806036 2019-08-15     15.2     B\n",
       "3        3797467345  1196621759 2019-08-15    155.1     B\n",
       "4        2282983706  2322279887 2019-08-15     40.5     B\n",
       "5         182168103   935554773 2019-08-15     35.0     B\n",
       "...             ...         ...        ...      ...   ...\n",
       "1191     3592955527   608641596 2019-08-14    255.7     B\n",
       "1192     2662137336  3733762160 2019-08-14    100.8     B\n",
       "1193     2203539145   370388673 2019-08-14     50.1     A\n",
       "1194     1807773912   573423106 2019-08-14    165.3     A\n",
       "1196     3936777065  2108080724 2019-08-15   3120.1     B\n",
       "\n",
       "[1016 rows x 5 columns]"
      ]
     },
     "execution_count": 35,
     "metadata": {},
     "output_type": "execute_result"
    }
   ],
   "source": [
    "orders"
   ]
  },
  {
   "cell_type": "code",
   "execution_count": null,
   "metadata": {
    "trusted": true
   },
   "outputs": [
    {
     "data": {
      "text/html": [
       "<div>\n",
       "<style scoped>\n",
       "    .dataframe tbody tr th:only-of-type {\n",
       "        vertical-align: middle;\n",
       "    }\n",
       "\n",
       "    .dataframe tbody tr th {\n",
       "        vertical-align: top;\n",
       "    }\n",
       "\n",
       "    .dataframe thead th {\n",
       "        text-align: right;\n",
       "    }\n",
       "</style>\n",
       "<table border=\"1\" class=\"dataframe\">\n",
       "  <thead>\n",
       "    <tr style=\"text-align: right;\">\n",
       "      <th></th>\n",
       "      <th>group</th>\n",
       "      <th>date</th>\n",
       "      <th>revenue</th>\n",
       "    </tr>\n",
       "  </thead>\n",
       "  <tbody>\n",
       "    <tr>\n",
       "      <th>0</th>\n",
       "      <td>A</td>\n",
       "      <td>2019-08-01</td>\n",
       "      <td>2266.6</td>\n",
       "    </tr>\n",
       "    <tr>\n",
       "      <th>1</th>\n",
       "      <td>A</td>\n",
       "      <td>2019-08-02</td>\n",
       "      <td>3734.9</td>\n",
       "    </tr>\n",
       "    <tr>\n",
       "      <th>2</th>\n",
       "      <td>A</td>\n",
       "      <td>2019-08-03</td>\n",
       "      <td>5550.1</td>\n",
       "    </tr>\n",
       "    <tr>\n",
       "      <th>3</th>\n",
       "      <td>A</td>\n",
       "      <td>2019-08-04</td>\n",
       "      <td>6225.6</td>\n",
       "    </tr>\n",
       "    <tr>\n",
       "      <th>4</th>\n",
       "      <td>A</td>\n",
       "      <td>2019-08-05</td>\n",
       "      <td>7623.6</td>\n",
       "    </tr>\n",
       "    <tr>\n",
       "      <th>...</th>\n",
       "      <td>...</td>\n",
       "      <td>...</td>\n",
       "      <td>...</td>\n",
       "    </tr>\n",
       "    <tr>\n",
       "      <th>57</th>\n",
       "      <td>B</td>\n",
       "      <td>2019-08-27</td>\n",
       "      <td>71885.0</td>\n",
       "    </tr>\n",
       "    <tr>\n",
       "      <th>58</th>\n",
       "      <td>B</td>\n",
       "      <td>2019-08-28</td>\n",
       "      <td>72895.5</td>\n",
       "    </tr>\n",
       "    <tr>\n",
       "      <th>59</th>\n",
       "      <td>B</td>\n",
       "      <td>2019-08-29</td>\n",
       "      <td>74576.7</td>\n",
       "    </tr>\n",
       "    <tr>\n",
       "      <th>60</th>\n",
       "      <td>B</td>\n",
       "      <td>2019-08-30</td>\n",
       "      <td>77863.5</td>\n",
       "    </tr>\n",
       "    <tr>\n",
       "      <th>61</th>\n",
       "      <td>B</td>\n",
       "      <td>2019-08-31</td>\n",
       "      <td>79651.2</td>\n",
       "    </tr>\n",
       "  </tbody>\n",
       "</table>\n",
       "<p>62 rows × 3 columns</p>\n",
       "</div>"
      ],
      "text/plain": [
       "   group       date  revenue\n",
       "0      A 2019-08-01   2266.6\n",
       "1      A 2019-08-02   3734.9\n",
       "2      A 2019-08-03   5550.1\n",
       "3      A 2019-08-04   6225.6\n",
       "4      A 2019-08-05   7623.6\n",
       "..   ...        ...      ...\n",
       "57     B 2019-08-27  71885.0\n",
       "58     B 2019-08-28  72895.5\n",
       "59     B 2019-08-29  74576.7\n",
       "60     B 2019-08-30  77863.5\n",
       "61     B 2019-08-31  79651.2\n",
       "\n",
       "[62 rows x 3 columns]"
      ]
     },
     "metadata": {},
     "output_type": "display_data"
    }
   ],
   "source": [
    "# Calculate cumulative revenue by group and date\n",
    "cumulative_revenue = (orders.groupby(['group', 'date'])['revenue']\n",
    "                    .sum()\n",
    "                    .groupby(level=0)\n",
    "                    .cumsum()\n",
    "                    .reset_index())\n",
    "display(cumulative_revenue)\n",
    "\n"
   ]
  },
  {
   "cell_type": "code",
   "execution_count": 37,
   "metadata": {
    "trusted": true
   },
   "outputs": [
    {
     "data": {
      "image/png": "[encoded data removed]",
      "text/plain": [
       "<Figure size 1200x600 with 1 Axes>"
      ]
     },
     "metadata": {},
     "output_type": "display_data"
    }
   ],
   "source": [
    "plt.figure(figsize=(12, 6))\n",
    "sns.lineplot(\n",
    "    data=cumulative_revenue,\n",
    "    x=\"date\",\n",
    "    y=\"revenue\",\n",
    "    hue=\"group\",\n",
    "    marker=\"o\"  \n",
    ")\n",
    "\n",
    "plt.title(\"Accumulated Revenue by Group\")\n",
    "plt.xlabel(\"Date\")\n",
    "plt.ylabel(\"Accumulated Revenue\")\n",
    "plt.grid(True, linestyle=\"--\", alpha=0.7)\n",
    "plt.legend(title=\"Group\")\n",
    "plt.show()"
   ]
  },
  {
   "cell_type": "markdown",
   "metadata": {},
   "source": [
    "**Conclusions** <br>\n",
    "Both groups start with similar trends, but around August 20th, Group B shows a noticeably steeper upward slope. This suggests a potential impactful change — such as a successful promotion or marketing campaign — that significantly boosted performance for Group B. Alternatively, this shift may be influenced by outliers or anomalies, which should be examined further in the analysis.\n"
   ]
  },
  {
   "cell_type": "markdown",
   "metadata": {},
   "source": [
    "### 2.- Cumulative Average Order Size by Group"
   ]
  },
  {
   "cell_type": "code",
   "execution_count": null,
   "metadata": {
    "trusted": true
   },
   "outputs": [],
   "source": [
    "# Calculate cumulative orders by group and date\n",
    "cumulative_orders = (\n",
    "    orders.groupby(['group', 'date'])\n",
    "    .agg(total_revenue=('revenue', 'sum'), total_orders=('transactionId', 'count'))\n",
    "    .groupby(level=0)\n",
    "    .cumsum()\n",
    "    .reset_index()\n",
    ")\n",
    "cumulative_orders['average_order_size'] = cumulative_orders['total_revenue'] / cumulative_orders['total_orders']\n"
   ]
  },
  {
   "cell_type": "code",
   "execution_count": null,
   "metadata": {
    "trusted": true
   },
   "outputs": [
    {
     "data": {
      "image/png": "[encoded data removed]",
      "text/plain": [
       "<Figure size 1200x600 with 1 Axes>"
      ]
     },
     "metadata": {},
     "output_type": "display_data"
    }
   ],
   "source": [
    "plt.figure(figsize=(12, 6))\n",
    "sns.lineplot(\n",
    "    data=cumulative_orders,\n",
    "    x=\"date\",\n",
    "    y=\"average_order_size\",\n",
    "    hue=\"group\",\n",
    "    marker=\"o\",\n",
    "    linewidth=2.5\n",
    ")\n",
    "\n",
    "plt.title(\"Mean Cumulative Order Size by Group\", fontsize=14)\n",
    "plt.xlabel(\"Date\", fontsize=12)\n",
    "plt.ylabel(\"Mean Cumulative Order Size (USD)\", fontsize=12)\n",
    "plt.grid(True, linestyle=\"--\", alpha=0.5)\n",
    "plt.legend(title=\"Group\")\n",
    "plt.xticks(rotation=45)\n",
    "plt.tight_layout()\n",
    "plt.show()"
   ]
  },
  {
   "cell_type": "markdown",
   "metadata": {},
   "source": [
    "**Conclusions** <br>\n",
    "Initially, the two groups start with a noticeable gap, with Group B clearly outperforming. This indicates a higher cumulative average for Group B during the early days. While Group A gradually increases, it eventually stabilizes. In contrast, Group B experiences a sharp spike around August 20th, followed by a gradual decline. Despite the drop, Group B ends the period with a strong lead over Group A. This suggests that the spike had a significant impact — potentially due to a successful marketing campaign, a special discount, or even an outlier that should be further investigated."
   ]
  },
  {
   "cell_type": "markdown",
   "metadata": {},
   "source": [
    "### 3.- Relative Difference in Cumulative Average Order Size (B vs. A)"
   ]
  },
  {
   "cell_type": "code",
   "execution_count": null,
   "metadata": {
    "trusted": true
   },
   "outputs": [
    {
     "data": {
      "text/html": [
       "<div>\n",
       "<style scoped>\n",
       "    .dataframe tbody tr th:only-of-type {\n",
       "        vertical-align: middle;\n",
       "    }\n",
       "\n",
       "    .dataframe tbody tr th {\n",
       "        vertical-align: top;\n",
       "    }\n",
       "\n",
       "    .dataframe thead th {\n",
       "        text-align: right;\n",
       "    }\n",
       "</style>\n",
       "<table border=\"1\" class=\"dataframe\">\n",
       "  <thead>\n",
       "    <tr style=\"text-align: right;\">\n",
       "      <th></th>\n",
       "      <th>date</th>\n",
       "      <th>avg_A</th>\n",
       "      <th>avg_B</th>\n",
       "      <th>relative_diff</th>\n",
       "    </tr>\n",
       "  </thead>\n",
       "  <tbody>\n",
       "    <tr>\n",
       "      <th>0</th>\n",
       "      <td>2019-08-01</td>\n",
       "      <td>98.547826</td>\n",
       "      <td>56.894118</td>\n",
       "      <td>-42.267506</td>\n",
       "    </tr>\n",
       "    <tr>\n",
       "      <th>1</th>\n",
       "      <td>2019-08-02</td>\n",
       "      <td>88.926190</td>\n",
       "      <td>88.382500</td>\n",
       "      <td>-0.611395</td>\n",
       "    </tr>\n",
       "    <tr>\n",
       "      <th>2</th>\n",
       "      <td>2019-08-03</td>\n",
       "      <td>84.092424</td>\n",
       "      <td>85.312963</td>\n",
       "      <td>1.451425</td>\n",
       "    </tr>\n",
       "    <tr>\n",
       "      <th>3</th>\n",
       "      <td>2019-08-04</td>\n",
       "      <td>80.851948</td>\n",
       "      <td>90.272059</td>\n",
       "      <td>11.651062</td>\n",
       "    </tr>\n",
       "    <tr>\n",
       "      <th>4</th>\n",
       "      <td>2019-08-05</td>\n",
       "      <td>77.006061</td>\n",
       "      <td>85.256180</td>\n",
       "      <td>10.713597</td>\n",
       "    </tr>\n",
       "  </tbody>\n",
       "</table>\n",
       "</div>"
      ],
      "text/plain": [
       "        date      avg_A      avg_B  relative_diff\n",
       "0 2019-08-01  98.547826  56.894118     -42.267506\n",
       "1 2019-08-02  88.926190  88.382500      -0.611395\n",
       "2 2019-08-03  84.092424  85.312963       1.451425\n",
       "3 2019-08-04  80.851948  90.272059      11.651062\n",
       "4 2019-08-05  77.006061  85.256180      10.713597"
      ]
     },
     "execution_count": 18,
     "metadata": {},
     "output_type": "execute_result"
    }
   ],
   "source": [
    "group_a = cumulative_orders[cumulative_orders[\"group\"] == \"A\"][[\"date\", \"average_order_size\"]]\n",
    "group_b = cumulative_orders[cumulative_orders[\"group\"] == \"B\"][[\"date\", \"average_order_size\"]]\n",
    "\n",
    "comparison = pd.merge(\n",
    "    group_a.rename(columns={\"average_order_size\": \"avg_A\"}),\n",
    "    group_b.rename(columns={\"average_order_size\": \"avg_B\"}),\n",
    "    on=\"date\",\n",
    "    how=\"outer\"\n",
    ")\n",
    "\n",
    "comparison[\"relative_diff\"] = ((comparison[\"avg_B\"] - comparison[\"avg_A\"]) / comparison[\"avg_A\"]) * 100\n",
    "comparison.head()"
   ]
  },
  {
   "cell_type": "code",
   "execution_count": 40,
   "metadata": {
    "trusted": true
   },
   "outputs": [
    {
     "data": {
      "image/png": "[encoded data removed]",
      "text/plain": [
       "<Figure size 1200x600 with 1 Axes>"
      ]
     },
     "metadata": {},
     "output_type": "display_data"
    }
   ],
   "source": [
    "plt.figure(figsize=(12, 6))\n",
    "sns.lineplot(\n",
    "    data=comparison,\n",
    "    x=\"date\",\n",
    "    y=\"relative_diff\",\n",
    "    color=\"#2ecc71\",  \n",
    "    marker=\"o\",\n",
    "    linewidth=2.5\n",
    ")\n",
    "\n",
    "\n",
    "plt.axhline(0, color=\"gray\", linestyle=\"--\", alpha=0.5)\n",
    "\n",
    "plt.title(\"Relative Difference in Mean Cumulative Order Size: Group B vs Group A\", fontsize=14)\n",
    "plt.xlabel(\"Date\", fontsize=12)\n",
    "plt.ylabel(\"Relative Difference (%)\", fontsize=12)\n",
    "plt.grid(True, linestyle=\"--\", alpha=0.5)\n",
    "plt.xticks(rotation=45)\n",
    "plt.tight_layout()\n",
    "plt.show()"
   ]
  },
  {
   "cell_type": "markdown",
   "metadata": {},
   "source": [
    "**Conclusions** <br>\n",
    "Analyzing the graph, we observe that Group B consistently outperforms Group A in terms of cumulative average order value. The largest gap appears around August 20th — similar to other metrics — where the difference reaches nearly 50%, marking the peak advantage of Group B. This further reinforces the conclusion that Group B significantly outperforms Group A throughout the period."
   ]
  },
  {
   "cell_type": "markdown",
   "metadata": {},
   "source": [
    "### 4.- Daily Conversion Rate per Group"
   ]
  },
  {
   "cell_type": "code",
   "execution_count": null,
   "metadata": {
    "trusted": true
   },
   "outputs": [
    {
     "name": "stderr",
     "output_type": "stream",
     "text": [
      "/var/folders/j_/7ll1w8n13nq1q1p7bf8pyjj00000gn/T/ipykernel_72661/3918772380.py:24: DeprecationWarning: DataFrameGroupBy.apply operated on the grouping columns. This behavior is deprecated, and in a future version of pandas the grouping columns will be excluded from the operation. Either pass `include_groups=False` to exclude the groupings or explicitly select the grouping columns after groupby to silence this warning.\n",
      "  .apply(lambda x: x.assign(visitas_acumuladas=x['visits'].cumsum()))\n"
     ]
    },
    {
     "data": {
      "text/html": [
       "<div>\n",
       "<style scoped>\n",
       "    .dataframe tbody tr th:only-of-type {\n",
       "        vertical-align: middle;\n",
       "    }\n",
       "\n",
       "    .dataframe tbody tr th {\n",
       "        vertical-align: top;\n",
       "    }\n",
       "\n",
       "    .dataframe thead th {\n",
       "        text-align: right;\n",
       "    }\n",
       "</style>\n",
       "<table border=\"1\" class=\"dataframe\">\n",
       "  <thead>\n",
       "    <tr style=\"text-align: right;\">\n",
       "      <th></th>\n",
       "      <th>date</th>\n",
       "      <th>group</th>\n",
       "      <th>ordenes_diarias</th>\n",
       "      <th>ordenes_acumuladas</th>\n",
       "      <th>visitas_acumuladas</th>\n",
       "      <th>conversion_rate</th>\n",
       "    </tr>\n",
       "  </thead>\n",
       "  <tbody>\n",
       "    <tr>\n",
       "      <th>0</th>\n",
       "      <td>2019-08-01</td>\n",
       "      <td>A</td>\n",
       "      <td>23</td>\n",
       "      <td>23</td>\n",
       "      <td>719</td>\n",
       "      <td>0.031989</td>\n",
       "    </tr>\n",
       "    <tr>\n",
       "      <th>1</th>\n",
       "      <td>2019-08-02</td>\n",
       "      <td>A</td>\n",
       "      <td>19</td>\n",
       "      <td>42</td>\n",
       "      <td>1338</td>\n",
       "      <td>0.031390</td>\n",
       "    </tr>\n",
       "    <tr>\n",
       "      <th>2</th>\n",
       "      <td>2019-08-03</td>\n",
       "      <td>A</td>\n",
       "      <td>24</td>\n",
       "      <td>66</td>\n",
       "      <td>1845</td>\n",
       "      <td>0.035772</td>\n",
       "    </tr>\n",
       "    <tr>\n",
       "      <th>3</th>\n",
       "      <td>2019-08-04</td>\n",
       "      <td>A</td>\n",
       "      <td>11</td>\n",
       "      <td>77</td>\n",
       "      <td>2562</td>\n",
       "      <td>0.030055</td>\n",
       "    </tr>\n",
       "    <tr>\n",
       "      <th>4</th>\n",
       "      <td>2019-08-05</td>\n",
       "      <td>A</td>\n",
       "      <td>22</td>\n",
       "      <td>99</td>\n",
       "      <td>3318</td>\n",
       "      <td>0.029837</td>\n",
       "    </tr>\n",
       "    <tr>\n",
       "      <th>...</th>\n",
       "      <td>...</td>\n",
       "      <td>...</td>\n",
       "      <td>...</td>\n",
       "      <td>...</td>\n",
       "      <td>...</td>\n",
       "      <td>...</td>\n",
       "    </tr>\n",
       "    <tr>\n",
       "      <th>57</th>\n",
       "      <td>2019-08-27</td>\n",
       "      <td>B</td>\n",
       "      <td>11</td>\n",
       "      <td>473</td>\n",
       "      <td>16523</td>\n",
       "      <td>0.028627</td>\n",
       "    </tr>\n",
       "    <tr>\n",
       "      <th>58</th>\n",
       "      <td>2019-08-28</td>\n",
       "      <td>B</td>\n",
       "      <td>22</td>\n",
       "      <td>495</td>\n",
       "      <td>17177</td>\n",
       "      <td>0.028818</td>\n",
       "    </tr>\n",
       "    <tr>\n",
       "      <th>59</th>\n",
       "      <td>2019-08-29</td>\n",
       "      <td>B</td>\n",
       "      <td>15</td>\n",
       "      <td>510</td>\n",
       "      <td>17708</td>\n",
       "      <td>0.028801</td>\n",
       "    </tr>\n",
       "    <tr>\n",
       "      <th>60</th>\n",
       "      <td>2019-08-30</td>\n",
       "      <td>B</td>\n",
       "      <td>21</td>\n",
       "      <td>531</td>\n",
       "      <td>18198</td>\n",
       "      <td>0.029179</td>\n",
       "    </tr>\n",
       "    <tr>\n",
       "      <th>61</th>\n",
       "      <td>2019-08-31</td>\n",
       "      <td>B</td>\n",
       "      <td>17</td>\n",
       "      <td>548</td>\n",
       "      <td>18916</td>\n",
       "      <td>0.028970</td>\n",
       "    </tr>\n",
       "  </tbody>\n",
       "</table>\n",
       "<p>62 rows × 6 columns</p>\n",
       "</div>"
      ],
      "text/plain": [
       "         date group  ordenes_diarias  ordenes_acumuladas  visitas_acumuladas  \\\n",
       "0  2019-08-01     A               23                  23                 719   \n",
       "1  2019-08-02     A               19                  42                1338   \n",
       "2  2019-08-03     A               24                  66                1845   \n",
       "3  2019-08-04     A               11                  77                2562   \n",
       "4  2019-08-05     A               22                  99                3318   \n",
       "..        ...   ...              ...                 ...                 ...   \n",
       "57 2019-08-27     B               11                 473               16523   \n",
       "58 2019-08-28     B               22                 495               17177   \n",
       "59 2019-08-29     B               15                 510               17708   \n",
       "60 2019-08-30     B               21                 531               18198   \n",
       "61 2019-08-31     B               17                 548               18916   \n",
       "\n",
       "    conversion_rate  \n",
       "0          0.031989  \n",
       "1          0.031390  \n",
       "2          0.035772  \n",
       "3          0.030055  \n",
       "4          0.029837  \n",
       "..              ...  \n",
       "57         0.028627  \n",
       "58         0.028818  \n",
       "59         0.028801  \n",
       "60         0.029179  \n",
       "61         0.028970  \n",
       "\n",
       "[62 rows x 6 columns]"
      ]
     },
     "execution_count": 22,
     "metadata": {},
     "output_type": "execute_result"
    }
   ],
   "source": [
    "# unique orders per day and group\n",
    "ordenes_unicas_dia_grupo = (\n",
    "    orders[['date','group','transactionId']]\n",
    "    .sort_values(by='date',ascending=True)\n",
    "    .groupby(['date','group'])\n",
    "    .nunique()\n",
    "    .reset_index()\n",
    "    .rename(columns={'transactionId':'ordenes_diarias'})\n",
    "    \n",
    ")\n",
    "\n",
    "ordenes_acumuladas = (\n",
    "    ordenes_unicas_dia_grupo\n",
    "    .groupby('group')[['date','group','ordenes_diarias']]\n",
    "    .apply(lambda x: x.sort_values('date').assign(ordenes_acumuladas=lambda x: x['ordenes_diarias'].cumsum()))\n",
    "    .reset_index(drop=True)\n",
    ")\n",
    "\n",
    "# acumulative visits by group and date\n",
    "visitas_acumuladas = (\n",
    "    visits\n",
    "    .sort_values(['group', 'date'])  \n",
    "    .groupby('group', group_keys=False)  \n",
    "    .apply(lambda x: x.assign(visitas_acumuladas=x['visits'].cumsum()))\n",
    "    [['date', 'group', 'visitas_acumuladas']]\n",
    ")\n",
    "\n",
    "#merge cumulative orders and visits\n",
    "merged_data = ordenes_acumuladas.merge(\n",
    "    visitas_acumuladas,\n",
    "    on=['date','group'],\n",
    "    how='inner'\n",
    ")\n",
    "\n",
    "merged_data['conversion_rate'] = merged_data['ordenes_acumuladas'] / merged_data['visitas_acumuladas']\n",
    "\n",
    "merged_data\n"
   ]
  },
  {
   "cell_type": "code",
   "execution_count": 41,
   "metadata": {
    "trusted": true
   },
   "outputs": [
    {
     "data": {
      "image/png": "[encoded data removed]",
      "text/plain": [
       "<Figure size 1200x600 with 1 Axes>"
      ]
     },
     "metadata": {},
     "output_type": "display_data"
    }
   ],
   "source": [
    "plt.figure(figsize=(12, 6))\n",
    "sns.lineplot(\n",
    "    data=merged_data,\n",
    "    x=\"date\",\n",
    "    y=\"conversion_rate\",\n",
    "    hue=\"group\",\n",
    "    marker=\"o\",\n",
    "    linewidth=2.5\n",
    ")\n",
    "\n",
    "plt.title(\"Conversion Rate by Group\", fontsize=14)\n",
    "plt.xlabel(\"Date\", fontsize=12)\n",
    "plt.ylabel(\"Conversion Rate\", fontsize=12)\n",
    "plt.grid(True, linestyle=\"--\", alpha=0.5)\n",
    "plt.legend(title=\"Group\")\n",
    "plt.xticks(rotation=45)\n",
    "plt.tight_layout()\n",
    "plt.show()"
   ]
  },
  {
   "cell_type": "markdown",
   "metadata": {},
   "source": [
    "**Conclusions** <br>\n",
    "When analyzing the cumulative data, it becomes evident that Group B achieves a higher conversion rate compared to Group A. Although Group A initially leads, Group B surpasses it after a few days and maintains the lead throughout the rest of the period."
   ]
  },
  {
   "cell_type": "markdown",
   "metadata": {},
   "source": [
    "### 5.- Scatter Plot: Number of Orders per User"
   ]
  },
  {
   "cell_type": "code",
   "execution_count": 43,
   "metadata": {
    "trusted": true
   },
   "outputs": [
    {
     "data": {
      "image/png": "[encoded data removed]",
      "text/plain": [
       "<Figure size 1200x600 with 1 Axes>"
      ]
     },
     "metadata": {},
     "output_type": "display_data"
    }
   ],
   "source": [
    "# group by user and count orders\n",
    "orders_per_user = (\n",
    "    orders.groupby(\"visitorId\")[\"transactionId\"]\n",
    "    .count()\n",
    "    .reset_index()\n",
    "    .rename(columns={\"transactionId\": \"total_orders\"})\n",
    ")\n",
    "\n",
    "plt.figure(figsize=(12, 6))\n",
    "plt.scatter(\n",
    "    x=range(len(orders_per_user)),  \n",
    "    y=orders_per_user[\"total_orders\"],\n",
    "    alpha=0.5,  \n",
    "    color=\"#0a63f0\"\n",
    ")\n",
    "\n",
    "plt.title(\"Distribution of Orders by User\", fontsize=14)\n",
    "plt.xlabel(\"Users\")\n",
    "plt.ylabel(\"Number of Orders per User\")\n",
    "plt.grid(True, linestyle=\"--\", alpha=0.5)"
   ]
  },
  {
   "cell_type": "markdown",
   "metadata": {},
   "source": [
    "**Conclusions** <br>\n",
    "Most users placed only one order, with very few making two — these can be considered returning users. Only seven users placed three orders, potentially indicating the most loyal customers. Interestingly, there are no outliers in the data, which is a positive sign suggesting there were no errors or fraudulent orders."
   ]
  },
  {
   "cell_type": "markdown",
   "metadata": {},
   "source": [
    "### 6.- Order Count Anomaly Detection"
   ]
  },
  {
   "cell_type": "code",
   "execution_count": 44,
   "metadata": {
    "trusted": true
   },
   "outputs": [
    {
     "name": "stdout",
     "output_type": "stream",
     "text": [
      "Percentiles 90/95/99: [1. 1. 2.]\n"
     ]
    }
   ],
   "source": [
    "print('Percentiles 90/95/99:', np.percentile(orders_per_user[\"total_orders\"], [90, 95, 99]))"
   ]
  },
  {
   "cell_type": "markdown",
   "metadata": {},
   "source": [
    "**Conclusions** <br>\n",
    "As we see in the graph above, a little less than 1% make greater than or equal to 2 orders."
   ]
  },
  {
   "cell_type": "markdown",
   "metadata": {},
   "source": [
    "### 7.- Scatter Plot: Order Prices"
   ]
  },
  {
   "cell_type": "code",
   "execution_count": 45,
   "metadata": {
    "trusted": true
   },
   "outputs": [
    {
     "data": {
      "image/png": "[encoded data removed]",
      "text/plain": [
       "<Figure size 1400x700 with 1 Axes>"
      ]
     },
     "metadata": {},
     "output_type": "display_data"
    }
   ],
   "source": [
    "plt.figure(figsize=(14, 7))\n",
    "plt.scatter(\n",
    "    x= range(len(orders[\"revenue\"])),\n",
    "    y=orders[\"revenue\"],\n",
    "    alpha=0.6,        \n",
    "    color=\"#0a63f0\",  \n",
    "    label=\"Price per Order\"\n",
    ")\n",
    "\n",
    "\n",
    "plt.title(\"Distribution of Order Prices\", fontsize=16)\n",
    "plt.xlabel(\"Index\", fontsize=12)\n",
    "plt.ylabel(\"Order Price (USD)\", fontsize=12)\n",
    "plt.grid(True, linestyle=\"--\", alpha=0.4)\n",
    "plt.legend()\n",
    "plt.show()"
   ]
  },
  {
   "cell_type": "markdown",
   "metadata": {},
   "source": [
    "**Conclusions** <br>\n",
    "Most orders do not exceed 1000 dollars, which is fine, but we can see that there are two specific atypical orders, one above 2500 and one already at 20000, which is extremely atypical and something that had not been seen before. We need to see the perentiles to know how the orders are really distributed."
   ]
  },
  {
   "cell_type": "markdown",
   "metadata": {},
   "source": [
    "### 8.- Order Price Anomaly Detection"
   ]
  },
  {
   "cell_type": "code",
   "execution_count": 46,
   "metadata": {
    "trusted": true
   },
   "outputs": [
    {
     "name": "stdout",
     "output_type": "stream",
     "text": [
      "Percentiles 90/95/99: [280.8   414.275 830.3  ]\n"
     ]
    }
   ],
   "source": [
    "print('Percentiles 90/95/99:', np.percentile(orders[\"revenue\"], [90, 95, 99]))"
   ]
  },
  {
   "cell_type": "markdown",
   "metadata": {},
   "source": [
    "**Conclusions** <br> \n",
    "It is confirmed that 95% of orders do not exceed $415 per order, the point where it becomes an anomaly would be orders above $830, which less than 1% of the data meets."
   ]
  },
  {
   "cell_type": "markdown",
   "metadata": {},
   "source": [
    "### 9.- Statistical Significance Tests (Raw Data)"
   ]
  },
  {
   "cell_type": "code",
   "execution_count": 47,
   "metadata": {
    "trusted": true
   },
   "outputs": [
    {
     "data": {
      "text/html": [
       "<div>\n",
       "<style scoped>\n",
       "    .dataframe tbody tr th:only-of-type {\n",
       "        vertical-align: middle;\n",
       "    }\n",
       "\n",
       "    .dataframe tbody tr th {\n",
       "        vertical-align: top;\n",
       "    }\n",
       "\n",
       "    .dataframe thead th {\n",
       "        text-align: right;\n",
       "    }\n",
       "</style>\n",
       "<table border=\"1\" class=\"dataframe\">\n",
       "  <thead>\n",
       "    <tr style=\"text-align: right;\">\n",
       "      <th></th>\n",
       "      <th>visits_total</th>\n",
       "      <th>conversions</th>\n",
       "      <th>conversion_rate</th>\n",
       "    </tr>\n",
       "    <tr>\n",
       "      <th>group</th>\n",
       "      <th></th>\n",
       "      <th></th>\n",
       "      <th></th>\n",
       "    </tr>\n",
       "  </thead>\n",
       "  <tbody>\n",
       "    <tr>\n",
       "      <th>A</th>\n",
       "      <td>18736</td>\n",
       "      <td>468</td>\n",
       "      <td>0.024979</td>\n",
       "    </tr>\n",
       "    <tr>\n",
       "      <th>B</th>\n",
       "      <td>18916</td>\n",
       "      <td>548</td>\n",
       "      <td>0.028970</td>\n",
       "    </tr>\n",
       "  </tbody>\n",
       "</table>\n",
       "</div>"
      ],
      "text/plain": [
       "       visits_total  conversions  conversion_rate\n",
       "group                                            \n",
       "A             18736          468         0.024979\n",
       "B             18916          548         0.028970"
      ]
     },
     "metadata": {},
     "output_type": "display_data"
    }
   ],
   "source": [
    "# Calculate total visits and conversions by group\n",
    "visits_total = visits.groupby('group')['visits'].sum()\n",
    "# Calculate total conversions by group\n",
    "conversions_total = orders.groupby('group')['transactionId'].nunique()\n",
    "\n",
    "summary = pd.DataFrame({\n",
    "    'visits_total': visits_total,\n",
    "    'conversions': conversions_total\n",
    "})\n",
    "\n",
    "# Calculate conversion rate\n",
    "summary['conversion_rate'] = summary['conversions'] / summary['visits_total']\n",
    "display(summary)"
   ]
  },
  {
   "cell_type": "code",
   "execution_count": 49,
   "metadata": {
    "trusted": true
   },
   "outputs": [
    {
     "name": "stdout",
     "output_type": "stream",
     "text": [
      "Z-stat: -2.3899\n",
      "P-value: 0.0169\n",
      "Significant difference (p = 0.0169)\n",
      "There is statistical evidence that one group has better conversion.\n"
     ]
    }
   ],
   "source": [
    "conversions = summary['conversions'].values\n",
    "visits_values = summary['visits_total'].values\n",
    "z_stat, p_val = proportions_ztest(conversions, visits_values)\n",
    "\n",
    "print(f\"Z-stat: {z_stat:.4f}\")\n",
    "print(f\"P-value: {p_val:.4f}\")\n",
    "\n",
    "alpha = 0.05 \n",
    "\n",
    "if p_val > alpha:\n",
    "    print(f\"There is no significant difference (p = {p_val:.4f})\")\n",
    "    print(\"We cannot conclude that one group converts better than the other.\")\n",
    "else:\n",
    "    print(f\"Significant difference (p = {p_val:.4f})\")\n",
    "    print(\"There is statistical evidence that one group has better conversion.\")"
   ]
  },
  {
   "cell_type": "markdown",
   "metadata": {},
   "source": [
    "**Conclusions** <br> \n",
    " Since the z-value is negative, this indicates that group B has a better conversion rate, and since the p-value is less than alpha, this means that there is a group that clearly has a better conversion, in this case group B."
   ]
  },
  {
   "cell_type": "code",
   "execution_count": 50,
   "metadata": {
    "trusted": true
   },
   "outputs": [
    {
     "name": "stdout",
     "output_type": "stream",
     "text": [
      "U-stat: 129041.5\n",
      "P-value: 0.8622\n",
      "There is no significant difference in average order size.\n"
     ]
    }
   ],
   "source": [
    "group_A = orders[orders['group'] == 'A']['revenue']\n",
    "group_B = orders[orders['group'] == 'B']['revenue']\n",
    "\n",
    "# Apply robust Mann-Whitney U test\n",
    "u_stat, pval_rev = stats.mannwhitneyu(group_A, group_B, alternative='two-sided')\n",
    "print(f\"U-stat: {u_stat}\")\n",
    "print(f\"P-value: {pval_rev:.4f}\")\n",
    "\n",
    "alpha = 0.05\n",
    "\n",
    "if pval_rev > alpha:\n",
    "    print(\"There is no significant difference in average order size.\")\n",
    "else:\n",
    "    print(\"There is a significant difference in average order size.\")"
   ]
  },
  {
   "cell_type": "markdown",
   "metadata": {},
   "source": [
    "**Conclusions** <br> \n",
    "Seeing that there is no significant difference in the average order, this suggests that both groups spend approximately the same when purchasing, but if we take the data that group B has better conversion, it is still ahead.\n"
   ]
  },
  {
   "cell_type": "markdown",
   "metadata": {},
   "source": [
    "### 11.- Statistical Significance Tests (Filtered Data) "
   ]
  },
  {
   "cell_type": "code",
   "execution_count": 51,
   "metadata": {
    "trusted": true
   },
   "outputs": [
    {
     "name": "stdout",
     "output_type": "stream",
     "text": [
      "654.56\n",
      "       visits_total  conversions  conversion_rate\n",
      "group                                            \n",
      "A             18736          454         0.024231\n",
      "B             18916          541         0.028600\n"
     ]
    }
   ],
   "source": [
    "revenue_threshold = orders['revenue'].quantile(.98).round(2)\n",
    "print(revenue_threshold)\n",
    "# Filter DataFrame\n",
    "filtered_orders = orders[orders['revenue'] <= revenue_threshold]\n",
    "# Group to count filtered conversions\n",
    "filtered_conversions = filtered_orders.groupby('group')['transactionId'].nunique()\n",
    "filtered_summary = pd.DataFrame({\n",
    "    'visits_total': visits_total,\n",
    "    'conversions': filtered_conversions\n",
    "})\n",
    "# Calculate conversion rate\n",
    "filtered_summary['conversion_rate'] = filtered_summary['conversions'] / filtered_summary['visits_total']\n",
    "print(filtered_summary)"
   ]
  },
  {
   "cell_type": "code",
   "execution_count": 52,
   "metadata": {
    "trusted": true
   },
   "outputs": [
    {
     "name": "stdout",
     "output_type": "stream",
     "text": [
      "Z-stat: -2.6425\n",
      "P-value: 0.0082\n",
      "Significant difference (p = 0.0082)\n",
      "There is statistical evidence that one group has better conversion.\n"
     ]
    }
   ],
   "source": [
    "# We apply the same test but now with the filtered df\n",
    "conversions = filtered_summary['conversions'].values\n",
    "visits_values = filtered_summary['visits_total'].values\n",
    "z_stat, p_val = proportions_ztest(conversions, visits_values)\n",
    "\n",
    "print(f\"Z-stat: {z_stat:.4f}\")\n",
    "print(f\"P-value: {p_val:.4f}\")\n",
    "\n",
    "alpha = 0.05 \n",
    "\n",
    "if p_val > alpha:\n",
    "    print(f\"There is no significant difference (p = {p_val:.4f})\")\n",
    "    print(\"We cannot conclude that one group converts better than the other.\")\n",
    "else:\n",
    "    print(f\"Significant difference (p = {p_val:.4f})\")\n",
    "    print(\"There is statistical evidence that one group has better conversion.\")"
   ]
  },
  {
   "cell_type": "markdown",
   "metadata": {},
   "source": [
    "**Conclusion** <br> \n",
    "When filtering the df we realize that there was not that much difference, since the atypical values were very few, seeing that the p-value is less than alpha and without atypical values, we can conclude with more certainty that B has a better conversion than A"
   ]
  },
  {
   "cell_type": "code",
   "execution_count": 53,
   "metadata": {
    "trusted": true
   },
   "outputs": [
    {
     "name": "stdout",
     "output_type": "stream",
     "text": [
      "U-stat: 121437.0\n",
      "P-value: 0.7616\n",
      "There is no significant difference in average order size.\n"
     ]
    }
   ],
   "source": [
    "group_A = filtered_orders[filtered_orders['group'] == 'A']['revenue']\n",
    "group_B = filtered_orders[filtered_orders['group'] == 'B']['revenue']\n",
    "\n",
    "# Apply robust Mann-Whitney U test\n",
    "u_stat, p_value = stats.mannwhitneyu(group_A, group_B, alternative='two-sided')\n",
    "print(f\"U-stat: {u_stat}\")\n",
    "print(f\"P-value: {p_value:.4f}\")\n",
    "\n",
    "alpha = 0.05\n",
    "if p_value > alpha:\n",
    "    print(\"There is no significant difference in average order size.\")\n",
    "else:\n",
    "    print(\"There is a significant difference in average order size.\")"
   ]
  },
  {
   "cell_type": "markdown",
   "metadata": {},
   "source": [
    "**conclusion**<br>\n",
    "Once again, with the leaked data, there is not enough statistical evidence to affirm that there is a difference in the average order size between groups A and B. However, seeing that B has a better conversion, it continues ahead."
   ]
  },
  {
   "cell_type": "markdown",
   "metadata": {},
   "source": [
    "## Conclusion\n"
   ]
  },
  {
   "cell_type": "markdown",
   "metadata": {},
   "source": [
    "On one hand, the conversion test showed that Group B performs **significantly** better in terms of conversion rate. On the other hand, there is no statistically significant difference in average order value between the groups. This indicates that Group B converts better without compromising the value per transaction. Therefore, it is recommended to stop the test and adopt Group B as the winning variant."
   ]
  }
 ],
 "metadata": {
  "ExecuteTimeLog": [
   {
    "duration": 2486,
    "start_time": "2025-05-02T15:22:47.186Z"
   },
   {
    "duration": 2,
    "start_time": "2025-05-02T15:22:59.783Z"
   },
   {
    "duration": 23,
    "start_time": "2025-05-02T15:24:25.148Z"
   },
   {
    "duration": 222,
    "start_time": "2025-05-02T15:47:03.068Z"
   },
   {
    "duration": 11,
    "start_time": "2025-05-02T15:47:08.504Z"
   },
   {
    "duration": 17,
    "start_time": "2025-05-02T15:47:26.228Z"
   },
   {
    "duration": 14,
    "start_time": "2025-05-02T15:49:19.675Z"
   },
   {
    "duration": 12,
    "start_time": "2025-05-02T15:49:21.698Z"
   },
   {
    "duration": 14,
    "start_time": "2025-05-02T15:50:31.728Z"
   },
   {
    "duration": 5,
    "start_time": "2025-05-02T15:51:10.256Z"
   },
   {
    "duration": 7,
    "start_time": "2025-05-02T15:59:49.283Z"
   },
   {
    "duration": 7,
    "start_time": "2025-05-02T16:00:03.998Z"
   },
   {
    "duration": 7,
    "start_time": "2025-05-02T16:00:08.191Z"
   },
   {
    "duration": 7,
    "start_time": "2025-05-02T16:00:14.662Z"
   },
   {
    "duration": 6,
    "start_time": "2025-05-02T16:00:19.695Z"
   },
   {
    "duration": 17,
    "start_time": "2025-05-02T16:48:44.660Z"
   },
   {
    "duration": 566,
    "start_time": "2025-05-02T16:49:51.631Z"
   },
   {
    "duration": 9,
    "start_time": "2025-05-02T16:50:22.859Z"
   },
   {
    "duration": 10,
    "start_time": "2025-05-02T16:50:39.322Z"
   },
   {
    "duration": 27,
    "start_time": "2025-05-02T16:57:15.792Z"
   },
   {
    "duration": 12,
    "start_time": "2025-05-02T16:57:23.008Z"
   },
   {
    "duration": 23,
    "start_time": "2025-05-02T16:57:31.184Z"
   },
   {
    "duration": 18,
    "start_time": "2025-05-02T16:57:34.632Z"
   },
   {
    "duration": 14,
    "start_time": "2025-05-02T16:58:10.680Z"
   },
   {
    "duration": 6,
    "start_time": "2025-05-02T16:58:21.845Z"
   },
   {
    "duration": 275,
    "start_time": "2025-05-02T16:59:11.937Z"
   },
   {
    "duration": 18,
    "start_time": "2025-05-02T16:59:51.339Z"
   },
   {
    "duration": 164,
    "start_time": "2025-05-02T18:38:02.047Z"
   },
   {
    "duration": 2711,
    "start_time": "2025-05-02T18:38:07.977Z"
   },
   {
    "duration": 30,
    "start_time": "2025-05-02T18:38:10.690Z"
   },
   {
    "duration": 19,
    "start_time": "2025-05-02T18:38:10.722Z"
   },
   {
    "duration": 20,
    "start_time": "2025-05-02T18:38:10.743Z"
   },
   {
    "duration": 7,
    "start_time": "2025-05-02T18:38:10.767Z"
   },
   {
    "duration": 18,
    "start_time": "2025-05-02T18:38:10.777Z"
   },
   {
    "duration": 39,
    "start_time": "2025-05-02T18:38:10.797Z"
   },
   {
    "duration": 5,
    "start_time": "2025-05-02T18:38:10.838Z"
   },
   {
    "duration": 7,
    "start_time": "2025-05-02T18:38:10.845Z"
   },
   {
    "duration": 221,
    "start_time": "2025-05-02T18:39:19.457Z"
   },
   {
    "duration": 7,
    "start_time": "2025-05-02T18:39:36.357Z"
   },
   {
    "duration": 7,
    "start_time": "2025-05-02T18:39:41.393Z"
   },
   {
    "duration": 5,
    "start_time": "2025-05-02T18:40:34.952Z"
   },
   {
    "duration": 8,
    "start_time": "2025-05-02T18:40:38.683Z"
   },
   {
    "duration": 24,
    "start_time": "2025-05-02T18:42:05.933Z"
   },
   {
    "duration": 18,
    "start_time": "2025-05-02T18:42:33.654Z"
   },
   {
    "duration": 8,
    "start_time": "2025-05-02T18:42:39.168Z"
   },
   {
    "duration": 10,
    "start_time": "2025-05-02T18:43:13.724Z"
   },
   {
    "duration": 10,
    "start_time": "2025-05-02T18:43:16.444Z"
   },
   {
    "duration": 9,
    "start_time": "2025-05-02T18:43:26.109Z"
   },
   {
    "duration": 7,
    "start_time": "2025-05-02T18:44:32.462Z"
   },
   {
    "duration": 8,
    "start_time": "2025-05-02T18:44:51.968Z"
   },
   {
    "duration": 10,
    "start_time": "2025-05-02T18:44:58.028Z"
   },
   {
    "duration": 11,
    "start_time": "2025-05-02T18:45:53.927Z"
   },
   {
    "duration": 5,
    "start_time": "2025-05-02T18:46:48.567Z"
   },
   {
    "duration": 8,
    "start_time": "2025-05-02T18:53:59.263Z"
   },
   {
    "duration": 326,
    "start_time": "2025-05-02T18:56:19.829Z"
   },
   {
    "duration": 46,
    "start_time": "2025-05-02T18:57:18.563Z"
   },
   {
    "duration": 6,
    "start_time": "2025-05-02T18:58:43.005Z"
   },
   {
    "duration": 314,
    "start_time": "2025-05-02T19:04:10.007Z"
   },
   {
    "duration": 9,
    "start_time": "2025-05-02T19:04:15.405Z"
   },
   {
    "duration": 19,
    "start_time": "2025-05-02T19:04:26.361Z"
   },
   {
    "duration": 16,
    "start_time": "2025-05-02T19:04:52.999Z"
   },
   {
    "duration": 2662,
    "start_time": "2025-05-06T23:46:48.396Z"
   },
   {
    "duration": 22,
    "start_time": "2025-05-06T23:46:51.060Z"
   },
   {
    "duration": 16,
    "start_time": "2025-05-06T23:46:51.083Z"
   },
   {
    "duration": 13,
    "start_time": "2025-05-06T23:46:51.100Z"
   },
   {
    "duration": 14,
    "start_time": "2025-05-06T23:46:51.115Z"
   },
   {
    "duration": 13,
    "start_time": "2025-05-06T23:46:51.131Z"
   },
   {
    "duration": 11,
    "start_time": "2025-05-06T23:46:51.147Z"
   },
   {
    "duration": 7,
    "start_time": "2025-05-06T23:46:51.160Z"
   },
   {
    "duration": 10,
    "start_time": "2025-05-06T23:46:51.168Z"
   },
   {
    "duration": 13,
    "start_time": "2025-05-06T23:46:51.179Z"
   },
   {
    "duration": 38,
    "start_time": "2025-05-06T23:46:51.193Z"
   },
   {
    "duration": 10,
    "start_time": "2025-05-06T23:46:51.232Z"
   },
   {
    "duration": 13,
    "start_time": "2025-05-06T23:46:51.244Z"
   },
   {
    "duration": 282,
    "start_time": "2025-05-06T23:54:51.096Z"
   },
   {
    "duration": 887,
    "start_time": "2025-05-06T23:55:09.253Z"
   },
   {
    "duration": 13,
    "start_time": "2025-05-06T23:55:10.143Z"
   },
   {
    "duration": 16,
    "start_time": "2025-05-06T23:55:10.158Z"
   },
   {
    "duration": 14,
    "start_time": "2025-05-06T23:55:10.176Z"
   },
   {
    "duration": 30,
    "start_time": "2025-05-06T23:55:10.194Z"
   },
   {
    "duration": 21,
    "start_time": "2025-05-06T23:55:10.226Z"
   },
   {
    "duration": 14,
    "start_time": "2025-05-06T23:55:10.249Z"
   },
   {
    "duration": 6,
    "start_time": "2025-05-06T23:55:10.265Z"
   },
   {
    "duration": 8,
    "start_time": "2025-05-06T23:55:10.273Z"
   },
   {
    "duration": 47,
    "start_time": "2025-05-06T23:55:10.283Z"
   },
   {
    "duration": 13,
    "start_time": "2025-05-06T23:55:10.332Z"
   },
   {
    "duration": 12,
    "start_time": "2025-05-06T23:55:10.347Z"
   },
   {
    "duration": 14,
    "start_time": "2025-05-06T23:55:10.361Z"
   },
   {
    "duration": 318,
    "start_time": "2025-05-06T23:55:10.378Z"
   },
   {
    "duration": 234,
    "start_time": "2025-05-06T23:55:25.898Z"
   },
   {
    "duration": 16,
    "start_time": "2025-05-06T23:55:40.580Z"
   },
   {
    "duration": 15,
    "start_time": "2025-05-06T23:56:13.121Z"
   },
   {
    "duration": 14,
    "start_time": "2025-05-06T23:56:17.807Z"
   },
   {
    "duration": 227,
    "start_time": "2025-05-06T23:56:19.224Z"
   },
   {
    "duration": 255,
    "start_time": "2025-05-06T23:56:21.378Z"
   },
   {
    "duration": 302,
    "start_time": "2025-05-06T23:56:42.090Z"
   },
   {
    "duration": 343,
    "start_time": "2025-05-06T23:57:25.914Z"
   },
   {
    "duration": 5,
    "start_time": "2025-05-07T00:01:35.924Z"
   },
   {
    "duration": 13,
    "start_time": "2025-05-07T00:05:33.620Z"
   },
   {
    "duration": 15,
    "start_time": "2025-05-07T00:11:55.807Z"
   },
   {
    "duration": 8,
    "start_time": "2025-05-07T00:12:00.252Z"
   },
   {
    "duration": 25,
    "start_time": "2025-05-07T00:13:39.446Z"
   },
   {
    "duration": 25,
    "start_time": "2025-05-07T00:13:45.621Z"
   },
   {
    "duration": 25,
    "start_time": "2025-05-07T00:13:51.549Z"
   },
   {
    "duration": 25,
    "start_time": "2025-05-07T00:13:55.049Z"
   },
   {
    "duration": 15,
    "start_time": "2025-05-07T00:14:04.484Z"
   },
   {
    "duration": 22,
    "start_time": "2025-05-07T00:14:15.683Z"
   },
   {
    "duration": 26,
    "start_time": "2025-05-07T00:15:07.149Z"
   },
   {
    "duration": 308,
    "start_time": "2025-05-07T00:15:12.437Z"
   },
   {
    "duration": 337,
    "start_time": "2025-05-07T00:15:55.749Z"
   },
   {
    "duration": 22,
    "start_time": "2025-05-07T00:26:33.706Z"
   },
   {
    "duration": 279,
    "start_time": "2025-05-07T00:26:40.776Z"
   },
   {
    "duration": 340,
    "start_time": "2025-05-07T00:27:13.497Z"
   },
   {
    "duration": 7,
    "start_time": "2025-05-07T00:49:24.159Z"
   },
   {
    "duration": 12,
    "start_time": "2025-05-07T00:49:45.517Z"
   },
   {
    "duration": 18,
    "start_time": "2025-05-07T00:50:08.517Z"
   },
   {
    "duration": 133,
    "start_time": "2025-05-07T00:51:44.052Z"
   },
   {
    "duration": 16,
    "start_time": "2025-05-07T00:52:01.630Z"
   },
   {
    "duration": 17,
    "start_time": "2025-05-07T00:53:50.210Z"
   },
   {
    "duration": 426,
    "start_time": "2025-05-07T00:53:52.130Z"
   },
   {
    "duration": 17,
    "start_time": "2025-05-07T01:39:46.345Z"
   },
   {
    "duration": 22,
    "start_time": "2025-05-07T01:40:04.548Z"
   },
   {
    "duration": 21,
    "start_time": "2025-05-07T01:40:35.389Z"
   },
   {
    "duration": 313,
    "start_time": "2025-05-07T01:41:30.337Z"
   },
   {
    "duration": 342,
    "start_time": "2025-05-07T01:42:34.320Z"
   },
   {
    "duration": 26,
    "start_time": "2025-05-07T01:44:31.058Z"
   },
   {
    "duration": 4,
    "start_time": "2025-05-07T01:44:42.385Z"
   },
   {
    "duration": 7,
    "start_time": "2025-05-07T01:44:46.736Z"
   },
   {
    "duration": 9,
    "start_time": "2025-05-07T02:02:16.951Z"
   },
   {
    "duration": 7,
    "start_time": "2025-05-07T02:02:37.687Z"
   },
   {
    "duration": 169,
    "start_time": "2025-05-07T02:04:06.987Z"
   },
   {
    "duration": 145,
    "start_time": "2025-05-07T02:11:34.385Z"
   },
   {
    "duration": 4,
    "start_time": "2025-05-07T02:16:50.568Z"
   },
   {
    "duration": 4,
    "start_time": "2025-05-07T02:30:48.916Z"
   },
   {
    "duration": 188,
    "start_time": "2025-05-07T02:30:53.913Z"
   },
   {
    "duration": 10,
    "start_time": "2025-05-07T02:31:20.637Z"
   },
   {
    "duration": 183,
    "start_time": "2025-05-07T02:32:10.682Z"
   },
   {
    "duration": 4,
    "start_time": "2025-05-07T02:32:51.483Z"
   },
   {
    "duration": 6,
    "start_time": "2025-05-07T02:37:48.586Z"
   },
   {
    "duration": 6,
    "start_time": "2025-05-07T02:38:02.251Z"
   },
   {
    "duration": 4,
    "start_time": "2025-05-07T02:38:15.085Z"
   },
   {
    "duration": 2548,
    "start_time": "2025-05-07T16:16:52.745Z"
   },
   {
    "duration": 25,
    "start_time": "2025-05-07T16:16:55.296Z"
   },
   {
    "duration": 15,
    "start_time": "2025-05-07T16:16:55.323Z"
   },
   {
    "duration": 14,
    "start_time": "2025-05-07T16:16:55.339Z"
   },
   {
    "duration": 5,
    "start_time": "2025-05-07T16:16:55.355Z"
   },
   {
    "duration": 14,
    "start_time": "2025-05-07T16:16:55.362Z"
   },
   {
    "duration": 11,
    "start_time": "2025-05-07T16:16:55.378Z"
   },
   {
    "duration": 5,
    "start_time": "2025-05-07T16:16:55.391Z"
   },
   {
    "duration": 47,
    "start_time": "2025-05-07T16:16:55.397Z"
   },
   {
    "duration": 10,
    "start_time": "2025-05-07T16:16:55.445Z"
   },
   {
    "duration": 8,
    "start_time": "2025-05-07T16:16:55.456Z"
   },
   {
    "duration": 9,
    "start_time": "2025-05-07T16:16:55.467Z"
   },
   {
    "duration": 247,
    "start_time": "2025-05-07T16:16:55.478Z"
   },
   {
    "duration": 0,
    "start_time": "2025-05-07T16:16:55.728Z"
   },
   {
    "duration": 0,
    "start_time": "2025-05-07T16:16:55.729Z"
   },
   {
    "duration": 0,
    "start_time": "2025-05-07T16:16:55.730Z"
   },
   {
    "duration": 0,
    "start_time": "2025-05-07T16:16:55.732Z"
   },
   {
    "duration": 0,
    "start_time": "2025-05-07T16:16:55.733Z"
   },
   {
    "duration": 0,
    "start_time": "2025-05-07T16:16:55.743Z"
   },
   {
    "duration": 0,
    "start_time": "2025-05-07T16:16:55.744Z"
   },
   {
    "duration": 0,
    "start_time": "2025-05-07T16:16:55.745Z"
   },
   {
    "duration": 0,
    "start_time": "2025-05-07T16:16:55.747Z"
   },
   {
    "duration": 0,
    "start_time": "2025-05-07T16:16:55.748Z"
   },
   {
    "duration": 0,
    "start_time": "2025-05-07T16:16:55.749Z"
   },
   {
    "duration": 822,
    "start_time": "2025-05-07T16:17:26.972Z"
   },
   {
    "duration": 12,
    "start_time": "2025-05-07T16:17:27.796Z"
   },
   {
    "duration": 14,
    "start_time": "2025-05-07T16:17:27.809Z"
   },
   {
    "duration": 24,
    "start_time": "2025-05-07T16:17:27.825Z"
   },
   {
    "duration": 5,
    "start_time": "2025-05-07T16:17:27.852Z"
   },
   {
    "duration": 14,
    "start_time": "2025-05-07T16:17:27.859Z"
   },
   {
    "duration": 10,
    "start_time": "2025-05-07T16:17:27.875Z"
   },
   {
    "duration": 4,
    "start_time": "2025-05-07T16:17:27.887Z"
   },
   {
    "duration": 6,
    "start_time": "2025-05-07T16:17:27.893Z"
   },
   {
    "duration": 49,
    "start_time": "2025-05-07T16:17:27.900Z"
   },
   {
    "duration": 9,
    "start_time": "2025-05-07T16:17:27.951Z"
   },
   {
    "duration": 10,
    "start_time": "2025-05-07T16:17:27.961Z"
   },
   {
    "duration": 14,
    "start_time": "2025-05-07T16:17:27.973Z"
   },
   {
    "duration": 265,
    "start_time": "2025-05-07T16:17:27.990Z"
   },
   {
    "duration": 13,
    "start_time": "2025-05-07T16:17:28.257Z"
   },
   {
    "duration": 323,
    "start_time": "2025-05-07T16:17:28.272Z"
   },
   {
    "duration": 16,
    "start_time": "2025-05-07T16:17:28.597Z"
   },
   {
    "duration": 396,
    "start_time": "2025-05-07T16:17:28.614Z"
   },
   {
    "duration": 21,
    "start_time": "2025-05-07T16:17:29.011Z"
   },
   {
    "duration": 338,
    "start_time": "2025-05-07T16:17:29.033Z"
   },
   {
    "duration": 159,
    "start_time": "2025-05-07T16:17:29.373Z"
   },
   {
    "duration": 11,
    "start_time": "2025-05-07T16:17:29.534Z"
   },
   {
    "duration": 201,
    "start_time": "2025-05-07T16:17:29.547Z"
   },
   {
    "duration": 5,
    "start_time": "2025-05-07T16:17:29.750Z"
   },
   {
    "duration": 11,
    "start_time": "2025-05-07T16:22:55.121Z"
   },
   {
    "duration": 12,
    "start_time": "2025-05-07T16:32:51.425Z"
   },
   {
    "duration": 14,
    "start_time": "2025-05-07T16:33:29.852Z"
   },
   {
    "duration": 15,
    "start_time": "2025-05-07T16:33:30.032Z"
   },
   {
    "duration": 223,
    "start_time": "2025-05-07T16:40:50.259Z"
   },
   {
    "duration": 8,
    "start_time": "2025-05-07T16:41:07.955Z"
   },
   {
    "duration": 8,
    "start_time": "2025-05-07T16:42:43.723Z"
   },
   {
    "duration": 8,
    "start_time": "2025-05-07T16:42:53.926Z"
   },
   {
    "duration": 7,
    "start_time": "2025-05-07T16:44:09.717Z"
   },
   {
    "duration": 4,
    "start_time": "2025-05-07T16:44:28.208Z"
   },
   {
    "duration": 4,
    "start_time": "2025-05-07T16:45:07.754Z"
   },
   {
    "duration": 4,
    "start_time": "2025-05-07T16:45:12.434Z"
   },
   {
    "duration": 3,
    "start_time": "2025-05-07T16:45:31.652Z"
   },
   {
    "duration": 4,
    "start_time": "2025-05-07T16:45:51.719Z"
   },
   {
    "duration": 4,
    "start_time": "2025-05-07T16:57:23.247Z"
   },
   {
    "duration": 4,
    "start_time": "2025-05-07T16:59:55.799Z"
   },
   {
    "duration": 5,
    "start_time": "2025-05-07T17:09:14.708Z"
   },
   {
    "duration": 7,
    "start_time": "2025-05-07T17:09:25.533Z"
   },
   {
    "duration": 8,
    "start_time": "2025-05-07T17:10:28.444Z"
   },
   {
    "duration": 7,
    "start_time": "2025-05-07T17:12:14.869Z"
   },
   {
    "duration": 8,
    "start_time": "2025-05-07T17:12:31.004Z"
   },
   {
    "duration": 7,
    "start_time": "2025-05-07T17:12:37.841Z"
   },
   {
    "duration": 8,
    "start_time": "2025-05-07T17:21:59.225Z"
   },
   {
    "duration": 6,
    "start_time": "2025-05-07T17:51:28.183Z"
   },
   {
    "duration": 6,
    "start_time": "2025-05-07T17:51:35.270Z"
   },
   {
    "duration": 5,
    "start_time": "2025-05-07T17:51:38.068Z"
   },
   {
    "duration": 5,
    "start_time": "2025-05-07T17:51:51.070Z"
   },
   {
    "duration": 5,
    "start_time": "2025-05-07T17:51:56.700Z"
   },
   {
    "duration": 13,
    "start_time": "2025-05-07T17:52:15.571Z"
   },
   {
    "duration": 12,
    "start_time": "2025-05-07T17:52:31.869Z"
   },
   {
    "duration": 110,
    "start_time": "2025-05-07T17:52:40.112Z"
   },
   {
    "duration": 13,
    "start_time": "2025-05-07T17:52:44.512Z"
   },
   {
    "duration": 13,
    "start_time": "2025-05-07T17:52:56.255Z"
   },
   {
    "duration": 12,
    "start_time": "2025-05-07T17:53:08.189Z"
   },
   {
    "duration": 11,
    "start_time": "2025-05-07T17:53:16.351Z"
   },
   {
    "duration": 6,
    "start_time": "2025-05-07T17:54:11.471Z"
   },
   {
    "duration": 7,
    "start_time": "2025-05-07T17:54:41.868Z"
   },
   {
    "duration": 9,
    "start_time": "2025-05-07T17:54:59.984Z"
   },
   {
    "duration": 9,
    "start_time": "2025-05-07T17:55:11.812Z"
   },
   {
    "duration": 12,
    "start_time": "2025-05-07T17:55:17.484Z"
   },
   {
    "duration": 10,
    "start_time": "2025-05-07T17:55:24.856Z"
   },
   {
    "duration": 9,
    "start_time": "2025-05-07T17:55:30.420Z"
   },
   {
    "duration": 9,
    "start_time": "2025-05-07T17:57:22.185Z"
   },
   {
    "duration": 8,
    "start_time": "2025-05-07T17:57:26.305Z"
   },
   {
    "duration": 4,
    "start_time": "2025-05-07T17:58:31.857Z"
   },
   {
    "duration": 5,
    "start_time": "2025-05-07T17:58:47.038Z"
   },
   {
    "duration": 7,
    "start_time": "2025-05-07T18:12:44.777Z"
   },
   {
    "duration": 11,
    "start_time": "2025-05-07T18:13:39.749Z"
   },
   {
    "duration": 9,
    "start_time": "2025-05-07T18:13:55.469Z"
   },
   {
    "duration": 8,
    "start_time": "2025-05-07T18:15:18.584Z"
   },
   {
    "duration": 7,
    "start_time": "2025-05-07T18:15:43.312Z"
   },
   {
    "duration": 7,
    "start_time": "2025-05-07T18:15:53.992Z"
   },
   {
    "duration": 8,
    "start_time": "2025-05-07T18:16:14.676Z"
   },
   {
    "duration": 3671,
    "start_time": "2025-05-07T21:49:15.741Z"
   },
   {
    "duration": 44,
    "start_time": "2025-05-07T21:49:19.415Z"
   },
   {
    "duration": 21,
    "start_time": "2025-05-07T21:49:19.461Z"
   },
   {
    "duration": 17,
    "start_time": "2025-05-07T21:49:19.485Z"
   },
   {
    "duration": 16,
    "start_time": "2025-05-07T21:49:19.505Z"
   },
   {
    "duration": 22,
    "start_time": "2025-05-07T21:49:19.525Z"
   },
   {
    "duration": 12,
    "start_time": "2025-05-07T21:49:19.549Z"
   },
   {
    "duration": 6,
    "start_time": "2025-05-07T21:49:19.563Z"
   },
   {
    "duration": 8,
    "start_time": "2025-05-07T21:49:19.570Z"
   },
   {
    "duration": 30,
    "start_time": "2025-05-07T21:49:19.583Z"
   },
   {
    "duration": 17,
    "start_time": "2025-05-07T21:49:19.623Z"
   },
   {
    "duration": 18,
    "start_time": "2025-05-07T21:49:19.644Z"
   },
   {
    "duration": 15,
    "start_time": "2025-05-07T21:49:19.665Z"
   },
   {
    "duration": 354,
    "start_time": "2025-05-07T21:49:19.682Z"
   },
   {
    "duration": 25,
    "start_time": "2025-05-07T21:49:20.039Z"
   },
   {
    "duration": 401,
    "start_time": "2025-05-07T21:49:20.066Z"
   },
   {
    "duration": 15,
    "start_time": "2025-05-07T21:49:20.469Z"
   },
   {
    "duration": 406,
    "start_time": "2025-05-07T21:49:20.485Z"
   },
   {
    "duration": 32,
    "start_time": "2025-05-07T21:49:20.893Z"
   },
   {
    "duration": 421,
    "start_time": "2025-05-07T21:49:20.927Z"
   },
   {
    "duration": 171,
    "start_time": "2025-05-07T21:49:21.350Z"
   },
   {
    "duration": 11,
    "start_time": "2025-05-07T21:49:21.523Z"
   },
   {
    "duration": 290,
    "start_time": "2025-05-07T21:49:21.541Z"
   },
   {
    "duration": 12,
    "start_time": "2025-05-07T21:49:21.836Z"
   },
   {
    "duration": 9,
    "start_time": "2025-05-07T21:49:21.853Z"
   },
   {
    "duration": 5,
    "start_time": "2025-05-07T21:49:21.863Z"
   },
   {
    "duration": 290,
    "start_time": "2025-05-07T21:49:21.869Z"
   },
   {
    "duration": 0,
    "start_time": "2025-05-07T21:49:22.160Z"
   },
   {
    "duration": 0,
    "start_time": "2025-05-07T21:49:22.161Z"
   },
   {
    "duration": 0,
    "start_time": "2025-05-07T21:49:22.163Z"
   },
   {
    "duration": 3171,
    "start_time": "2025-05-08T20:41:14.518Z"
   },
   {
    "duration": 31,
    "start_time": "2025-05-08T20:41:17.691Z"
   },
   {
    "duration": 18,
    "start_time": "2025-05-08T20:41:17.724Z"
   },
   {
    "duration": 13,
    "start_time": "2025-05-08T20:41:17.744Z"
   },
   {
    "duration": 6,
    "start_time": "2025-05-08T20:41:17.759Z"
   },
   {
    "duration": 15,
    "start_time": "2025-05-08T20:41:17.767Z"
   },
   {
    "duration": 15,
    "start_time": "2025-05-08T20:41:17.783Z"
   },
   {
    "duration": 6,
    "start_time": "2025-05-08T20:41:17.799Z"
   },
   {
    "duration": 9,
    "start_time": "2025-05-08T20:41:17.806Z"
   },
   {
    "duration": 15,
    "start_time": "2025-05-08T20:41:17.817Z"
   },
   {
    "duration": 14,
    "start_time": "2025-05-08T20:41:17.833Z"
   },
   {
    "duration": 11,
    "start_time": "2025-05-08T20:41:17.851Z"
   },
   {
    "duration": 32,
    "start_time": "2025-05-08T20:41:17.889Z"
   },
   {
    "duration": 303,
    "start_time": "2025-05-08T20:41:17.928Z"
   },
   {
    "duration": 18,
    "start_time": "2025-05-08T20:41:18.234Z"
   },
   {
    "duration": 398,
    "start_time": "2025-05-08T20:41:18.254Z"
   },
   {
    "duration": 20,
    "start_time": "2025-05-08T20:41:18.658Z"
   },
   {
    "duration": 371,
    "start_time": "2025-05-08T20:41:18.679Z"
   },
   {
    "duration": 21,
    "start_time": "2025-05-08T20:41:19.052Z"
   },
   {
    "duration": 375,
    "start_time": "2025-05-08T20:41:19.075Z"
   },
   {
    "duration": 202,
    "start_time": "2025-05-08T20:41:19.454Z"
   },
   {
    "duration": 6,
    "start_time": "2025-05-08T20:41:19.658Z"
   },
   {
    "duration": 269,
    "start_time": "2025-05-08T20:41:19.666Z"
   },
   {
    "duration": 4,
    "start_time": "2025-05-08T20:41:19.937Z"
   },
   {
    "duration": 8,
    "start_time": "2025-05-08T20:41:19.943Z"
   },
   {
    "duration": 4,
    "start_time": "2025-05-08T20:41:19.953Z"
   },
   {
    "duration": 384,
    "start_time": "2025-05-08T20:41:19.959Z"
   },
   {
    "duration": 0,
    "start_time": "2025-05-08T20:41:20.345Z"
   },
   {
    "duration": 0,
    "start_time": "2025-05-08T20:41:20.346Z"
   },
   {
    "duration": 0,
    "start_time": "2025-05-08T20:41:20.347Z"
   },
   {
    "duration": 16,
    "start_time": "2025-05-08T20:48:22.818Z"
   },
   {
    "duration": 12,
    "start_time": "2025-05-08T20:49:01.621Z"
   },
   {
    "duration": 12,
    "start_time": "2025-05-08T20:55:14.677Z"
   },
   {
    "duration": 18,
    "start_time": "2025-05-08T20:55:38.129Z"
   },
   {
    "duration": 15,
    "start_time": "2025-05-08T20:56:03.778Z"
   },
   {
    "duration": 17,
    "start_time": "2025-05-08T20:56:37.498Z"
   },
   {
    "duration": 18,
    "start_time": "2025-05-08T20:57:59.866Z"
   },
   {
    "duration": 19,
    "start_time": "2025-05-08T20:58:12.136Z"
   },
   {
    "duration": 17,
    "start_time": "2025-05-08T20:58:55.330Z"
   },
   {
    "duration": 318,
    "start_time": "2025-05-08T20:59:35.032Z"
   },
   {
    "duration": 181,
    "start_time": "2025-05-08T21:01:41.636Z"
   },
   {
    "duration": 374,
    "start_time": "2025-05-08T21:01:52.484Z"
   },
   {
    "duration": 12,
    "start_time": "2025-05-08T21:04:14.151Z"
   },
   {
    "duration": 3057,
    "start_time": "2025-05-09T09:28:49.650Z"
   },
   {
    "duration": 25,
    "start_time": "2025-05-09T09:28:52.709Z"
   },
   {
    "duration": 17,
    "start_time": "2025-05-09T09:28:52.735Z"
   },
   {
    "duration": 17,
    "start_time": "2025-05-09T09:28:52.754Z"
   },
   {
    "duration": 6,
    "start_time": "2025-05-09T09:28:52.772Z"
   },
   {
    "duration": 18,
    "start_time": "2025-05-09T09:28:52.780Z"
   },
   {
    "duration": 13,
    "start_time": "2025-05-09T09:28:52.799Z"
   },
   {
    "duration": 30,
    "start_time": "2025-05-09T09:28:52.814Z"
   },
   {
    "duration": 8,
    "start_time": "2025-05-09T09:28:52.845Z"
   },
   {
    "duration": 15,
    "start_time": "2025-05-09T09:28:52.856Z"
   },
   {
    "duration": 10,
    "start_time": "2025-05-09T09:28:52.872Z"
   },
   {
    "duration": 9,
    "start_time": "2025-05-09T09:28:52.884Z"
   },
   {
    "duration": 14,
    "start_time": "2025-05-09T09:28:52.895Z"
   },
   {
    "duration": 306,
    "start_time": "2025-05-09T09:28:52.911Z"
   },
   {
    "duration": 15,
    "start_time": "2025-05-09T09:28:53.219Z"
   },
   {
    "duration": 347,
    "start_time": "2025-05-09T09:28:53.235Z"
   },
   {
    "duration": 16,
    "start_time": "2025-05-09T09:28:53.584Z"
   },
   {
    "duration": 383,
    "start_time": "2025-05-09T09:28:53.602Z"
   },
   {
    "duration": 20,
    "start_time": "2025-05-09T09:28:56.341Z"
   },
   {
    "duration": 817,
    "start_time": "2025-05-09T09:31:31.804Z"
   },
   {
    "duration": 12,
    "start_time": "2025-05-09T09:31:32.623Z"
   },
   {
    "duration": 17,
    "start_time": "2025-05-09T09:31:32.637Z"
   },
   {
    "duration": 13,
    "start_time": "2025-05-09T09:31:32.657Z"
   },
   {
    "duration": 6,
    "start_time": "2025-05-09T09:31:32.672Z"
   },
   {
    "duration": 20,
    "start_time": "2025-05-09T09:31:32.679Z"
   },
   {
    "duration": 43,
    "start_time": "2025-05-09T09:31:32.700Z"
   },
   {
    "duration": 5,
    "start_time": "2025-05-09T09:31:32.745Z"
   },
   {
    "duration": 7,
    "start_time": "2025-05-09T09:31:32.752Z"
   },
   {
    "duration": 12,
    "start_time": "2025-05-09T09:31:32.762Z"
   },
   {
    "duration": 10,
    "start_time": "2025-05-09T09:31:32.776Z"
   },
   {
    "duration": 9,
    "start_time": "2025-05-09T09:31:32.788Z"
   },
   {
    "duration": 49,
    "start_time": "2025-05-09T09:31:32.799Z"
   },
   {
    "duration": 274,
    "start_time": "2025-05-09T09:31:32.850Z"
   },
   {
    "duration": 39,
    "start_time": "2025-05-09T09:31:33.126Z"
   },
   {
    "duration": 323,
    "start_time": "2025-05-09T09:31:33.168Z"
   },
   {
    "duration": 16,
    "start_time": "2025-05-09T09:31:33.493Z"
   },
   {
    "duration": 406,
    "start_time": "2025-05-09T09:31:33.510Z"
   },
   {
    "duration": 18,
    "start_time": "2025-05-09T09:31:33.918Z"
   },
   {
    "duration": 348,
    "start_time": "2025-05-09T09:31:33.938Z"
   },
   {
    "duration": 180,
    "start_time": "2025-05-09T09:31:34.288Z"
   },
   {
    "duration": 4,
    "start_time": "2025-05-09T09:31:34.471Z"
   },
   {
    "duration": 219,
    "start_time": "2025-05-09T09:31:34.477Z"
   },
   {
    "duration": 5,
    "start_time": "2025-05-09T09:31:34.698Z"
   },
   {
    "duration": 8,
    "start_time": "2025-05-09T09:31:34.704Z"
   },
   {
    "duration": 4,
    "start_time": "2025-05-09T09:31:34.713Z"
   },
   {
    "duration": 6,
    "start_time": "2025-05-09T09:31:34.719Z"
   },
   {
    "duration": 33,
    "start_time": "2025-05-09T09:31:34.729Z"
   },
   {
    "duration": 5,
    "start_time": "2025-05-09T09:31:34.770Z"
   },
   {
    "duration": 261,
    "start_time": "2025-05-09T09:31:34.776Z"
   },
   {
    "duration": 8,
    "start_time": "2025-05-09T09:32:06.340Z"
   },
   {
    "duration": 169,
    "start_time": "2025-05-09T12:40:51.259Z"
   },
   {
    "duration": 2600,
    "start_time": "2025-05-09T12:40:59.171Z"
   },
   {
    "duration": 24,
    "start_time": "2025-05-09T12:41:01.774Z"
   },
   {
    "duration": 15,
    "start_time": "2025-05-09T12:41:01.800Z"
   },
   {
    "duration": 13,
    "start_time": "2025-05-09T12:41:01.819Z"
   },
   {
    "duration": 5,
    "start_time": "2025-05-09T12:41:01.835Z"
   },
   {
    "duration": 15,
    "start_time": "2025-05-09T12:41:01.842Z"
   },
   {
    "duration": 11,
    "start_time": "2025-05-09T12:41:01.859Z"
   },
   {
    "duration": 5,
    "start_time": "2025-05-09T12:41:01.872Z"
   },
   {
    "duration": 43,
    "start_time": "2025-05-09T12:41:01.879Z"
   },
   {
    "duration": 10,
    "start_time": "2025-05-09T12:41:01.924Z"
   },
   {
    "duration": 9,
    "start_time": "2025-05-09T12:41:01.936Z"
   },
   {
    "duration": 10,
    "start_time": "2025-05-09T12:41:01.947Z"
   },
   {
    "duration": 14,
    "start_time": "2025-05-09T12:41:01.959Z"
   },
   {
    "duration": 281,
    "start_time": "2025-05-09T12:41:01.975Z"
   },
   {
    "duration": 15,
    "start_time": "2025-05-09T12:41:02.258Z"
   },
   {
    "duration": 375,
    "start_time": "2025-05-09T12:41:02.275Z"
   },
   {
    "duration": 16,
    "start_time": "2025-05-09T12:41:02.651Z"
   },
   {
    "duration": 342,
    "start_time": "2025-05-09T12:41:02.669Z"
   },
   {
    "duration": 173,
    "start_time": "2025-05-09T12:41:03.013Z"
   },
   {
    "duration": 0,
    "start_time": "2025-05-09T12:41:03.189Z"
   },
   {
    "duration": 0,
    "start_time": "2025-05-09T12:41:03.190Z"
   },
   {
    "duration": 0,
    "start_time": "2025-05-09T12:41:03.191Z"
   },
   {
    "duration": 0,
    "start_time": "2025-05-09T12:41:03.192Z"
   },
   {
    "duration": 0,
    "start_time": "2025-05-09T12:41:03.193Z"
   },
   {
    "duration": 0,
    "start_time": "2025-05-09T12:41:03.194Z"
   },
   {
    "duration": 0,
    "start_time": "2025-05-09T12:41:03.196Z"
   },
   {
    "duration": 0,
    "start_time": "2025-05-09T12:41:03.197Z"
   },
   {
    "duration": 0,
    "start_time": "2025-05-09T12:41:03.198Z"
   },
   {
    "duration": 0,
    "start_time": "2025-05-09T12:41:03.199Z"
   },
   {
    "duration": 0,
    "start_time": "2025-05-09T12:41:03.200Z"
   },
   {
    "duration": 787,
    "start_time": "2025-05-09T12:43:19.324Z"
   },
   {
    "duration": 12,
    "start_time": "2025-05-09T12:43:20.113Z"
   },
   {
    "duration": 15,
    "start_time": "2025-05-09T12:43:20.126Z"
   },
   {
    "duration": 12,
    "start_time": "2025-05-09T12:43:20.142Z"
   },
   {
    "duration": 6,
    "start_time": "2025-05-09T12:43:20.156Z"
   },
   {
    "duration": 14,
    "start_time": "2025-05-09T12:43:20.163Z"
   },
   {
    "duration": 10,
    "start_time": "2025-05-09T12:43:20.179Z"
   },
   {
    "duration": 4,
    "start_time": "2025-05-09T12:43:20.220Z"
   },
   {
    "duration": 6,
    "start_time": "2025-05-09T12:43:20.225Z"
   },
   {
    "duration": 8,
    "start_time": "2025-05-09T12:43:20.233Z"
   },
   {
    "duration": 10,
    "start_time": "2025-05-09T12:43:20.243Z"
   },
   {
    "duration": 9,
    "start_time": "2025-05-09T12:43:20.255Z"
   },
   {
    "duration": 14,
    "start_time": "2025-05-09T12:43:20.265Z"
   },
   {
    "duration": 243,
    "start_time": "2025-05-09T12:43:20.321Z"
   },
   {
    "duration": 14,
    "start_time": "2025-05-09T12:43:20.566Z"
   },
   {
    "duration": 351,
    "start_time": "2025-05-09T12:43:20.582Z"
   },
   {
    "duration": 14,
    "start_time": "2025-05-09T12:43:20.935Z"
   },
   {
    "duration": 398,
    "start_time": "2025-05-09T12:43:20.951Z"
   },
   {
    "duration": 166,
    "start_time": "2025-05-09T12:43:21.351Z"
   },
   {
    "duration": 0,
    "start_time": "2025-05-09T12:43:21.519Z"
   },
   {
    "duration": 0,
    "start_time": "2025-05-09T12:43:21.520Z"
   },
   {
    "duration": 0,
    "start_time": "2025-05-09T12:43:21.521Z"
   },
   {
    "duration": 0,
    "start_time": "2025-05-09T12:43:21.522Z"
   },
   {
    "duration": 0,
    "start_time": "2025-05-09T12:43:21.523Z"
   },
   {
    "duration": 0,
    "start_time": "2025-05-09T12:43:21.523Z"
   },
   {
    "duration": 0,
    "start_time": "2025-05-09T12:43:21.524Z"
   },
   {
    "duration": 0,
    "start_time": "2025-05-09T12:43:21.525Z"
   },
   {
    "duration": 0,
    "start_time": "2025-05-09T12:43:21.525Z"
   },
   {
    "duration": 0,
    "start_time": "2025-05-09T12:43:21.526Z"
   },
   {
    "duration": 0,
    "start_time": "2025-05-09T12:43:21.527Z"
   },
   {
    "duration": 40,
    "start_time": "2025-05-09T12:43:39.202Z"
   },
   {
    "duration": 42,
    "start_time": "2025-05-09T12:43:50.248Z"
   },
   {
    "duration": 9,
    "start_time": "2025-05-09T12:44:04.062Z"
   },
   {
    "duration": 8,
    "start_time": "2025-05-09T12:44:56.015Z"
   },
   {
    "duration": 14,
    "start_time": "2025-05-09T12:45:00.700Z"
   },
   {
    "duration": 14,
    "start_time": "2025-05-09T12:45:35.047Z"
   },
   {
    "duration": 18,
    "start_time": "2025-05-09T12:45:40.211Z"
   },
   {
    "duration": 19,
    "start_time": "2025-05-09T12:46:38.146Z"
   },
   {
    "duration": 23,
    "start_time": "2025-05-09T12:46:48.769Z"
   },
   {
    "duration": 23,
    "start_time": "2025-05-09T12:47:30.266Z"
   },
   {
    "duration": 32,
    "start_time": "2025-05-09T12:47:35.132Z"
   },
   {
    "duration": 29,
    "start_time": "2025-05-09T12:48:14.751Z"
   },
   {
    "duration": 29,
    "start_time": "2025-05-09T12:48:19.752Z"
   },
   {
    "duration": 39,
    "start_time": "2025-05-09T12:48:43.729Z"
   },
   {
    "duration": 26,
    "start_time": "2025-05-09T12:50:05.170Z"
   },
   {
    "duration": 27,
    "start_time": "2025-05-09T12:50:15.575Z"
   },
   {
    "duration": 24,
    "start_time": "2025-05-09T12:50:51.392Z"
   },
   {
    "duration": 32,
    "start_time": "2025-05-09T12:50:56.937Z"
   },
   {
    "duration": 25,
    "start_time": "2025-05-09T12:51:28.842Z"
   },
   {
    "duration": 34,
    "start_time": "2025-05-09T12:51:33.654Z"
   },
   {
    "duration": 296,
    "start_time": "2025-05-09T12:52:15.455Z"
   },
   {
    "duration": 309,
    "start_time": "2025-05-09T12:52:39.018Z"
   },
   {
    "duration": 297,
    "start_time": "2025-05-09T12:52:44.449Z"
   },
   {
    "duration": 2518,
    "start_time": "2025-05-10T11:52:46.290Z"
   },
   {
    "duration": 24,
    "start_time": "2025-05-10T11:52:48.810Z"
   },
   {
    "duration": 15,
    "start_time": "2025-05-10T11:52:48.836Z"
   },
   {
    "duration": 13,
    "start_time": "2025-05-10T11:52:48.852Z"
   },
   {
    "duration": 5,
    "start_time": "2025-05-10T11:52:48.868Z"
   },
   {
    "duration": 14,
    "start_time": "2025-05-10T11:52:48.875Z"
   },
   {
    "duration": 11,
    "start_time": "2025-05-10T11:52:48.890Z"
   },
   {
    "duration": 41,
    "start_time": "2025-05-10T11:52:48.902Z"
   },
   {
    "duration": 7,
    "start_time": "2025-05-10T11:52:48.944Z"
   },
   {
    "duration": 13,
    "start_time": "2025-05-10T11:52:48.953Z"
   },
   {
    "duration": 12,
    "start_time": "2025-05-10T11:52:48.968Z"
   },
   {
    "duration": 11,
    "start_time": "2025-05-10T11:52:48.982Z"
   },
   {
    "duration": 14,
    "start_time": "2025-05-10T11:52:48.994Z"
   },
   {
    "duration": 249,
    "start_time": "2025-05-10T11:52:49.042Z"
   },
   {
    "duration": 15,
    "start_time": "2025-05-10T11:52:49.293Z"
   },
   {
    "duration": 368,
    "start_time": "2025-05-10T11:52:49.310Z"
   },
   {
    "duration": 14,
    "start_time": "2025-05-10T11:52:49.681Z"
   },
   {
    "duration": 364,
    "start_time": "2025-05-10T11:52:49.698Z"
   },
   {
    "duration": 37,
    "start_time": "2025-05-10T11:52:50.064Z"
   },
   {
    "duration": 359,
    "start_time": "2025-05-10T11:52:50.103Z"
   },
   {
    "duration": 217,
    "start_time": "2025-05-10T11:52:50.465Z"
   },
   {
    "duration": 4,
    "start_time": "2025-05-10T11:52:50.684Z"
   },
   {
    "duration": 203,
    "start_time": "2025-05-10T11:52:50.690Z"
   },
   {
    "duration": 4,
    "start_time": "2025-05-10T11:52:50.895Z"
   },
   {
    "duration": 8,
    "start_time": "2025-05-10T11:52:50.900Z"
   },
   {
    "duration": 5,
    "start_time": "2025-05-10T11:52:50.910Z"
   },
   {
    "duration": 29,
    "start_time": "2025-05-10T11:52:50.916Z"
   },
   {
    "duration": 9,
    "start_time": "2025-05-10T11:52:50.946Z"
   },
   {
    "duration": 4,
    "start_time": "2025-05-10T11:52:50.957Z"
   },
   {
    "duration": 7,
    "start_time": "2025-05-10T11:52:50.963Z"
   },
   {
    "duration": 4,
    "start_time": "2025-05-10T11:55:27.069Z"
   },
   {
    "duration": 11,
    "start_time": "2025-05-10T11:55:44.144Z"
   },
   {
    "duration": 8,
    "start_time": "2025-05-10T11:55:51.070Z"
   },
   {
    "duration": 34,
    "start_time": "2025-05-10T11:57:33.113Z"
   },
   {
    "duration": 32,
    "start_time": "2025-05-10T11:57:36.030Z"
   },
   {
    "duration": 32,
    "start_time": "2025-05-10T11:57:36.639Z"
   },
   {
    "duration": 3,
    "start_time": "2025-05-10T11:57:45.662Z"
   },
   {
    "duration": 13,
    "start_time": "2025-05-10T11:57:45.667Z"
   },
   {
    "duration": 12,
    "start_time": "2025-05-10T11:57:45.681Z"
   },
   {
    "duration": 12,
    "start_time": "2025-05-10T11:57:45.696Z"
   },
   {
    "duration": 5,
    "start_time": "2025-05-10T11:57:45.709Z"
   },
   {
    "duration": 27,
    "start_time": "2025-05-10T11:57:45.716Z"
   },
   {
    "duration": 11,
    "start_time": "2025-05-10T11:57:45.745Z"
   },
   {
    "duration": 5,
    "start_time": "2025-05-10T11:57:45.757Z"
   },
   {
    "duration": 6,
    "start_time": "2025-05-10T11:57:45.765Z"
   },
   {
    "duration": 10,
    "start_time": "2025-05-10T11:57:45.772Z"
   },
   {
    "duration": 8,
    "start_time": "2025-05-10T11:57:45.783Z"
   },
   {
    "duration": 9,
    "start_time": "2025-05-10T11:57:45.793Z"
   },
   {
    "duration": 51,
    "start_time": "2025-05-10T11:57:45.803Z"
   },
   {
    "duration": 221,
    "start_time": "2025-05-10T11:57:45.855Z"
   },
   {
    "duration": 15,
    "start_time": "2025-05-10T11:57:46.077Z"
   },
   {
    "duration": 352,
    "start_time": "2025-05-10T11:57:46.093Z"
   },
   {
    "duration": 14,
    "start_time": "2025-05-10T11:57:46.447Z"
   },
   {
    "duration": 342,
    "start_time": "2025-05-10T11:57:46.463Z"
   },
   {
    "duration": 8,
    "start_time": "2025-05-10T11:57:46.807Z"
   },
   {
    "duration": 11,
    "start_time": "2025-05-10T11:58:02.359Z"
   },
   {
    "duration": 561,
    "start_time": "2025-05-10T11:58:13.743Z"
   },
   {
    "duration": 9,
    "start_time": "2025-05-10T11:58:44.215Z"
   },
   {
    "duration": 3,
    "start_time": "2025-05-10T11:58:55.988Z"
   },
   {
    "duration": 33,
    "start_time": "2025-05-10T11:58:57.496Z"
   },
   {
    "duration": 334,
    "start_time": "2025-05-10T11:59:01.520Z"
   },
   {
    "duration": 797,
    "start_time": "2025-05-10T12:04:06.714Z"
   },
   {
    "duration": 12,
    "start_time": "2025-05-10T12:04:07.513Z"
   },
   {
    "duration": 22,
    "start_time": "2025-05-10T12:04:07.526Z"
   },
   {
    "duration": 13,
    "start_time": "2025-05-10T12:04:07.549Z"
   },
   {
    "duration": 5,
    "start_time": "2025-05-10T12:04:07.564Z"
   },
   {
    "duration": 15,
    "start_time": "2025-05-10T12:04:07.571Z"
   },
   {
    "duration": 11,
    "start_time": "2025-05-10T12:04:07.587Z"
   },
   {
    "duration": 5,
    "start_time": "2025-05-10T12:04:07.599Z"
   },
   {
    "duration": 42,
    "start_time": "2025-05-10T12:04:07.605Z"
   },
   {
    "duration": 8,
    "start_time": "2025-05-10T12:04:07.649Z"
   },
   {
    "duration": 7,
    "start_time": "2025-05-10T12:04:07.659Z"
   },
   {
    "duration": 8,
    "start_time": "2025-05-10T12:04:07.668Z"
   },
   {
    "duration": 12,
    "start_time": "2025-05-10T12:04:07.678Z"
   },
   {
    "duration": 254,
    "start_time": "2025-05-10T12:04:07.694Z"
   },
   {
    "duration": 13,
    "start_time": "2025-05-10T12:04:07.949Z"
   },
   {
    "duration": 343,
    "start_time": "2025-05-10T12:04:07.964Z"
   },
   {
    "duration": 13,
    "start_time": "2025-05-10T12:04:08.310Z"
   },
   {
    "duration": 394,
    "start_time": "2025-05-10T12:04:08.325Z"
   },
   {
    "duration": 43,
    "start_time": "2025-05-10T12:04:08.721Z"
   },
   {
    "duration": 315,
    "start_time": "2025-05-10T12:04:08.766Z"
   },
   {
    "duration": 155,
    "start_time": "2025-05-10T12:04:09.083Z"
   },
   {
    "duration": 3,
    "start_time": "2025-05-10T12:04:09.242Z"
   },
   {
    "duration": 197,
    "start_time": "2025-05-10T12:04:09.247Z"
   },
   {
    "duration": 4,
    "start_time": "2025-05-10T12:04:09.446Z"
   },
   {
    "duration": 8,
    "start_time": "2025-05-10T12:04:09.452Z"
   },
   {
    "duration": 4,
    "start_time": "2025-05-10T12:04:09.462Z"
   },
   {
    "duration": 7,
    "start_time": "2025-05-10T12:04:09.467Z"
   },
   {
    "duration": 8,
    "start_time": "2025-05-10T12:04:09.476Z"
   },
   {
    "duration": 4,
    "start_time": "2025-05-10T12:04:09.486Z"
   },
   {
    "duration": 7,
    "start_time": "2025-05-10T12:04:09.491Z"
   },
   {
    "duration": 171,
    "start_time": "2025-05-10T14:37:05.108Z"
   },
   {
    "duration": 2604,
    "start_time": "2025-05-10T14:37:18.970Z"
   },
   {
    "duration": 23,
    "start_time": "2025-05-10T14:37:21.576Z"
   },
   {
    "duration": 15,
    "start_time": "2025-05-10T14:37:21.601Z"
   },
   {
    "duration": 14,
    "start_time": "2025-05-10T14:37:21.617Z"
   },
   {
    "duration": 5,
    "start_time": "2025-05-10T14:37:21.633Z"
   },
   {
    "duration": 14,
    "start_time": "2025-05-10T14:37:21.640Z"
   },
   {
    "duration": 11,
    "start_time": "2025-05-10T14:37:21.656Z"
   },
   {
    "duration": 39,
    "start_time": "2025-05-10T14:37:21.669Z"
   },
   {
    "duration": 7,
    "start_time": "2025-05-10T14:37:21.711Z"
   },
   {
    "duration": 9,
    "start_time": "2025-05-10T14:37:21.720Z"
   },
   {
    "duration": 8,
    "start_time": "2025-05-10T14:37:21.731Z"
   },
   {
    "duration": 10,
    "start_time": "2025-05-10T14:37:21.740Z"
   },
   {
    "duration": 13,
    "start_time": "2025-05-10T14:37:21.752Z"
   },
   {
    "duration": 285,
    "start_time": "2025-05-10T14:37:21.768Z"
   },
   {
    "duration": 15,
    "start_time": "2025-05-10T14:37:22.055Z"
   },
   {
    "duration": 369,
    "start_time": "2025-05-10T14:37:22.071Z"
   },
   {
    "duration": 16,
    "start_time": "2025-05-10T14:37:22.442Z"
   },
   {
    "duration": 341,
    "start_time": "2025-05-10T14:37:22.460Z"
   },
   {
    "duration": 294,
    "start_time": "2025-05-10T14:37:22.804Z"
   },
   {
    "duration": 0,
    "start_time": "2025-05-10T14:37:23.100Z"
   },
   {
    "duration": 0,
    "start_time": "2025-05-10T14:37:23.109Z"
   },
   {
    "duration": 0,
    "start_time": "2025-05-10T14:37:23.111Z"
   },
   {
    "duration": 0,
    "start_time": "2025-05-10T14:37:23.113Z"
   },
   {
    "duration": 0,
    "start_time": "2025-05-10T14:37:23.114Z"
   },
   {
    "duration": 0,
    "start_time": "2025-05-10T14:37:23.116Z"
   },
   {
    "duration": 0,
    "start_time": "2025-05-10T14:37:23.117Z"
   },
   {
    "duration": 0,
    "start_time": "2025-05-10T14:37:23.118Z"
   },
   {
    "duration": 0,
    "start_time": "2025-05-10T14:37:23.120Z"
   },
   {
    "duration": 0,
    "start_time": "2025-05-10T14:37:23.121Z"
   },
   {
    "duration": 0,
    "start_time": "2025-05-10T14:37:23.122Z"
   },
   {
    "duration": 28,
    "start_time": "2025-05-10T14:39:24.157Z"
   },
   {
    "duration": 8,
    "start_time": "2025-05-10T14:39:56.050Z"
   },
   {
    "duration": 41,
    "start_time": "2025-05-10T14:43:07.178Z"
   },
   {
    "duration": 35,
    "start_time": "2025-05-10T14:44:05.160Z"
   },
   {
    "duration": 34,
    "start_time": "2025-05-10T14:44:12.316Z"
   },
   {
    "duration": 39,
    "start_time": "2025-05-10T14:44:23.085Z"
   },
   {
    "duration": 349,
    "start_time": "2025-05-10T14:45:12.495Z"
   },
   {
    "duration": 37,
    "start_time": "2025-05-10T14:45:27.831Z"
   },
   {
    "duration": 38,
    "start_time": "2025-05-10T14:46:36.967Z"
   },
   {
    "duration": 36,
    "start_time": "2025-05-10T14:47:05.371Z"
   },
   {
    "duration": 30,
    "start_time": "2025-05-10T14:47:54.387Z"
   },
   {
    "duration": 28,
    "start_time": "2025-05-10T14:48:07.384Z"
   },
   {
    "duration": 162,
    "start_time": "2025-05-10T14:49:22.926Z"
   },
   {
    "duration": 9,
    "start_time": "2025-05-10T14:49:44.620Z"
   },
   {
    "duration": 8,
    "start_time": "2025-05-10T14:49:50.041Z"
   },
   {
    "duration": 4,
    "start_time": "2025-05-10T14:50:53.376Z"
   },
   {
    "duration": 16,
    "start_time": "2025-05-10T14:50:57.541Z"
   },
   {
    "duration": 10,
    "start_time": "2025-05-10T14:51:03.253Z"
   },
   {
    "duration": 4,
    "start_time": "2025-05-10T14:51:06.526Z"
   },
   {
    "duration": 30,
    "start_time": "2025-05-10T14:52:18.267Z"
   },
   {
    "duration": 34,
    "start_time": "2025-05-10T14:52:30.398Z"
   },
   {
    "duration": 48,
    "start_time": "2025-05-10T14:53:15.882Z"
   },
   {
    "duration": 11,
    "start_time": "2025-05-10T14:53:40.093Z"
   },
   {
    "duration": 35,
    "start_time": "2025-05-10T14:53:52.130Z"
   },
   {
    "duration": 9,
    "start_time": "2025-05-10T14:56:04.254Z"
   },
   {
    "duration": 26,
    "start_time": "2025-05-10T14:56:37.398Z"
   },
   {
    "duration": 33,
    "start_time": "2025-05-10T14:56:52.339Z"
   },
   {
    "duration": 29,
    "start_time": "2025-05-10T14:56:58.679Z"
   },
   {
    "duration": 356,
    "start_time": "2025-05-10T14:57:20.549Z"
   },
   {
    "duration": 35,
    "start_time": "2025-05-10T14:58:42.440Z"
   },
   {
    "duration": 29,
    "start_time": "2025-05-10T14:58:55.089Z"
   }
  ],
  "kernelspec": {
   "display_name": "base",
   "language": "python",
   "name": "python3"
  },
  "language_info": {
   "codemirror_mode": {
    "name": "ipython",
    "version": 3
   },
   "file_extension": ".py",
   "mimetype": "text/x-python",
   "name": "python",
   "nbconvert_exporter": "python",
   "pygments_lexer": "ipython3",
   "version": "3.12.7"
  },
  "toc": {
   "base_numbering": 1,
   "nav_menu": {},
   "number_sections": true,
   "sideBar": true,
   "skip_h1_title": true,
   "title_cell": "Table of Contents",
   "title_sidebar": "Contents",
   "toc_cell": false,
   "toc_position": {},
   "toc_section_display": true,
   "toc_window_display": false
  }
 },
 "nbformat": 4,
 "nbformat_minor": 2
}
