{
 "cells": [
  {
   "cell_type": "markdown",
   "metadata": {},
   "source": [
    "# Análisis de hipótesis y test A/B"
   ]
  },
  {
   "cell_type": "code",
   "execution_count": 1,
   "metadata": {
    "trusted": true
   },
   "outputs": [],
   "source": [
    "#importar librerías\n",
    "import pandas as pd\n",
    "import numpy as np\n",
    "import matplotlib.pyplot as plt\n",
    "import seaborn as sns\n",
    "from scipy import stats\n",
    "from datetime import timedelta\n",
    "from scipy.stats import mannwhitneyu\n",
    "from statsmodels.stats.proportion import proportions_ztest\n",
    "\n"
   ]
  },
  {
   "cell_type": "code",
   "execution_count": 2,
   "metadata": {
    "trusted": true
   },
   "outputs": [],
   "source": [
    "#cargar y guardar datasets\n",
    "hypotheses = pd.read_csv('/datasets/hypotheses_us.csv', sep=';')\n",
    "orders = pd.read_csv('/datasets/orders_us.csv')\n",
    "visits = pd.read_csv('/datasets/visits_us.csv')"
   ]
  },
  {
   "cell_type": "markdown",
   "metadata": {},
   "source": [
    "## Preparación y limpieza de datasets"
   ]
  },
  {
   "cell_type": "code",
   "execution_count": 3,
   "metadata": {
    "trusted": true
   },
   "outputs": [
    {
     "name": "stdout",
     "output_type": "stream",
     "text": [
      "<class 'pandas.core.frame.DataFrame'>\n",
      "RangeIndex: 9 entries, 0 to 8\n",
      "Data columns (total 5 columns):\n",
      " #   Column      Non-Null Count  Dtype \n",
      "---  ------      --------------  ----- \n",
      " 0   Hypothesis  9 non-null      object\n",
      " 1   Reach       9 non-null      int64 \n",
      " 2   Impact      9 non-null      int64 \n",
      " 3   Confidence  9 non-null      int64 \n",
      " 4   Effort      9 non-null      int64 \n",
      "dtypes: int64(4), object(1)\n",
      "memory usage: 488.0+ bytes\n",
      "None\n"
     ]
    },
    {
     "data": {
      "text/html": [
       "<div>\n",
       "<style scoped>\n",
       "    .dataframe tbody tr th:only-of-type {\n",
       "        vertical-align: middle;\n",
       "    }\n",
       "\n",
       "    .dataframe tbody tr th {\n",
       "        vertical-align: top;\n",
       "    }\n",
       "\n",
       "    .dataframe thead th {\n",
       "        text-align: right;\n",
       "    }\n",
       "</style>\n",
       "<table border=\"1\" class=\"dataframe\">\n",
       "  <thead>\n",
       "    <tr style=\"text-align: right;\">\n",
       "      <th></th>\n",
       "      <th>Hypothesis</th>\n",
       "      <th>Reach</th>\n",
       "      <th>Impact</th>\n",
       "      <th>Confidence</th>\n",
       "      <th>Effort</th>\n",
       "    </tr>\n",
       "  </thead>\n",
       "  <tbody>\n",
       "    <tr>\n",
       "      <th>0</th>\n",
       "      <td>Add two new channels for attracting traffic. T...</td>\n",
       "      <td>3</td>\n",
       "      <td>10</td>\n",
       "      <td>8</td>\n",
       "      <td>6</td>\n",
       "    </tr>\n",
       "    <tr>\n",
       "      <th>1</th>\n",
       "      <td>Launch your own delivery service. This will sh...</td>\n",
       "      <td>2</td>\n",
       "      <td>5</td>\n",
       "      <td>4</td>\n",
       "      <td>10</td>\n",
       "    </tr>\n",
       "    <tr>\n",
       "      <th>2</th>\n",
       "      <td>Add product recommendation blocks to the store...</td>\n",
       "      <td>8</td>\n",
       "      <td>3</td>\n",
       "      <td>7</td>\n",
       "      <td>3</td>\n",
       "    </tr>\n",
       "    <tr>\n",
       "      <th>3</th>\n",
       "      <td>Change the category structure. This will incre...</td>\n",
       "      <td>8</td>\n",
       "      <td>3</td>\n",
       "      <td>3</td>\n",
       "      <td>8</td>\n",
       "    </tr>\n",
       "    <tr>\n",
       "      <th>4</th>\n",
       "      <td>Change the background color on the main page. ...</td>\n",
       "      <td>3</td>\n",
       "      <td>1</td>\n",
       "      <td>1</td>\n",
       "      <td>1</td>\n",
       "    </tr>\n",
       "  </tbody>\n",
       "</table>\n",
       "</div>"
      ],
      "text/plain": [
       "                                          Hypothesis  Reach  Impact  \\\n",
       "0  Add two new channels for attracting traffic. T...      3      10   \n",
       "1  Launch your own delivery service. This will sh...      2       5   \n",
       "2  Add product recommendation blocks to the store...      8       3   \n",
       "3  Change the category structure. This will incre...      8       3   \n",
       "4  Change the background color on the main page. ...      3       1   \n",
       "\n",
       "   Confidence  Effort  \n",
       "0           8       6  \n",
       "1           4      10  \n",
       "2           7       3  \n",
       "3           3       8  \n",
       "4           1       1  "
      ]
     },
     "execution_count": 3,
     "metadata": {},
     "output_type": "execute_result"
    }
   ],
   "source": [
    "#hypotheses dataframe\n",
    "print(hypotheses.info())\n",
    "hypotheses.head()\n"
   ]
  },
  {
   "cell_type": "code",
   "execution_count": 4,
   "metadata": {
    "trusted": true
   },
   "outputs": [
    {
     "name": "stdout",
     "output_type": "stream",
     "text": [
      "<class 'pandas.core.frame.DataFrame'>\n",
      "RangeIndex: 1197 entries, 0 to 1196\n",
      "Data columns (total 5 columns):\n",
      " #   Column         Non-Null Count  Dtype  \n",
      "---  ------         --------------  -----  \n",
      " 0   transactionId  1197 non-null   int64  \n",
      " 1   visitorId      1197 non-null   int64  \n",
      " 2   date           1197 non-null   object \n",
      " 3   revenue        1197 non-null   float64\n",
      " 4   group          1197 non-null   object \n",
      "dtypes: float64(1), int64(2), object(2)\n",
      "memory usage: 46.9+ KB\n",
      "None\n"
     ]
    },
    {
     "data": {
      "text/html": [
       "<div>\n",
       "<style scoped>\n",
       "    .dataframe tbody tr th:only-of-type {\n",
       "        vertical-align: middle;\n",
       "    }\n",
       "\n",
       "    .dataframe tbody tr th {\n",
       "        vertical-align: top;\n",
       "    }\n",
       "\n",
       "    .dataframe thead th {\n",
       "        text-align: right;\n",
       "    }\n",
       "</style>\n",
       "<table border=\"1\" class=\"dataframe\">\n",
       "  <thead>\n",
       "    <tr style=\"text-align: right;\">\n",
       "      <th></th>\n",
       "      <th>transactionId</th>\n",
       "      <th>visitorId</th>\n",
       "      <th>date</th>\n",
       "      <th>revenue</th>\n",
       "      <th>group</th>\n",
       "    </tr>\n",
       "  </thead>\n",
       "  <tbody>\n",
       "    <tr>\n",
       "      <th>0</th>\n",
       "      <td>3667963787</td>\n",
       "      <td>3312258926</td>\n",
       "      <td>2019-08-15</td>\n",
       "      <td>30.4</td>\n",
       "      <td>B</td>\n",
       "    </tr>\n",
       "    <tr>\n",
       "      <th>1</th>\n",
       "      <td>2804400009</td>\n",
       "      <td>3642806036</td>\n",
       "      <td>2019-08-15</td>\n",
       "      <td>15.2</td>\n",
       "      <td>B</td>\n",
       "    </tr>\n",
       "    <tr>\n",
       "      <th>2</th>\n",
       "      <td>2961555356</td>\n",
       "      <td>4069496402</td>\n",
       "      <td>2019-08-15</td>\n",
       "      <td>10.2</td>\n",
       "      <td>A</td>\n",
       "    </tr>\n",
       "    <tr>\n",
       "      <th>3</th>\n",
       "      <td>3797467345</td>\n",
       "      <td>1196621759</td>\n",
       "      <td>2019-08-15</td>\n",
       "      <td>155.1</td>\n",
       "      <td>B</td>\n",
       "    </tr>\n",
       "    <tr>\n",
       "      <th>4</th>\n",
       "      <td>2282983706</td>\n",
       "      <td>2322279887</td>\n",
       "      <td>2019-08-15</td>\n",
       "      <td>40.5</td>\n",
       "      <td>B</td>\n",
       "    </tr>\n",
       "  </tbody>\n",
       "</table>\n",
       "</div>"
      ],
      "text/plain": [
       "   transactionId   visitorId        date  revenue group\n",
       "0     3667963787  3312258926  2019-08-15     30.4     B\n",
       "1     2804400009  3642806036  2019-08-15     15.2     B\n",
       "2     2961555356  4069496402  2019-08-15     10.2     A\n",
       "3     3797467345  1196621759  2019-08-15    155.1     B\n",
       "4     2282983706  2322279887  2019-08-15     40.5     B"
      ]
     },
     "execution_count": 4,
     "metadata": {},
     "output_type": "execute_result"
    }
   ],
   "source": [
    "#orders dataframe\n",
    "print(orders.info())\n",
    "orders.head()"
   ]
  },
  {
   "cell_type": "code",
   "execution_count": 5,
   "metadata": {
    "trusted": true
   },
   "outputs": [
    {
     "name": "stdout",
     "output_type": "stream",
     "text": [
      "transactionId    0\n",
      "visitorId        0\n",
      "date             0\n",
      "revenue          0\n",
      "group            0\n",
      "dtype: int64\n",
      "0\n"
     ]
    }
   ],
   "source": [
    "# verificar datos nulos y datos duplicados\n",
    "print(orders.isnull().sum())\n",
    "print(orders.duplicated().sum())"
   ]
  },
  {
   "cell_type": "code",
   "execution_count": 6,
   "metadata": {
    "trusted": true
   },
   "outputs": [
    {
     "name": "stdout",
     "output_type": "stream",
     "text": [
      "   visitorId  group\n",
      "0    5114589      1\n",
      "1    6958315      1\n",
      "2    8300375      2\n",
      "3   11685486      1\n",
      "4   39475350      1\n",
      "visitorId     0\n",
      "group        58\n",
      "dtype: int64\n",
      "<class 'pandas.core.frame.DataFrame'>\n",
      "Int64Index: 1016 entries, 0 to 1196\n",
      "Data columns (total 5 columns):\n",
      " #   Column         Non-Null Count  Dtype  \n",
      "---  ------         --------------  -----  \n",
      " 0   transactionId  1016 non-null   int64  \n",
      " 1   visitorId      1016 non-null   int64  \n",
      " 2   date           1016 non-null   object \n",
      " 3   revenue        1016 non-null   float64\n",
      " 4   group          1016 non-null   object \n",
      "dtypes: float64(1), int64(2), object(2)\n",
      "memory usage: 47.6+ KB\n"
     ]
    }
   ],
   "source": [
    "# verificar si algunos de los visitantes podrían haber entrado tanto en el grupo A como en el grupo B.\n",
    "grupo_por_usuario = orders.groupby('visitorId')['group'].nunique().reset_index()\n",
    "print(grupo_por_usuario.head(5))\n",
    "\n",
    "#si hay usarios con mas de un grupo \n",
    "count = grupo_por_usuario[grupo_por_usuario==2].count()\n",
    "print(count)\n",
    "\n",
    "#son 58 usuarios los que estan en ambos grupos\n",
    "#eliminarlos del dataframe\n",
    "usuarios_mix = grupo_por_usuario[grupo_por_usuario['group'] > 1]['visitorId']\n",
    "orders = orders[~orders['visitorId'].isin(usuarios_mix)]\n",
    "orders.info()\n"
   ]
  },
  {
   "cell_type": "code",
   "execution_count": 7,
   "metadata": {
    "trusted": true
   },
   "outputs": [
    {
     "name": "stdout",
     "output_type": "stream",
     "text": [
      "<class 'pandas.core.frame.DataFrame'>\n",
      "RangeIndex: 62 entries, 0 to 61\n",
      "Data columns (total 3 columns):\n",
      " #   Column  Non-Null Count  Dtype \n",
      "---  ------  --------------  ----- \n",
      " 0   date    62 non-null     object\n",
      " 1   group   62 non-null     object\n",
      " 2   visits  62 non-null     int64 \n",
      "dtypes: int64(1), object(2)\n",
      "memory usage: 1.6+ KB\n",
      "None\n"
     ]
    },
    {
     "data": {
      "text/html": [
       "<div>\n",
       "<style scoped>\n",
       "    .dataframe tbody tr th:only-of-type {\n",
       "        vertical-align: middle;\n",
       "    }\n",
       "\n",
       "    .dataframe tbody tr th {\n",
       "        vertical-align: top;\n",
       "    }\n",
       "\n",
       "    .dataframe thead th {\n",
       "        text-align: right;\n",
       "    }\n",
       "</style>\n",
       "<table border=\"1\" class=\"dataframe\">\n",
       "  <thead>\n",
       "    <tr style=\"text-align: right;\">\n",
       "      <th></th>\n",
       "      <th>date</th>\n",
       "      <th>group</th>\n",
       "      <th>visits</th>\n",
       "    </tr>\n",
       "  </thead>\n",
       "  <tbody>\n",
       "    <tr>\n",
       "      <th>0</th>\n",
       "      <td>2019-08-01</td>\n",
       "      <td>A</td>\n",
       "      <td>719</td>\n",
       "    </tr>\n",
       "    <tr>\n",
       "      <th>1</th>\n",
       "      <td>2019-08-02</td>\n",
       "      <td>A</td>\n",
       "      <td>619</td>\n",
       "    </tr>\n",
       "    <tr>\n",
       "      <th>2</th>\n",
       "      <td>2019-08-03</td>\n",
       "      <td>A</td>\n",
       "      <td>507</td>\n",
       "    </tr>\n",
       "    <tr>\n",
       "      <th>3</th>\n",
       "      <td>2019-08-04</td>\n",
       "      <td>A</td>\n",
       "      <td>717</td>\n",
       "    </tr>\n",
       "    <tr>\n",
       "      <th>4</th>\n",
       "      <td>2019-08-05</td>\n",
       "      <td>A</td>\n",
       "      <td>756</td>\n",
       "    </tr>\n",
       "  </tbody>\n",
       "</table>\n",
       "</div>"
      ],
      "text/plain": [
       "         date group  visits\n",
       "0  2019-08-01     A     719\n",
       "1  2019-08-02     A     619\n",
       "2  2019-08-03     A     507\n",
       "3  2019-08-04     A     717\n",
       "4  2019-08-05     A     756"
      ]
     },
     "execution_count": 7,
     "metadata": {},
     "output_type": "execute_result"
    }
   ],
   "source": [
    "print(visits.info())\n",
    "visits.head()"
   ]
  },
  {
   "cell_type": "code",
   "execution_count": 8,
   "metadata": {
    "trusted": true
   },
   "outputs": [
    {
     "name": "stdout",
     "output_type": "stream",
     "text": [
      "date      0\n",
      "group     0\n",
      "visits    0\n",
      "dtype: int64\n",
      "0\n"
     ]
    }
   ],
   "source": [
    "# verificar datos nulos y datos duplicados\n",
    "print(visits.isnull().sum())\n",
    "print(visits.duplicated().sum())"
   ]
  },
  {
   "cell_type": "markdown",
   "metadata": {},
   "source": [
    "## Análisis de datos\n"
   ]
  },
  {
   "cell_type": "markdown",
   "metadata": {},
   "source": [
    "### Priorizar hipótesis"
   ]
  },
  {
   "cell_type": "markdown",
   "metadata": {},
   "source": [
    "Metodo **ICE** <br>\n",
    "ICE: (Impact × Confidence) / Effort"
   ]
  },
  {
   "cell_type": "code",
   "execution_count": 9,
   "metadata": {
    "trusted": true
   },
   "outputs": [
    {
     "data": {
      "text/html": [
       "<div>\n",
       "<style scoped>\n",
       "    .dataframe tbody tr th:only-of-type {\n",
       "        vertical-align: middle;\n",
       "    }\n",
       "\n",
       "    .dataframe tbody tr th {\n",
       "        vertical-align: top;\n",
       "    }\n",
       "\n",
       "    .dataframe thead th {\n",
       "        text-align: right;\n",
       "    }\n",
       "</style>\n",
       "<table border=\"1\" class=\"dataframe\">\n",
       "  <thead>\n",
       "    <tr style=\"text-align: right;\">\n",
       "      <th></th>\n",
       "      <th>Hypothesis</th>\n",
       "      <th>Reach</th>\n",
       "      <th>Impact</th>\n",
       "      <th>Confidence</th>\n",
       "      <th>Effort</th>\n",
       "    </tr>\n",
       "  </thead>\n",
       "  <tbody>\n",
       "    <tr>\n",
       "      <th>0</th>\n",
       "      <td>Add two new channels for attracting traffic. T...</td>\n",
       "      <td>3</td>\n",
       "      <td>10</td>\n",
       "      <td>8</td>\n",
       "      <td>6</td>\n",
       "    </tr>\n",
       "    <tr>\n",
       "      <th>1</th>\n",
       "      <td>Launch your own delivery service. This will sh...</td>\n",
       "      <td>2</td>\n",
       "      <td>5</td>\n",
       "      <td>4</td>\n",
       "      <td>10</td>\n",
       "    </tr>\n",
       "    <tr>\n",
       "      <th>2</th>\n",
       "      <td>Add product recommendation blocks to the store...</td>\n",
       "      <td>8</td>\n",
       "      <td>3</td>\n",
       "      <td>7</td>\n",
       "      <td>3</td>\n",
       "    </tr>\n",
       "    <tr>\n",
       "      <th>3</th>\n",
       "      <td>Change the category structure. This will incre...</td>\n",
       "      <td>8</td>\n",
       "      <td>3</td>\n",
       "      <td>3</td>\n",
       "      <td>8</td>\n",
       "    </tr>\n",
       "    <tr>\n",
       "      <th>4</th>\n",
       "      <td>Change the background color on the main page. ...</td>\n",
       "      <td>3</td>\n",
       "      <td>1</td>\n",
       "      <td>1</td>\n",
       "      <td>1</td>\n",
       "    </tr>\n",
       "    <tr>\n",
       "      <th>5</th>\n",
       "      <td>Add a customer review page. This will increase...</td>\n",
       "      <td>3</td>\n",
       "      <td>2</td>\n",
       "      <td>2</td>\n",
       "      <td>3</td>\n",
       "    </tr>\n",
       "    <tr>\n",
       "      <th>6</th>\n",
       "      <td>Show banners with current offers and sales on ...</td>\n",
       "      <td>5</td>\n",
       "      <td>3</td>\n",
       "      <td>8</td>\n",
       "      <td>3</td>\n",
       "    </tr>\n",
       "    <tr>\n",
       "      <th>7</th>\n",
       "      <td>Add a subscription form to all the main pages....</td>\n",
       "      <td>10</td>\n",
       "      <td>7</td>\n",
       "      <td>8</td>\n",
       "      <td>5</td>\n",
       "    </tr>\n",
       "    <tr>\n",
       "      <th>8</th>\n",
       "      <td>Launch a promotion that gives users discounts ...</td>\n",
       "      <td>1</td>\n",
       "      <td>9</td>\n",
       "      <td>9</td>\n",
       "      <td>5</td>\n",
       "    </tr>\n",
       "  </tbody>\n",
       "</table>\n",
       "</div>"
      ],
      "text/plain": [
       "                                          Hypothesis  Reach  Impact  \\\n",
       "0  Add two new channels for attracting traffic. T...      3      10   \n",
       "1  Launch your own delivery service. This will sh...      2       5   \n",
       "2  Add product recommendation blocks to the store...      8       3   \n",
       "3  Change the category structure. This will incre...      8       3   \n",
       "4  Change the background color on the main page. ...      3       1   \n",
       "5  Add a customer review page. This will increase...      3       2   \n",
       "6  Show banners with current offers and sales on ...      5       3   \n",
       "7  Add a subscription form to all the main pages....     10       7   \n",
       "8  Launch a promotion that gives users discounts ...      1       9   \n",
       "\n",
       "   Confidence  Effort  \n",
       "0           8       6  \n",
       "1           4      10  \n",
       "2           7       3  \n",
       "3           3       8  \n",
       "4           1       1  \n",
       "5           2       3  \n",
       "6           8       3  \n",
       "7           8       5  \n",
       "8           9       5  "
      ]
     },
     "execution_count": 9,
     "metadata": {},
     "output_type": "execute_result"
    }
   ],
   "source": [
    "hypotheses"
   ]
  },
  {
   "cell_type": "code",
   "execution_count": 10,
   "metadata": {
    "trusted": true
   },
   "outputs": [
    {
     "data": {
      "text/html": [
       "<div>\n",
       "<style scoped>\n",
       "    .dataframe tbody tr th:only-of-type {\n",
       "        vertical-align: middle;\n",
       "    }\n",
       "\n",
       "    .dataframe tbody tr th {\n",
       "        vertical-align: top;\n",
       "    }\n",
       "\n",
       "    .dataframe thead th {\n",
       "        text-align: right;\n",
       "    }\n",
       "</style>\n",
       "<table border=\"1\" class=\"dataframe\">\n",
       "  <thead>\n",
       "    <tr style=\"text-align: right;\">\n",
       "      <th></th>\n",
       "      <th>Hypothesis</th>\n",
       "      <th>ICE</th>\n",
       "    </tr>\n",
       "  </thead>\n",
       "  <tbody>\n",
       "    <tr>\n",
       "      <th>8</th>\n",
       "      <td>Launch a promotion that gives users discounts ...</td>\n",
       "      <td>16.2</td>\n",
       "    </tr>\n",
       "    <tr>\n",
       "      <th>0</th>\n",
       "      <td>Add two new channels for attracting traffic. T...</td>\n",
       "      <td>13.3</td>\n",
       "    </tr>\n",
       "    <tr>\n",
       "      <th>7</th>\n",
       "      <td>Add a subscription form to all the main pages....</td>\n",
       "      <td>11.2</td>\n",
       "    </tr>\n",
       "    <tr>\n",
       "      <th>6</th>\n",
       "      <td>Show banners with current offers and sales on ...</td>\n",
       "      <td>8.0</td>\n",
       "    </tr>\n",
       "    <tr>\n",
       "      <th>2</th>\n",
       "      <td>Add product recommendation blocks to the store...</td>\n",
       "      <td>7.0</td>\n",
       "    </tr>\n",
       "    <tr>\n",
       "      <th>1</th>\n",
       "      <td>Launch your own delivery service. This will sh...</td>\n",
       "      <td>2.0</td>\n",
       "    </tr>\n",
       "    <tr>\n",
       "      <th>5</th>\n",
       "      <td>Add a customer review page. This will increase...</td>\n",
       "      <td>1.3</td>\n",
       "    </tr>\n",
       "    <tr>\n",
       "      <th>3</th>\n",
       "      <td>Change the category structure. This will incre...</td>\n",
       "      <td>1.1</td>\n",
       "    </tr>\n",
       "    <tr>\n",
       "      <th>4</th>\n",
       "      <td>Change the background color on the main page. ...</td>\n",
       "      <td>1.0</td>\n",
       "    </tr>\n",
       "  </tbody>\n",
       "</table>\n",
       "</div>"
      ],
      "text/plain": [
       "                                          Hypothesis   ICE\n",
       "8  Launch a promotion that gives users discounts ...  16.2\n",
       "0  Add two new channels for attracting traffic. T...  13.3\n",
       "7  Add a subscription form to all the main pages....  11.2\n",
       "6  Show banners with current offers and sales on ...   8.0\n",
       "2  Add product recommendation blocks to the store...   7.0\n",
       "1  Launch your own delivery service. This will sh...   2.0\n",
       "5  Add a customer review page. This will increase...   1.3\n",
       "3  Change the category structure. This will incre...   1.1\n",
       "4  Change the background color on the main page. ...   1.0"
      ]
     },
     "execution_count": 10,
     "metadata": {},
     "output_type": "execute_result"
    }
   ],
   "source": [
    "hypotheses['ICE'] = (hypotheses['Impact'] * hypotheses['Confidence']) / hypotheses['Effort']\n",
    "ICE = hypotheses[['Hypothesis', 'ICE']].sort_values(by='ICE', ascending=False).round(1)\n",
    "ICE"
   ]
  },
  {
   "cell_type": "markdown",
   "metadata": {},
   "source": [
    "Metodo **RICE** <br>\n",
    "ICE: (Reach * Impact × Confidence) / Effort"
   ]
  },
  {
   "cell_type": "code",
   "execution_count": 11,
   "metadata": {
    "trusted": true
   },
   "outputs": [
    {
     "data": {
      "text/html": [
       "<div>\n",
       "<style scoped>\n",
       "    .dataframe tbody tr th:only-of-type {\n",
       "        vertical-align: middle;\n",
       "    }\n",
       "\n",
       "    .dataframe tbody tr th {\n",
       "        vertical-align: top;\n",
       "    }\n",
       "\n",
       "    .dataframe thead th {\n",
       "        text-align: right;\n",
       "    }\n",
       "</style>\n",
       "<table border=\"1\" class=\"dataframe\">\n",
       "  <thead>\n",
       "    <tr style=\"text-align: right;\">\n",
       "      <th></th>\n",
       "      <th>Hypothesis</th>\n",
       "      <th>RICE</th>\n",
       "    </tr>\n",
       "  </thead>\n",
       "  <tbody>\n",
       "    <tr>\n",
       "      <th>7</th>\n",
       "      <td>Add a subscription form to all the main pages....</td>\n",
       "      <td>112.0</td>\n",
       "    </tr>\n",
       "    <tr>\n",
       "      <th>2</th>\n",
       "      <td>Add product recommendation blocks to the store...</td>\n",
       "      <td>56.0</td>\n",
       "    </tr>\n",
       "    <tr>\n",
       "      <th>0</th>\n",
       "      <td>Add two new channels for attracting traffic. T...</td>\n",
       "      <td>40.0</td>\n",
       "    </tr>\n",
       "    <tr>\n",
       "      <th>6</th>\n",
       "      <td>Show banners with current offers and sales on ...</td>\n",
       "      <td>40.0</td>\n",
       "    </tr>\n",
       "    <tr>\n",
       "      <th>8</th>\n",
       "      <td>Launch a promotion that gives users discounts ...</td>\n",
       "      <td>16.2</td>\n",
       "    </tr>\n",
       "    <tr>\n",
       "      <th>3</th>\n",
       "      <td>Change the category structure. This will incre...</td>\n",
       "      <td>9.0</td>\n",
       "    </tr>\n",
       "    <tr>\n",
       "      <th>1</th>\n",
       "      <td>Launch your own delivery service. This will sh...</td>\n",
       "      <td>4.0</td>\n",
       "    </tr>\n",
       "    <tr>\n",
       "      <th>5</th>\n",
       "      <td>Add a customer review page. This will increase...</td>\n",
       "      <td>4.0</td>\n",
       "    </tr>\n",
       "    <tr>\n",
       "      <th>4</th>\n",
       "      <td>Change the background color on the main page. ...</td>\n",
       "      <td>3.0</td>\n",
       "    </tr>\n",
       "  </tbody>\n",
       "</table>\n",
       "</div>"
      ],
      "text/plain": [
       "                                          Hypothesis   RICE\n",
       "7  Add a subscription form to all the main pages....  112.0\n",
       "2  Add product recommendation blocks to the store...   56.0\n",
       "0  Add two new channels for attracting traffic. T...   40.0\n",
       "6  Show banners with current offers and sales on ...   40.0\n",
       "8  Launch a promotion that gives users discounts ...   16.2\n",
       "3  Change the category structure. This will incre...    9.0\n",
       "1  Launch your own delivery service. This will sh...    4.0\n",
       "5  Add a customer review page. This will increase...    4.0\n",
       "4  Change the background color on the main page. ...    3.0"
      ]
     },
     "execution_count": 11,
     "metadata": {},
     "output_type": "execute_result"
    }
   ],
   "source": [
    "hypotheses['RICE'] = (hypotheses['Reach'] * hypotheses['Impact'] * hypotheses['Confidence']) / hypotheses['Effort']\n",
    "RICE = hypotheses[['Hypothesis', 'RICE']].sort_values(by='RICE', ascending=False)\n",
    "RICE"
   ]
  },
  {
   "cell_type": "markdown",
   "metadata": {},
   "source": [
    "**Conclusión**"
   ]
  },
  {
   "cell_type": "markdown",
   "metadata": {},
   "source": [
    "### Análisis del test A/B"
   ]
  },
  {
   "cell_type": "markdown",
   "metadata": {},
   "source": [
    "1.- Representa gráficamente el ingreso acumulado por grupo. Haz conclusiones y conjeturas."
   ]
  },
  {
   "cell_type": "code",
   "execution_count": 12,
   "metadata": {
    "trusted": true
   },
   "outputs": [
    {
     "data": {
      "text/html": [
       "<div>\n",
       "<style scoped>\n",
       "    .dataframe tbody tr th:only-of-type {\n",
       "        vertical-align: middle;\n",
       "    }\n",
       "\n",
       "    .dataframe tbody tr th {\n",
       "        vertical-align: top;\n",
       "    }\n",
       "\n",
       "    .dataframe thead th {\n",
       "        text-align: right;\n",
       "    }\n",
       "</style>\n",
       "<table border=\"1\" class=\"dataframe\">\n",
       "  <thead>\n",
       "    <tr style=\"text-align: right;\">\n",
       "      <th></th>\n",
       "      <th>transactionId</th>\n",
       "      <th>visitorId</th>\n",
       "      <th>date</th>\n",
       "      <th>revenue</th>\n",
       "      <th>group</th>\n",
       "    </tr>\n",
       "  </thead>\n",
       "  <tbody>\n",
       "    <tr>\n",
       "      <th>0</th>\n",
       "      <td>3667963787</td>\n",
       "      <td>3312258926</td>\n",
       "      <td>2019-08-15</td>\n",
       "      <td>30.4</td>\n",
       "      <td>B</td>\n",
       "    </tr>\n",
       "    <tr>\n",
       "      <th>1</th>\n",
       "      <td>2804400009</td>\n",
       "      <td>3642806036</td>\n",
       "      <td>2019-08-15</td>\n",
       "      <td>15.2</td>\n",
       "      <td>B</td>\n",
       "    </tr>\n",
       "    <tr>\n",
       "      <th>3</th>\n",
       "      <td>3797467345</td>\n",
       "      <td>1196621759</td>\n",
       "      <td>2019-08-15</td>\n",
       "      <td>155.1</td>\n",
       "      <td>B</td>\n",
       "    </tr>\n",
       "    <tr>\n",
       "      <th>4</th>\n",
       "      <td>2282983706</td>\n",
       "      <td>2322279887</td>\n",
       "      <td>2019-08-15</td>\n",
       "      <td>40.5</td>\n",
       "      <td>B</td>\n",
       "    </tr>\n",
       "    <tr>\n",
       "      <th>5</th>\n",
       "      <td>182168103</td>\n",
       "      <td>935554773</td>\n",
       "      <td>2019-08-15</td>\n",
       "      <td>35.0</td>\n",
       "      <td>B</td>\n",
       "    </tr>\n",
       "    <tr>\n",
       "      <th>...</th>\n",
       "      <td>...</td>\n",
       "      <td>...</td>\n",
       "      <td>...</td>\n",
       "      <td>...</td>\n",
       "      <td>...</td>\n",
       "    </tr>\n",
       "    <tr>\n",
       "      <th>1191</th>\n",
       "      <td>3592955527</td>\n",
       "      <td>608641596</td>\n",
       "      <td>2019-08-14</td>\n",
       "      <td>255.7</td>\n",
       "      <td>B</td>\n",
       "    </tr>\n",
       "    <tr>\n",
       "      <th>1192</th>\n",
       "      <td>2662137336</td>\n",
       "      <td>3733762160</td>\n",
       "      <td>2019-08-14</td>\n",
       "      <td>100.8</td>\n",
       "      <td>B</td>\n",
       "    </tr>\n",
       "    <tr>\n",
       "      <th>1193</th>\n",
       "      <td>2203539145</td>\n",
       "      <td>370388673</td>\n",
       "      <td>2019-08-14</td>\n",
       "      <td>50.1</td>\n",
       "      <td>A</td>\n",
       "    </tr>\n",
       "    <tr>\n",
       "      <th>1194</th>\n",
       "      <td>1807773912</td>\n",
       "      <td>573423106</td>\n",
       "      <td>2019-08-14</td>\n",
       "      <td>165.3</td>\n",
       "      <td>A</td>\n",
       "    </tr>\n",
       "    <tr>\n",
       "      <th>1196</th>\n",
       "      <td>3936777065</td>\n",
       "      <td>2108080724</td>\n",
       "      <td>2019-08-15</td>\n",
       "      <td>3120.1</td>\n",
       "      <td>B</td>\n",
       "    </tr>\n",
       "  </tbody>\n",
       "</table>\n",
       "<p>1016 rows × 5 columns</p>\n",
       "</div>"
      ],
      "text/plain": [
       "      transactionId   visitorId        date  revenue group\n",
       "0        3667963787  3312258926  2019-08-15     30.4     B\n",
       "1        2804400009  3642806036  2019-08-15     15.2     B\n",
       "3        3797467345  1196621759  2019-08-15    155.1     B\n",
       "4        2282983706  2322279887  2019-08-15     40.5     B\n",
       "5         182168103   935554773  2019-08-15     35.0     B\n",
       "...             ...         ...         ...      ...   ...\n",
       "1191     3592955527   608641596  2019-08-14    255.7     B\n",
       "1192     2662137336  3733762160  2019-08-14    100.8     B\n",
       "1193     2203539145   370388673  2019-08-14     50.1     A\n",
       "1194     1807773912   573423106  2019-08-14    165.3     A\n",
       "1196     3936777065  2108080724  2019-08-15   3120.1     B\n",
       "\n",
       "[1016 rows x 5 columns]"
      ]
     },
     "execution_count": 12,
     "metadata": {},
     "output_type": "execute_result"
    }
   ],
   "source": [
    "orders"
   ]
  },
  {
   "cell_type": "code",
   "execution_count": 13,
   "metadata": {
    "trusted": true
   },
   "outputs": [
    {
     "data": {
      "text/html": [
       "<div>\n",
       "<style scoped>\n",
       "    .dataframe tbody tr th:only-of-type {\n",
       "        vertical-align: middle;\n",
       "    }\n",
       "\n",
       "    .dataframe tbody tr th {\n",
       "        vertical-align: top;\n",
       "    }\n",
       "\n",
       "    .dataframe thead th {\n",
       "        text-align: right;\n",
       "    }\n",
       "</style>\n",
       "<table border=\"1\" class=\"dataframe\">\n",
       "  <thead>\n",
       "    <tr style=\"text-align: right;\">\n",
       "      <th></th>\n",
       "      <th>group</th>\n",
       "      <th>date</th>\n",
       "      <th>revenue</th>\n",
       "    </tr>\n",
       "  </thead>\n",
       "  <tbody>\n",
       "    <tr>\n",
       "      <th>0</th>\n",
       "      <td>A</td>\n",
       "      <td>2019-08-01</td>\n",
       "      <td>2266.6</td>\n",
       "    </tr>\n",
       "    <tr>\n",
       "      <th>1</th>\n",
       "      <td>A</td>\n",
       "      <td>2019-08-02</td>\n",
       "      <td>3734.9</td>\n",
       "    </tr>\n",
       "    <tr>\n",
       "      <th>2</th>\n",
       "      <td>A</td>\n",
       "      <td>2019-08-03</td>\n",
       "      <td>5550.1</td>\n",
       "    </tr>\n",
       "    <tr>\n",
       "      <th>3</th>\n",
       "      <td>A</td>\n",
       "      <td>2019-08-04</td>\n",
       "      <td>6225.6</td>\n",
       "    </tr>\n",
       "    <tr>\n",
       "      <th>4</th>\n",
       "      <td>A</td>\n",
       "      <td>2019-08-05</td>\n",
       "      <td>7623.6</td>\n",
       "    </tr>\n",
       "    <tr>\n",
       "      <th>...</th>\n",
       "      <td>...</td>\n",
       "      <td>...</td>\n",
       "      <td>...</td>\n",
       "    </tr>\n",
       "    <tr>\n",
       "      <th>57</th>\n",
       "      <td>B</td>\n",
       "      <td>2019-08-27</td>\n",
       "      <td>71885.0</td>\n",
       "    </tr>\n",
       "    <tr>\n",
       "      <th>58</th>\n",
       "      <td>B</td>\n",
       "      <td>2019-08-28</td>\n",
       "      <td>72895.5</td>\n",
       "    </tr>\n",
       "    <tr>\n",
       "      <th>59</th>\n",
       "      <td>B</td>\n",
       "      <td>2019-08-29</td>\n",
       "      <td>74576.7</td>\n",
       "    </tr>\n",
       "    <tr>\n",
       "      <th>60</th>\n",
       "      <td>B</td>\n",
       "      <td>2019-08-30</td>\n",
       "      <td>77863.5</td>\n",
       "    </tr>\n",
       "    <tr>\n",
       "      <th>61</th>\n",
       "      <td>B</td>\n",
       "      <td>2019-08-31</td>\n",
       "      <td>79651.2</td>\n",
       "    </tr>\n",
       "  </tbody>\n",
       "</table>\n",
       "<p>62 rows × 3 columns</p>\n",
       "</div>"
      ],
      "text/plain": [
       "   group       date  revenue\n",
       "0      A 2019-08-01   2266.6\n",
       "1      A 2019-08-02   3734.9\n",
       "2      A 2019-08-03   5550.1\n",
       "3      A 2019-08-04   6225.6\n",
       "4      A 2019-08-05   7623.6\n",
       "..   ...        ...      ...\n",
       "57     B 2019-08-27  71885.0\n",
       "58     B 2019-08-28  72895.5\n",
       "59     B 2019-08-29  74576.7\n",
       "60     B 2019-08-30  77863.5\n",
       "61     B 2019-08-31  79651.2\n",
       "\n",
       "[62 rows x 3 columns]"
      ]
     },
     "metadata": {},
     "output_type": "display_data"
    }
   ],
   "source": [
    "orders['date'] = pd.to_datetime(orders['date'])\n",
    "cumulative_revenue = (orders.groupby(['group', 'date'])['revenue']\n",
    "                    .sum()\n",
    "                    .groupby(level=0)\n",
    "                    .cumsum()\n",
    "                    .reset_index())\n",
    "display(cumulative_revenue)\n",
    "\n"
   ]
  },
  {
   "cell_type": "code",
   "execution_count": 14,
   "metadata": {
    "trusted": true
   },
   "outputs": [
    {
     "data": {
      "image/png": "[encoded data removed]",
      "text/plain": [
       "<Figure size 1200x600 with 1 Axes>"
      ]
     },
     "metadata": {},
     "output_type": "display_data"
    }
   ],
   "source": [
    "plt.figure(figsize=(12, 6))\n",
    "sns.lineplot(\n",
    "    data=cumulative_revenue,\n",
    "    x=\"date\",\n",
    "    y=\"revenue\",\n",
    "    hue=\"group\",\n",
    "    marker=\"o\"  \n",
    ")\n",
    "\n",
    "plt.title(\"Ingreso acumulado por grupo\")\n",
    "plt.xlabel(\"Fecha\")\n",
    "plt.ylabel(\"Ingreso acumulado\")\n",
    "plt.grid(True, linestyle=\"--\", alpha=0.7)\n",
    "plt.legend(title=\"Grupo\")\n",
    "plt.show()"
   ]
  },
  {
   "cell_type": "markdown",
   "metadata": {},
   "source": [
    "**conclusiones**  los dos drupos empiezan de una manera similar pero cerca del 20 de agosto el grupo B tiene un pendeinte mas pronunciada, puede que hubo algun cambio importante como una promocion o una buena campaña la que hizo que el grupo B tome la delantera por mucho, o tal vez algunos valores atipicos que tenemos que revisar mas adelante|\n"
   ]
  },
  {
   "cell_type": "markdown",
   "metadata": {},
   "source": [
    "2.- Representa gráficamente el tamaño de pedido promedio acumulado por grupo. Haz conclusiones y conjeturas."
   ]
  },
  {
   "cell_type": "code",
   "execution_count": 15,
   "metadata": {
    "trusted": true
   },
   "outputs": [],
   "source": [
    "cumulative_orders = (\n",
    "    orders.groupby(['group', 'date'])\n",
    "    .agg(total_revenue=('revenue', 'sum'), total_orders=('transactionId', 'count'))\n",
    "    .groupby(level=0)\n",
    "    .cumsum()\n",
    "    .reset_index()\n",
    ")\n",
    "\n",
    "\n",
    "cumulative_orders['average_order_size'] = cumulative_orders['total_revenue'] / cumulative_orders['total_orders']\n"
   ]
  },
  {
   "cell_type": "code",
   "execution_count": 16,
   "metadata": {
    "trusted": true
   },
   "outputs": [
    {
     "data": {
      "image/png": "[encoded data removed]",
      "text/plain": [
       "<Figure size 1200x600 with 1 Axes>"
      ]
     },
     "metadata": {},
     "output_type": "display_data"
    }
   ],
   "source": [
    "plt.figure(figsize=(12, 6))\n",
    "sns.lineplot(\n",
    "    data=cumulative_orders,\n",
    "    x=\"date\",\n",
    "    y=\"average_order_size\",\n",
    "    hue=\"group\",\n",
    "    marker=\"o\",\n",
    "    linewidth=2.5\n",
    ")\n",
    "\n",
    "plt.title(\"Tamaño promedio de pedido acumulado por grupo\", fontsize=14)\n",
    "plt.xlabel(\"Fecha\", fontsize=12)\n",
    "plt.ylabel(\"Tamaño promedio del pedido (USD)\", fontsize=12)\n",
    "plt.grid(True, linestyle=\"--\", alpha=0.5)\n",
    "plt.legend(title=\"Grupo\")\n",
    "plt.xticks(rotation=45)\n",
    "plt.tight_layout()\n",
    "plt.show()"
   ]
  },
  {
   "cell_type": "markdown",
   "metadata": {},
   "source": [
    "**conclusiones** empiezan los dos grupo con bastante diferencia pero luego se empetan donde el grupo B tiene marca la delantera lo que indica que tiene un mayo promedio acumulado esos dias, por el otro lado el grupo A va subiendo pero luego se estabiliza por el contrario el grupo A tiene un repunte por el dia 20 pero luego cae poco a poco, de todas formas termina con gran ventaja sobre el grupo A, quiere decir que el repunte ayudo bastante, siendo una camapaña de merketin existosa, algun descuento o hasta algun lugar atipico"
   ]
  },
  {
   "cell_type": "markdown",
   "metadata": {},
   "source": [
    "3.- Representa gráficamente la diferencia relativa en el tamaño de pedido promedio acumulado para el grupo B en comparación con el grupo A."
   ]
  },
  {
   "cell_type": "code",
   "execution_count": 17,
   "metadata": {
    "trusted": true
   },
   "outputs": [
    {
     "data": {
      "text/html": [
       "<div>\n",
       "<style scoped>\n",
       "    .dataframe tbody tr th:only-of-type {\n",
       "        vertical-align: middle;\n",
       "    }\n",
       "\n",
       "    .dataframe tbody tr th {\n",
       "        vertical-align: top;\n",
       "    }\n",
       "\n",
       "    .dataframe thead th {\n",
       "        text-align: right;\n",
       "    }\n",
       "</style>\n",
       "<table border=\"1\" class=\"dataframe\">\n",
       "  <thead>\n",
       "    <tr style=\"text-align: right;\">\n",
       "      <th></th>\n",
       "      <th>date</th>\n",
       "      <th>avg_A</th>\n",
       "      <th>avg_B</th>\n",
       "      <th>relative_diff</th>\n",
       "    </tr>\n",
       "  </thead>\n",
       "  <tbody>\n",
       "    <tr>\n",
       "      <th>0</th>\n",
       "      <td>2019-08-01</td>\n",
       "      <td>98.547826</td>\n",
       "      <td>56.894118</td>\n",
       "      <td>-42.267506</td>\n",
       "    </tr>\n",
       "    <tr>\n",
       "      <th>1</th>\n",
       "      <td>2019-08-02</td>\n",
       "      <td>88.926190</td>\n",
       "      <td>88.382500</td>\n",
       "      <td>-0.611395</td>\n",
       "    </tr>\n",
       "    <tr>\n",
       "      <th>2</th>\n",
       "      <td>2019-08-03</td>\n",
       "      <td>84.092424</td>\n",
       "      <td>85.312963</td>\n",
       "      <td>1.451425</td>\n",
       "    </tr>\n",
       "    <tr>\n",
       "      <th>3</th>\n",
       "      <td>2019-08-04</td>\n",
       "      <td>80.851948</td>\n",
       "      <td>90.272059</td>\n",
       "      <td>11.651062</td>\n",
       "    </tr>\n",
       "    <tr>\n",
       "      <th>4</th>\n",
       "      <td>2019-08-05</td>\n",
       "      <td>77.006061</td>\n",
       "      <td>85.256180</td>\n",
       "      <td>10.713597</td>\n",
       "    </tr>\n",
       "  </tbody>\n",
       "</table>\n",
       "</div>"
      ],
      "text/plain": [
       "        date      avg_A      avg_B  relative_diff\n",
       "0 2019-08-01  98.547826  56.894118     -42.267506\n",
       "1 2019-08-02  88.926190  88.382500      -0.611395\n",
       "2 2019-08-03  84.092424  85.312963       1.451425\n",
       "3 2019-08-04  80.851948  90.272059      11.651062\n",
       "4 2019-08-05  77.006061  85.256180      10.713597"
      ]
     },
     "execution_count": 17,
     "metadata": {},
     "output_type": "execute_result"
    }
   ],
   "source": [
    "group_a = cumulative_orders[cumulative_orders[\"group\"] == \"A\"][[\"date\", \"average_order_size\"]]\n",
    "group_b = cumulative_orders[cumulative_orders[\"group\"] == \"B\"][[\"date\", \"average_order_size\"]]\n",
    "\n",
    "comparison = pd.merge(\n",
    "    group_a.rename(columns={\"average_order_size\": \"avg_A\"}),\n",
    "    group_b.rename(columns={\"average_order_size\": \"avg_B\"}),\n",
    "    on=\"date\",\n",
    "    how=\"outer\"\n",
    ")\n",
    "\n",
    "comparison[\"relative_diff\"] = ((comparison[\"avg_B\"] - comparison[\"avg_A\"]) / comparison[\"avg_A\"]) * 100\n",
    "comparison.head()"
   ]
  },
  {
   "cell_type": "code",
   "execution_count": 18,
   "metadata": {
    "trusted": true
   },
   "outputs": [
    {
     "data": {
      "image/png": "[encoded data removed]",
      "text/plain": [
       "<Figure size 1200x600 with 1 Axes>"
      ]
     },
     "metadata": {},
     "output_type": "display_data"
    }
   ],
   "source": [
    "plt.figure(figsize=(12, 6))\n",
    "sns.lineplot(\n",
    "    data=comparison,\n",
    "    x=\"date\",\n",
    "    y=\"relative_diff\",\n",
    "    color=\"#2ecc71\",  \n",
    "    marker=\"o\",\n",
    "    linewidth=2.5\n",
    ")\n",
    "\n",
    "\n",
    "plt.axhline(0, color=\"gray\", linestyle=\"--\", alpha=0.5)\n",
    "\n",
    "plt.title(\"Diferencia relativa en tamaño de pedido promedio acumulado: Grupo B vs Grupo A\", fontsize=14)\n",
    "plt.xlabel(\"Fecha\", fontsize=12)\n",
    "plt.ylabel(\"Diferencia relativa (%)\", fontsize=12)\n",
    "plt.grid(True, linestyle=\"--\", alpha=0.5)\n",
    "plt.xticks(rotation=45)\n",
    "plt.tight_layout()"
   ]
  },
  {
   "cell_type": "markdown",
   "metadata": {},
   "source": [
    "**conclusiones** analizando la grafica nos damos cuenta que la mayoria de veces el grupo B es mayor que el A sobre el pedido promedio acumulado la maxima ventaja se ha visto cerca del dia 20 como en los otros graficos donde lelga a se cerca del 50% la ventaja mas grande entre ambos grupos, B sigue afirmado que saca por mucho la delantera sobre le grupo A"
   ]
  },
  {
   "cell_type": "markdown",
   "metadata": {},
   "source": [
    "4.- Calcula la tasa de conversión de cada grupo como la relación entre los pedidos y el número de visitas de cada día. Representa gráficamente las tasas de conversión diarias de los dos grupos y describe la diferencia."
   ]
  },
  {
   "cell_type": "code",
   "execution_count": 38,
   "metadata": {
    "trusted": true
   },
   "outputs": [],
   "source": [
    "visits['date'] = pd.to_datetime(visits['date'])"
   ]
  },
  {
   "cell_type": "code",
   "execution_count": 44,
   "metadata": {
    "trusted": true
   },
   "outputs": [
    {
     "data": {
      "text/html": [
       "<div>\n",
       "<style scoped>\n",
       "    .dataframe tbody tr th:only-of-type {\n",
       "        vertical-align: middle;\n",
       "    }\n",
       "\n",
       "    .dataframe tbody tr th {\n",
       "        vertical-align: top;\n",
       "    }\n",
       "\n",
       "    .dataframe thead th {\n",
       "        text-align: right;\n",
       "    }\n",
       "</style>\n",
       "<table border=\"1\" class=\"dataframe\">\n",
       "  <thead>\n",
       "    <tr style=\"text-align: right;\">\n",
       "      <th></th>\n",
       "      <th>date</th>\n",
       "      <th>group</th>\n",
       "      <th>visits</th>\n",
       "    </tr>\n",
       "  </thead>\n",
       "  <tbody>\n",
       "    <tr>\n",
       "      <th>0</th>\n",
       "      <td>2019-08-01</td>\n",
       "      <td>A</td>\n",
       "      <td>719</td>\n",
       "    </tr>\n",
       "    <tr>\n",
       "      <th>1</th>\n",
       "      <td>2019-08-02</td>\n",
       "      <td>A</td>\n",
       "      <td>619</td>\n",
       "    </tr>\n",
       "    <tr>\n",
       "      <th>2</th>\n",
       "      <td>2019-08-03</td>\n",
       "      <td>A</td>\n",
       "      <td>507</td>\n",
       "    </tr>\n",
       "    <tr>\n",
       "      <th>3</th>\n",
       "      <td>2019-08-04</td>\n",
       "      <td>A</td>\n",
       "      <td>717</td>\n",
       "    </tr>\n",
       "    <tr>\n",
       "      <th>4</th>\n",
       "      <td>2019-08-05</td>\n",
       "      <td>A</td>\n",
       "      <td>756</td>\n",
       "    </tr>\n",
       "    <tr>\n",
       "      <th>...</th>\n",
       "      <td>...</td>\n",
       "      <td>...</td>\n",
       "      <td>...</td>\n",
       "    </tr>\n",
       "    <tr>\n",
       "      <th>57</th>\n",
       "      <td>2019-08-27</td>\n",
       "      <td>B</td>\n",
       "      <td>720</td>\n",
       "    </tr>\n",
       "    <tr>\n",
       "      <th>58</th>\n",
       "      <td>2019-08-28</td>\n",
       "      <td>B</td>\n",
       "      <td>654</td>\n",
       "    </tr>\n",
       "    <tr>\n",
       "      <th>59</th>\n",
       "      <td>2019-08-29</td>\n",
       "      <td>B</td>\n",
       "      <td>531</td>\n",
       "    </tr>\n",
       "    <tr>\n",
       "      <th>60</th>\n",
       "      <td>2019-08-30</td>\n",
       "      <td>B</td>\n",
       "      <td>490</td>\n",
       "    </tr>\n",
       "    <tr>\n",
       "      <th>61</th>\n",
       "      <td>2019-08-31</td>\n",
       "      <td>B</td>\n",
       "      <td>718</td>\n",
       "    </tr>\n",
       "  </tbody>\n",
       "</table>\n",
       "<p>62 rows × 3 columns</p>\n",
       "</div>"
      ],
      "text/plain": [
       "         date group  visits\n",
       "0  2019-08-01     A     719\n",
       "1  2019-08-02     A     619\n",
       "2  2019-08-03     A     507\n",
       "3  2019-08-04     A     717\n",
       "4  2019-08-05     A     756\n",
       "..        ...   ...     ...\n",
       "57 2019-08-27     B     720\n",
       "58 2019-08-28     B     654\n",
       "59 2019-08-29     B     531\n",
       "60 2019-08-30     B     490\n",
       "61 2019-08-31     B     718\n",
       "\n",
       "[62 rows x 3 columns]"
      ]
     },
     "execution_count": 44,
     "metadata": {},
     "output_type": "execute_result"
    }
   ],
   "source": [
    "visits"
   ]
  },
  {
   "cell_type": "code",
   "execution_count": 50,
   "metadata": {
    "trusted": true
   },
   "outputs": [
    {
     "data": {
      "text/html": [
       "<div>\n",
       "<style scoped>\n",
       "    .dataframe tbody tr th:only-of-type {\n",
       "        vertical-align: middle;\n",
       "    }\n",
       "\n",
       "    .dataframe tbody tr th {\n",
       "        vertical-align: top;\n",
       "    }\n",
       "\n",
       "    .dataframe thead th {\n",
       "        text-align: right;\n",
       "    }\n",
       "</style>\n",
       "<table border=\"1\" class=\"dataframe\">\n",
       "  <thead>\n",
       "    <tr style=\"text-align: right;\">\n",
       "      <th></th>\n",
       "      <th>date</th>\n",
       "      <th>group</th>\n",
       "      <th>ordenes_diarias</th>\n",
       "      <th>ordenes_acumuladas</th>\n",
       "      <th>visitas_acumuladas</th>\n",
       "      <th>conversion_rate</th>\n",
       "    </tr>\n",
       "  </thead>\n",
       "  <tbody>\n",
       "    <tr>\n",
       "      <th>0</th>\n",
       "      <td>2019-08-01</td>\n",
       "      <td>A</td>\n",
       "      <td>23</td>\n",
       "      <td>23</td>\n",
       "      <td>719</td>\n",
       "      <td>0.031989</td>\n",
       "    </tr>\n",
       "    <tr>\n",
       "      <th>1</th>\n",
       "      <td>2019-08-02</td>\n",
       "      <td>A</td>\n",
       "      <td>19</td>\n",
       "      <td>42</td>\n",
       "      <td>1338</td>\n",
       "      <td>0.031390</td>\n",
       "    </tr>\n",
       "    <tr>\n",
       "      <th>2</th>\n",
       "      <td>2019-08-03</td>\n",
       "      <td>A</td>\n",
       "      <td>24</td>\n",
       "      <td>66</td>\n",
       "      <td>1845</td>\n",
       "      <td>0.035772</td>\n",
       "    </tr>\n",
       "    <tr>\n",
       "      <th>3</th>\n",
       "      <td>2019-08-04</td>\n",
       "      <td>A</td>\n",
       "      <td>11</td>\n",
       "      <td>77</td>\n",
       "      <td>2562</td>\n",
       "      <td>0.030055</td>\n",
       "    </tr>\n",
       "    <tr>\n",
       "      <th>4</th>\n",
       "      <td>2019-08-05</td>\n",
       "      <td>A</td>\n",
       "      <td>22</td>\n",
       "      <td>99</td>\n",
       "      <td>3318</td>\n",
       "      <td>0.029837</td>\n",
       "    </tr>\n",
       "    <tr>\n",
       "      <th>...</th>\n",
       "      <td>...</td>\n",
       "      <td>...</td>\n",
       "      <td>...</td>\n",
       "      <td>...</td>\n",
       "      <td>...</td>\n",
       "      <td>...</td>\n",
       "    </tr>\n",
       "    <tr>\n",
       "      <th>57</th>\n",
       "      <td>2019-08-27</td>\n",
       "      <td>B</td>\n",
       "      <td>11</td>\n",
       "      <td>473</td>\n",
       "      <td>16523</td>\n",
       "      <td>0.028627</td>\n",
       "    </tr>\n",
       "    <tr>\n",
       "      <th>58</th>\n",
       "      <td>2019-08-28</td>\n",
       "      <td>B</td>\n",
       "      <td>22</td>\n",
       "      <td>495</td>\n",
       "      <td>17177</td>\n",
       "      <td>0.028818</td>\n",
       "    </tr>\n",
       "    <tr>\n",
       "      <th>59</th>\n",
       "      <td>2019-08-29</td>\n",
       "      <td>B</td>\n",
       "      <td>15</td>\n",
       "      <td>510</td>\n",
       "      <td>17708</td>\n",
       "      <td>0.028801</td>\n",
       "    </tr>\n",
       "    <tr>\n",
       "      <th>60</th>\n",
       "      <td>2019-08-30</td>\n",
       "      <td>B</td>\n",
       "      <td>21</td>\n",
       "      <td>531</td>\n",
       "      <td>18198</td>\n",
       "      <td>0.029179</td>\n",
       "    </tr>\n",
       "    <tr>\n",
       "      <th>61</th>\n",
       "      <td>2019-08-31</td>\n",
       "      <td>B</td>\n",
       "      <td>17</td>\n",
       "      <td>548</td>\n",
       "      <td>18916</td>\n",
       "      <td>0.028970</td>\n",
       "    </tr>\n",
       "  </tbody>\n",
       "</table>\n",
       "<p>62 rows × 6 columns</p>\n",
       "</div>"
      ],
      "text/plain": [
       "         date group  ordenes_diarias  ordenes_acumuladas  visitas_acumuladas  \\\n",
       "0  2019-08-01     A               23                  23                 719   \n",
       "1  2019-08-02     A               19                  42                1338   \n",
       "2  2019-08-03     A               24                  66                1845   \n",
       "3  2019-08-04     A               11                  77                2562   \n",
       "4  2019-08-05     A               22                  99                3318   \n",
       "..        ...   ...              ...                 ...                 ...   \n",
       "57 2019-08-27     B               11                 473               16523   \n",
       "58 2019-08-28     B               22                 495               17177   \n",
       "59 2019-08-29     B               15                 510               17708   \n",
       "60 2019-08-30     B               21                 531               18198   \n",
       "61 2019-08-31     B               17                 548               18916   \n",
       "\n",
       "    conversion_rate  \n",
       "0          0.031989  \n",
       "1          0.031390  \n",
       "2          0.035772  \n",
       "3          0.030055  \n",
       "4          0.029837  \n",
       "..              ...  \n",
       "57         0.028627  \n",
       "58         0.028818  \n",
       "59         0.028801  \n",
       "60         0.029179  \n",
       "61         0.028970  \n",
       "\n",
       "[62 rows x 6 columns]"
      ]
     },
     "execution_count": 50,
     "metadata": {},
     "output_type": "execute_result"
    }
   ],
   "source": [
    "# 1. Ordenes únicas por día y grupo \n",
    "ordenes_unicas_dia_grupo = (\n",
    "    orders[['date','group','transactionId']]\n",
    "    .sort_values(by='date',ascending=True)\n",
    "    .groupby(['date','group'])\n",
    "    .nunique()\n",
    "    .reset_index()\n",
    "    .rename(columns={'transactionId':'ordenes_diarias'})\n",
    "    \n",
    ")\n",
    "\n",
    "ordenes_acumuladas = (\n",
    "    ordenes_unicas_dia_grupo\n",
    "    .groupby('group')[['date','group','ordenes_diarias']]\n",
    "    .apply(lambda x: x.sort_values('date').assign(ordenes_acumuladas=lambda x: x['ordenes_diarias'].cumsum()))\n",
    "    .reset_index(drop=True)\n",
    ")\n",
    "\n",
    "# 3. Visitas  acumulado por grupo\n",
    "visitas_acumuladas = (\n",
    "    visits\n",
    "    .sort_values(['group', 'date'])  \n",
    "    .groupby('group', group_keys=False)  \n",
    "    .apply(lambda x: x.assign(visitas_acumuladas=x['visits'].cumsum()))\n",
    "    [['date', 'group', 'visitas_acumuladas']]\n",
    ")\n",
    "\n",
    "#merged ambos df\n",
    "merged_data = ordenes_acumuladas.merge(\n",
    "    visitas_acumuladas,\n",
    "    on=['date','group'],\n",
    "    how='inner'\n",
    ")\n",
    "\n",
    "merged_data['conversion_rate'] = merged_data['ordenes_acumuladas'] / merged_data['visitas_acumuladas']\n",
    "\n",
    "merged_data\n"
   ]
  },
  {
   "cell_type": "code",
   "execution_count": 48,
   "metadata": {
    "trusted": true
   },
   "outputs": [
    {
     "data": {
      "image/png": "[encoded data removed]",
      "text/plain": [
       "<Figure size 1200x600 with 1 Axes>"
      ]
     },
     "metadata": {},
     "output_type": "display_data"
    }
   ],
   "source": [
    "plt.figure(figsize=(12, 6))\n",
    "sns.lineplot(\n",
    "    data=merged_data,\n",
    "    x=\"date\",\n",
    "    y=\"conversion_rate\",\n",
    "    hue=\"group\",\n",
    "    marker=\"o\",\n",
    "    linewidth=2.5\n",
    ")\n",
    "\n",
    "plt.title(\"Tasa de conversión diaria por grupo\", fontsize=14)\n",
    "plt.xlabel(\"Fecha\", fontsize=12)\n",
    "plt.ylabel(\"Tasa de conversión\", fontsize=12)\n",
    "plt.grid(True, linestyle=\"--\", alpha=0.5)\n",
    "plt.legend(title=\"Grupo\")\n",
    "plt.xticks(rotation=45)\n",
    "plt.tight_layout()\n",
    "plt.show()"
   ]
  },
  {
   "cell_type": "markdown",
   "metadata": {},
   "source": [
    "**Conclusiones** al hacer los calculos con la data acumulada se puede observar mejor que el grupo B tiene una mejor tasa de conversión que el grupo A aunque al principio gana el grupo A se ve que despues de unos dias el grupo B sobrepasa y queda por la delantera"
   ]
  },
  {
   "cell_type": "markdown",
   "metadata": {},
   "source": [
    "5.- Traza un gráfico de dispersión del número de pedidos por usuario."
   ]
  },
  {
   "cell_type": "code",
   "execution_count": null,
   "metadata": {
    "trusted": true
   },
   "outputs": [],
   "source": [
    "# Agrupar por usuario y contar pedidos\n",
    "orders_per_user = (\n",
    "    orders.groupby(\"visitorId\")[\"transactionId\"]\n",
    "    .count()\n",
    "    .reset_index()\n",
    "    .rename(columns={\"transactionId\": \"total_orders\"})\n",
    ")\n",
    "\n",
    "plt.figure(figsize=(12, 6))\n",
    "\n",
    "# Crear el scatter plot\n",
    "plt.scatter(\n",
    "    x=range(len(orders_per_user)),  \n",
    "    y=orders_per_user[\"total_orders\"],\n",
    "    alpha=0.5,  \n",
    "    color=\"#3498db\"\n",
    ")\n",
    "\n",
    "# Personalizar\n",
    "plt.title(\"Distribución de pedidos por usuario\", fontsize=14)\n",
    "plt.xlabel(\"Usuarios\")\n",
    "plt.ylabel(\"Número de pedidos por usuario\")\n",
    "plt.grid(True, linestyle=\"--\", alpha=0.5)"
   ]
  },
  {
   "cell_type": "markdown",
   "metadata": {},
   "source": [
    "**conclusiones** la mayoría de usuarios tienen solo un pedido, casi muy pocos 2 que son los usuarios recurrentes y solo 7 tiene 3 pedidos, podria decir que son los mas fieles, algo interesante es que no tenemos valores atipicos lo cual es un buen indicador que no hubo algun error, o pedidos fraude. "
   ]
  },
  {
   "cell_type": "markdown",
   "metadata": {},
   "source": [
    "6.- Calcula los percentiles 95 y 99 del número de pedidos por usuario."
   ]
  },
  {
   "cell_type": "code",
   "execution_count": null,
   "metadata": {
    "trusted": true
   },
   "outputs": [],
   "source": [
    "print('Percentiles 90/95/99:', np.percentile(orders_per_user[\"total_orders\"], [90, 95, 99]))"
   ]
  },
  {
   "cell_type": "markdown",
   "metadata": {},
   "source": [
    "**conclusiones** como vemos en la grafica de arriba un poco de menos del 1% realiza mayor o igual que 2 pedidos "
   ]
  },
  {
   "cell_type": "markdown",
   "metadata": {},
   "source": [
    "7.- Traza un gráfico de dispersión de los precios de los pedidos."
   ]
  },
  {
   "cell_type": "code",
   "execution_count": null,
   "metadata": {
    "trusted": true
   },
   "outputs": [],
   "source": [
    "# Agrupar por usuario y contar pedidos\n",
    "plt.figure(figsize=(14, 7))\n",
    "\n",
    "# Gráfico de dispersión básico\n",
    "plt.scatter(\n",
    "    x= range(len(orders[\"revenue\"])),\n",
    "    y=orders[\"revenue\"],\n",
    "    alpha=0.6,        # Transparencia para ver densidad\n",
    "    color=\"#2980b9\",  # Color azul\n",
    "    label=\"Precio por pedido\"\n",
    ")\n",
    "\n",
    "\n",
    "plt.title(\"Distribución de precios de los pedidos\", fontsize=16)\n",
    "plt.xlabel(\"Indice\", fontsize=12)\n",
    "plt.ylabel(\"Precio del pedido (USD)\", fontsize=12)\n",
    "plt.grid(True, linestyle=\"--\", alpha=0.4)\n",
    "plt.legend()\n",
    "plt.show()"
   ]
  },
  {
   "cell_type": "markdown",
   "metadata": {},
   "source": [
    "**conclusiones** la mayoria de pedidos no pasa de 1000 dolares, lo cual esta bien pero podemos ver que hay en especifico dos pedidos atipicos un arriba de 2500 y uno ya en 20000 lo cual es algo extremadamente atipico y algo que no se habia visto, hace falta ver los perecentiles para sabes como de verdad se distribuyen los pedidos"
   ]
  },
  {
   "cell_type": "markdown",
   "metadata": {},
   "source": [
    "8.- Calcula los percentiles 95 y 99 de los precios de los pedidos. Define el punto en el cual un punto de datos se convierte en una anomalía.\n"
   ]
  },
  {
   "cell_type": "code",
   "execution_count": null,
   "metadata": {
    "trusted": true
   },
   "outputs": [],
   "source": [
    "print('Percentiles 90/95/99:', np.percentile(orders[\"revenue\"], [90, 95, 99]))\n"
   ]
  },
  {
   "cell_type": "markdown",
   "metadata": {},
   "source": [
    "**conclusiones** se confirma que el 95% de los pedidos no pasan de 415 dolares el pedido, el punto donde se convierte en una anomalia serian pedidos arriba de 830 dolares lo que menos del 1% de los datos cumplen "
   ]
  },
  {
   "cell_type": "markdown",
   "metadata": {},
   "source": [
    "9.- Encuentra la significancia estadística de la diferencia en la conversión entre los grupos utilizando los datos en bruto."
   ]
  },
  {
   "cell_type": "code",
   "execution_count": null,
   "metadata": {
    "trusted": true
   },
   "outputs": [],
   "source": [
    "# total de visitas por grupo\n",
    "visits_total = visits.groupby('group')['visits'].sum()\n",
    "# total de conversiones por grupo \n",
    "conversions_total = orders.groupby('group')['transactionId'].nunique()\n",
    "\n",
    "# Unimos en un df\n",
    "summary = pd.DataFrame({\n",
    "    'visits': visits_total,\n",
    "    'conversions': conversions_total\n",
    "})\n",
    "\n",
    "# Tasa de conversión\n",
    "summary['conversion_rate'] = summary['conversions'] / summary['visits']\n",
    "print(summary)"
   ]
  },
  {
   "cell_type": "code",
   "execution_count": null,
   "metadata": {
    "trusted": true
   },
   "outputs": [],
   "source": [
    "conversions = summary['conversions'].values\n",
    "visits = summary['visits'].values\n",
    "z_stat, p_val = proportions_ztest(conversions, visits)\n",
    "\n",
    "print(f\"Z-stat: {z_stat:.4f}\")\n",
    "print(f\"P-value: {p_val:.4f}\")\n",
    "\n",
    "alpha = 0.05 \n",
    "\n",
    "if p_val > alpha:\n",
    "    print(f\"No hay diferencia significativa (p = {p_val:.4f})\")\n",
    "    print(\"No se puede concluir que un grupo convierta mejor que el otro.\")\n",
    "else:\n",
    "    print(f\"Diferencia significativa (p = {p_val:.4f})\")\n",
    "    print(\"Hay evidencia estadística de que un grupo tiene mejor conversión.\")"
   ]
  },
  {
   "cell_type": "markdown",
   "metadata": {},
   "source": [
    "**conclusiones** como el valor z es negativo esto indica que el grupo B tiene mejor tasa de conversion y como el p-value es menor que alpha esto quiere decir que hay un grupo que si tiene una mejor conversion clara, en este caso el grupo B"
   ]
  },
  {
   "cell_type": "markdown",
   "metadata": {},
   "source": [
    "10.- Encuentra la significancia estadística de la diferencia en el tamaño promedio de pedido entre los grupos utilizando los datos en bruto."
   ]
  },
  {
   "cell_type": "code",
   "execution_count": null,
   "metadata": {
    "trusted": true
   },
   "outputs": [],
   "source": [
    "# filtra revenue por grupo\n",
    "group_A = orders[orders['group'] == 'A']['revenue']\n",
    "group_B = orders[orders['group'] == 'B']['revenue']\n",
    "\n",
    "#aplicar prueba robusta mannwhitneyu\n",
    "u_stat, pval_rev = stats.mannwhitneyu(group_A, group_B, alternative='two-sided')\n",
    "print(f\"U-stat: {u_stat}\")\n",
    "print(f\"P-value: {pval_rev:.4f}\")\n",
    "\n",
    "alpha = 0.05\n",
    "\n",
    "if pval_rev > alpha:\n",
    "    print(\"No hay diferencia significativa en el tamaño promedio de pedido.\")\n",
    "else:\n",
    "    print(\"Sí hay diferencia significativa en el tamaño promedio de pedido.\")"
   ]
  },
  {
   "cell_type": "markdown",
   "metadata": {},
   "source": [
    "**conclusiones** al ver que no hay una diferenfcia significatica del promedio de pedido, esto sugiere que ambos grupos gastan aproximadamente lo mismo cuando compran, pero si tomamos los datos que el grupo B tiene mejor conversion, este sigue con la delantera "
   ]
  },
  {
   "cell_type": "markdown",
   "metadata": {},
   "source": [
    "11.- Encuentra la significancia estadística de la diferencia en la conversión entre los grupos utilizando los datos filtrados. "
   ]
  },
  {
   "cell_type": "code",
   "execution_count": null,
   "metadata": {
    "trusted": true
   },
   "outputs": [],
   "source": [
    "# Calculamos el percentil 99\n",
    "revenue_threshold = orders['revenue'].quantile(.98).round(2)\n",
    "print(revenue_threshold)\n",
    "#filtramos df \n",
    "filtered_orders = orders[orders['revenue'] <= revenue_threshold]\n",
    "#se agrupa para contar las conversiones filtradas\n",
    "filtered_conversions = filtered_orders.groupby('group')['transactionId'].nunique()\n",
    "#visits sigue igual, unimos df\n",
    "filtered_summary = pd.DataFrame({\n",
    "    'visits': visits_total,\n",
    "    'conversions': filtered_conversions\n",
    "})\n",
    "#calcula la tasa de conversion\n",
    "filtered_summary['conversion_rate'] = filtered_summary['conversions'] / filtered_summary['visits']\n",
    "print(filtered_summary)"
   ]
  },
  {
   "cell_type": "code",
   "execution_count": null,
   "metadata": {
    "trusted": true
   },
   "outputs": [],
   "source": [
    "#se aplica mismo test pero ahora con el df filtrado\n",
    "conversions = filtered_summary['conversions'].values\n",
    "visits = filtered_summary['visits'].values\n",
    "z_stat, p_val = proportions_ztest(conversions, visits)\n",
    "\n",
    "print(f\"Z-stat: {z_stat:.4f}\")\n",
    "print(f\"P-value: {p_val:.4f}\")\n",
    "\n",
    "alpha = 0.05 \n",
    "\n",
    "if p_val > alpha:\n",
    "    print(f\"No hay diferencia significativa (p = {p_val:.4f})\")\n",
    "    print(\"No se puede concluir que un grupo convierta mejor que el otro.\")\n",
    "else:\n",
    "    print(f\"Diferencia significativa (p = {p_val:.4f})\")\n",
    "    print(\"Hay evidencia estadística de que un grupo tiene mejor conversión.\")"
   ]
  },
  {
   "cell_type": "markdown",
   "metadata": {},
   "source": [
    "**conclusion** al filtrar el df nos damos cuenta que no hubo tanta diferencia, ya que los valores atipicos era muy pocos, al ver que el p-value es menor que alpha ya sin valores atipicos, se pude concluir de una manera mas segura que B tiene mejor conversion que A "
   ]
  },
  {
   "cell_type": "markdown",
   "metadata": {},
   "source": [
    "12.- Encuentra la significancia estadística de la diferencia en el tamaño promedio de pedido entre los grupos utilizando los datos filtrados."
   ]
  },
  {
   "cell_type": "code",
   "execution_count": null,
   "metadata": {
    "trusted": true
   },
   "outputs": [],
   "source": [
    "#ya contamos con el df filtrado filtered_orders\n",
    "\n",
    "# filtra revenue por grupo\n",
    "group_A = filtered_orders[filtered_orders['group'] == 'A']['revenue']\n",
    "group_B = filtered_orders[filtered_orders['group'] == 'B']['revenue']\n",
    "\n",
    "#aplicar prueba robusta mannwhitneyu\n",
    "u_stat, p_value = stats.mannwhitneyu(group_A, group_B, alternative='two-sided')\n",
    "print(f\"U-stat: {u_stat}\")\n",
    "print(f\"P-value: {p_value:.4f}\")\n",
    "\n",
    "alpha = 0.05\n",
    "if p_value > alpha:\n",
    "    print(\"No hay diferencia significativa en el tamaño promedio de pedido.\")\n",
    "else:\n",
    "    print(\"Sí hay diferencia significativa en el tamaño promedio de pedido.\")"
   ]
  },
  {
   "cell_type": "markdown",
   "metadata": {},
   "source": [
    "**conclusion** una vez mas con los datos filtados no hay evidencia estadística suficiente para afirmar que hay una diferencia en el tamaño promedio de pedido entre los grupos A y B una vez pero al ver que B tiene mejor conversion sigue por adelante"
   ]
  },
  {
   "cell_type": "markdown",
   "metadata": {},
   "source": [
    "## Conclusión\n"
   ]
  },
  {
   "cell_type": "markdown",
   "metadata": {},
   "source": [
    "Por un lado en la prueba de conversión se vio que el grupo B convierte **significativamente** mejor y por otro lado se vio que el tamaño promedio de pedido no hay una diferencia significativa. Esto indica que B convierte mejor sin comprometer el valor por transacción, por lo que se recomienda detener la prueba y adoptar el grupo B como la variante ganadora."
   ]
  }
 ],
 "metadata": {
  "ExecuteTimeLog": [
   {
    "duration": 2486,
    "start_time": "2025-05-02T15:22:47.186Z"
   },
   {
    "duration": 2,
    "start_time": "2025-05-02T15:22:59.783Z"
   },
   {
    "duration": 23,
    "start_time": "2025-05-02T15:24:25.148Z"
   },
   {
    "duration": 222,
    "start_time": "2025-05-02T15:47:03.068Z"
   },
   {
    "duration": 11,
    "start_time": "2025-05-02T15:47:08.504Z"
   },
   {
    "duration": 17,
    "start_time": "2025-05-02T15:47:26.228Z"
   },
   {
    "duration": 14,
    "start_time": "2025-05-02T15:49:19.675Z"
   },
   {
    "duration": 12,
    "start_time": "2025-05-02T15:49:21.698Z"
   },
   {
    "duration": 14,
    "start_time": "2025-05-02T15:50:31.728Z"
   },
   {
    "duration": 5,
    "start_time": "2025-05-02T15:51:10.256Z"
   },
   {
    "duration": 7,
    "start_time": "2025-05-02T15:59:49.283Z"
   },
   {
    "duration": 7,
    "start_time": "2025-05-02T16:00:03.998Z"
   },
   {
    "duration": 7,
    "start_time": "2025-05-02T16:00:08.191Z"
   },
   {
    "duration": 7,
    "start_time": "2025-05-02T16:00:14.662Z"
   },
   {
    "duration": 6,
    "start_time": "2025-05-02T16:00:19.695Z"
   },
   {
    "duration": 17,
    "start_time": "2025-05-02T16:48:44.660Z"
   },
   {
    "duration": 566,
    "start_time": "2025-05-02T16:49:51.631Z"
   },
   {
    "duration": 9,
    "start_time": "2025-05-02T16:50:22.859Z"
   },
   {
    "duration": 10,
    "start_time": "2025-05-02T16:50:39.322Z"
   },
   {
    "duration": 27,
    "start_time": "2025-05-02T16:57:15.792Z"
   },
   {
    "duration": 12,
    "start_time": "2025-05-02T16:57:23.008Z"
   },
   {
    "duration": 23,
    "start_time": "2025-05-02T16:57:31.184Z"
   },
   {
    "duration": 18,
    "start_time": "2025-05-02T16:57:34.632Z"
   },
   {
    "duration": 14,
    "start_time": "2025-05-02T16:58:10.680Z"
   },
   {
    "duration": 6,
    "start_time": "2025-05-02T16:58:21.845Z"
   },
   {
    "duration": 275,
    "start_time": "2025-05-02T16:59:11.937Z"
   },
   {
    "duration": 18,
    "start_time": "2025-05-02T16:59:51.339Z"
   },
   {
    "duration": 164,
    "start_time": "2025-05-02T18:38:02.047Z"
   },
   {
    "duration": 2711,
    "start_time": "2025-05-02T18:38:07.977Z"
   },
   {
    "duration": 30,
    "start_time": "2025-05-02T18:38:10.690Z"
   },
   {
    "duration": 19,
    "start_time": "2025-05-02T18:38:10.722Z"
   },
   {
    "duration": 20,
    "start_time": "2025-05-02T18:38:10.743Z"
   },
   {
    "duration": 7,
    "start_time": "2025-05-02T18:38:10.767Z"
   },
   {
    "duration": 18,
    "start_time": "2025-05-02T18:38:10.777Z"
   },
   {
    "duration": 39,
    "start_time": "2025-05-02T18:38:10.797Z"
   },
   {
    "duration": 5,
    "start_time": "2025-05-02T18:38:10.838Z"
   },
   {
    "duration": 7,
    "start_time": "2025-05-02T18:38:10.845Z"
   },
   {
    "duration": 221,
    "start_time": "2025-05-02T18:39:19.457Z"
   },
   {
    "duration": 7,
    "start_time": "2025-05-02T18:39:36.357Z"
   },
   {
    "duration": 7,
    "start_time": "2025-05-02T18:39:41.393Z"
   },
   {
    "duration": 5,
    "start_time": "2025-05-02T18:40:34.952Z"
   },
   {
    "duration": 8,
    "start_time": "2025-05-02T18:40:38.683Z"
   },
   {
    "duration": 24,
    "start_time": "2025-05-02T18:42:05.933Z"
   },
   {
    "duration": 18,
    "start_time": "2025-05-02T18:42:33.654Z"
   },
   {
    "duration": 8,
    "start_time": "2025-05-02T18:42:39.168Z"
   },
   {
    "duration": 10,
    "start_time": "2025-05-02T18:43:13.724Z"
   },
   {
    "duration": 10,
    "start_time": "2025-05-02T18:43:16.444Z"
   },
   {
    "duration": 9,
    "start_time": "2025-05-02T18:43:26.109Z"
   },
   {
    "duration": 7,
    "start_time": "2025-05-02T18:44:32.462Z"
   },
   {
    "duration": 8,
    "start_time": "2025-05-02T18:44:51.968Z"
   },
   {
    "duration": 10,
    "start_time": "2025-05-02T18:44:58.028Z"
   },
   {
    "duration": 11,
    "start_time": "2025-05-02T18:45:53.927Z"
   },
   {
    "duration": 5,
    "start_time": "2025-05-02T18:46:48.567Z"
   },
   {
    "duration": 8,
    "start_time": "2025-05-02T18:53:59.263Z"
   },
   {
    "duration": 326,
    "start_time": "2025-05-02T18:56:19.829Z"
   },
   {
    "duration": 46,
    "start_time": "2025-05-02T18:57:18.563Z"
   },
   {
    "duration": 6,
    "start_time": "2025-05-02T18:58:43.005Z"
   },
   {
    "duration": 314,
    "start_time": "2025-05-02T19:04:10.007Z"
   },
   {
    "duration": 9,
    "start_time": "2025-05-02T19:04:15.405Z"
   },
   {
    "duration": 19,
    "start_time": "2025-05-02T19:04:26.361Z"
   },
   {
    "duration": 16,
    "start_time": "2025-05-02T19:04:52.999Z"
   },
   {
    "duration": 2662,
    "start_time": "2025-05-06T23:46:48.396Z"
   },
   {
    "duration": 22,
    "start_time": "2025-05-06T23:46:51.060Z"
   },
   {
    "duration": 16,
    "start_time": "2025-05-06T23:46:51.083Z"
   },
   {
    "duration": 13,
    "start_time": "2025-05-06T23:46:51.100Z"
   },
   {
    "duration": 14,
    "start_time": "2025-05-06T23:46:51.115Z"
   },
   {
    "duration": 13,
    "start_time": "2025-05-06T23:46:51.131Z"
   },
   {
    "duration": 11,
    "start_time": "2025-05-06T23:46:51.147Z"
   },
   {
    "duration": 7,
    "start_time": "2025-05-06T23:46:51.160Z"
   },
   {
    "duration": 10,
    "start_time": "2025-05-06T23:46:51.168Z"
   },
   {
    "duration": 13,
    "start_time": "2025-05-06T23:46:51.179Z"
   },
   {
    "duration": 38,
    "start_time": "2025-05-06T23:46:51.193Z"
   },
   {
    "duration": 10,
    "start_time": "2025-05-06T23:46:51.232Z"
   },
   {
    "duration": 13,
    "start_time": "2025-05-06T23:46:51.244Z"
   },
   {
    "duration": 282,
    "start_time": "2025-05-06T23:54:51.096Z"
   },
   {
    "duration": 887,
    "start_time": "2025-05-06T23:55:09.253Z"
   },
   {
    "duration": 13,
    "start_time": "2025-05-06T23:55:10.143Z"
   },
   {
    "duration": 16,
    "start_time": "2025-05-06T23:55:10.158Z"
   },
   {
    "duration": 14,
    "start_time": "2025-05-06T23:55:10.176Z"
   },
   {
    "duration": 30,
    "start_time": "2025-05-06T23:55:10.194Z"
   },
   {
    "duration": 21,
    "start_time": "2025-05-06T23:55:10.226Z"
   },
   {
    "duration": 14,
    "start_time": "2025-05-06T23:55:10.249Z"
   },
   {
    "duration": 6,
    "start_time": "2025-05-06T23:55:10.265Z"
   },
   {
    "duration": 8,
    "start_time": "2025-05-06T23:55:10.273Z"
   },
   {
    "duration": 47,
    "start_time": "2025-05-06T23:55:10.283Z"
   },
   {
    "duration": 13,
    "start_time": "2025-05-06T23:55:10.332Z"
   },
   {
    "duration": 12,
    "start_time": "2025-05-06T23:55:10.347Z"
   },
   {
    "duration": 14,
    "start_time": "2025-05-06T23:55:10.361Z"
   },
   {
    "duration": 318,
    "start_time": "2025-05-06T23:55:10.378Z"
   },
   {
    "duration": 234,
    "start_time": "2025-05-06T23:55:25.898Z"
   },
   {
    "duration": 16,
    "start_time": "2025-05-06T23:55:40.580Z"
   },
   {
    "duration": 15,
    "start_time": "2025-05-06T23:56:13.121Z"
   },
   {
    "duration": 14,
    "start_time": "2025-05-06T23:56:17.807Z"
   },
   {
    "duration": 227,
    "start_time": "2025-05-06T23:56:19.224Z"
   },
   {
    "duration": 255,
    "start_time": "2025-05-06T23:56:21.378Z"
   },
   {
    "duration": 302,
    "start_time": "2025-05-06T23:56:42.090Z"
   },
   {
    "duration": 343,
    "start_time": "2025-05-06T23:57:25.914Z"
   },
   {
    "duration": 5,
    "start_time": "2025-05-07T00:01:35.924Z"
   },
   {
    "duration": 13,
    "start_time": "2025-05-07T00:05:33.620Z"
   },
   {
    "duration": 15,
    "start_time": "2025-05-07T00:11:55.807Z"
   },
   {
    "duration": 8,
    "start_time": "2025-05-07T00:12:00.252Z"
   },
   {
    "duration": 25,
    "start_time": "2025-05-07T00:13:39.446Z"
   },
   {
    "duration": 25,
    "start_time": "2025-05-07T00:13:45.621Z"
   },
   {
    "duration": 25,
    "start_time": "2025-05-07T00:13:51.549Z"
   },
   {
    "duration": 25,
    "start_time": "2025-05-07T00:13:55.049Z"
   },
   {
    "duration": 15,
    "start_time": "2025-05-07T00:14:04.484Z"
   },
   {
    "duration": 22,
    "start_time": "2025-05-07T00:14:15.683Z"
   },
   {
    "duration": 26,
    "start_time": "2025-05-07T00:15:07.149Z"
   },
   {
    "duration": 308,
    "start_time": "2025-05-07T00:15:12.437Z"
   },
   {
    "duration": 337,
    "start_time": "2025-05-07T00:15:55.749Z"
   },
   {
    "duration": 22,
    "start_time": "2025-05-07T00:26:33.706Z"
   },
   {
    "duration": 279,
    "start_time": "2025-05-07T00:26:40.776Z"
   },
   {
    "duration": 340,
    "start_time": "2025-05-07T00:27:13.497Z"
   },
   {
    "duration": 7,
    "start_time": "2025-05-07T00:49:24.159Z"
   },
   {
    "duration": 12,
    "start_time": "2025-05-07T00:49:45.517Z"
   },
   {
    "duration": 18,
    "start_time": "2025-05-07T00:50:08.517Z"
   },
   {
    "duration": 133,
    "start_time": "2025-05-07T00:51:44.052Z"
   },
   {
    "duration": 16,
    "start_time": "2025-05-07T00:52:01.630Z"
   },
   {
    "duration": 17,
    "start_time": "2025-05-07T00:53:50.210Z"
   },
   {
    "duration": 426,
    "start_time": "2025-05-07T00:53:52.130Z"
   },
   {
    "duration": 17,
    "start_time": "2025-05-07T01:39:46.345Z"
   },
   {
    "duration": 22,
    "start_time": "2025-05-07T01:40:04.548Z"
   },
   {
    "duration": 21,
    "start_time": "2025-05-07T01:40:35.389Z"
   },
   {
    "duration": 313,
    "start_time": "2025-05-07T01:41:30.337Z"
   },
   {
    "duration": 342,
    "start_time": "2025-05-07T01:42:34.320Z"
   },
   {
    "duration": 26,
    "start_time": "2025-05-07T01:44:31.058Z"
   },
   {
    "duration": 4,
    "start_time": "2025-05-07T01:44:42.385Z"
   },
   {
    "duration": 7,
    "start_time": "2025-05-07T01:44:46.736Z"
   },
   {
    "duration": 9,
    "start_time": "2025-05-07T02:02:16.951Z"
   },
   {
    "duration": 7,
    "start_time": "2025-05-07T02:02:37.687Z"
   },
   {
    "duration": 169,
    "start_time": "2025-05-07T02:04:06.987Z"
   },
   {
    "duration": 145,
    "start_time": "2025-05-07T02:11:34.385Z"
   },
   {
    "duration": 4,
    "start_time": "2025-05-07T02:16:50.568Z"
   },
   {
    "duration": 4,
    "start_time": "2025-05-07T02:30:48.916Z"
   },
   {
    "duration": 188,
    "start_time": "2025-05-07T02:30:53.913Z"
   },
   {
    "duration": 10,
    "start_time": "2025-05-07T02:31:20.637Z"
   },
   {
    "duration": 183,
    "start_time": "2025-05-07T02:32:10.682Z"
   },
   {
    "duration": 4,
    "start_time": "2025-05-07T02:32:51.483Z"
   },
   {
    "duration": 6,
    "start_time": "2025-05-07T02:37:48.586Z"
   },
   {
    "duration": 6,
    "start_time": "2025-05-07T02:38:02.251Z"
   },
   {
    "duration": 4,
    "start_time": "2025-05-07T02:38:15.085Z"
   },
   {
    "duration": 2548,
    "start_time": "2025-05-07T16:16:52.745Z"
   },
   {
    "duration": 25,
    "start_time": "2025-05-07T16:16:55.296Z"
   },
   {
    "duration": 15,
    "start_time": "2025-05-07T16:16:55.323Z"
   },
   {
    "duration": 14,
    "start_time": "2025-05-07T16:16:55.339Z"
   },
   {
    "duration": 5,
    "start_time": "2025-05-07T16:16:55.355Z"
   },
   {
    "duration": 14,
    "start_time": "2025-05-07T16:16:55.362Z"
   },
   {
    "duration": 11,
    "start_time": "2025-05-07T16:16:55.378Z"
   },
   {
    "duration": 5,
    "start_time": "2025-05-07T16:16:55.391Z"
   },
   {
    "duration": 47,
    "start_time": "2025-05-07T16:16:55.397Z"
   },
   {
    "duration": 10,
    "start_time": "2025-05-07T16:16:55.445Z"
   },
   {
    "duration": 8,
    "start_time": "2025-05-07T16:16:55.456Z"
   },
   {
    "duration": 9,
    "start_time": "2025-05-07T16:16:55.467Z"
   },
   {
    "duration": 247,
    "start_time": "2025-05-07T16:16:55.478Z"
   },
   {
    "duration": 0,
    "start_time": "2025-05-07T16:16:55.728Z"
   },
   {
    "duration": 0,
    "start_time": "2025-05-07T16:16:55.729Z"
   },
   {
    "duration": 0,
    "start_time": "2025-05-07T16:16:55.730Z"
   },
   {
    "duration": 0,
    "start_time": "2025-05-07T16:16:55.732Z"
   },
   {
    "duration": 0,
    "start_time": "2025-05-07T16:16:55.733Z"
   },
   {
    "duration": 0,
    "start_time": "2025-05-07T16:16:55.743Z"
   },
   {
    "duration": 0,
    "start_time": "2025-05-07T16:16:55.744Z"
   },
   {
    "duration": 0,
    "start_time": "2025-05-07T16:16:55.745Z"
   },
   {
    "duration": 0,
    "start_time": "2025-05-07T16:16:55.747Z"
   },
   {
    "duration": 0,
    "start_time": "2025-05-07T16:16:55.748Z"
   },
   {
    "duration": 0,
    "start_time": "2025-05-07T16:16:55.749Z"
   },
   {
    "duration": 822,
    "start_time": "2025-05-07T16:17:26.972Z"
   },
   {
    "duration": 12,
    "start_time": "2025-05-07T16:17:27.796Z"
   },
   {
    "duration": 14,
    "start_time": "2025-05-07T16:17:27.809Z"
   },
   {
    "duration": 24,
    "start_time": "2025-05-07T16:17:27.825Z"
   },
   {
    "duration": 5,
    "start_time": "2025-05-07T16:17:27.852Z"
   },
   {
    "duration": 14,
    "start_time": "2025-05-07T16:17:27.859Z"
   },
   {
    "duration": 10,
    "start_time": "2025-05-07T16:17:27.875Z"
   },
   {
    "duration": 4,
    "start_time": "2025-05-07T16:17:27.887Z"
   },
   {
    "duration": 6,
    "start_time": "2025-05-07T16:17:27.893Z"
   },
   {
    "duration": 49,
    "start_time": "2025-05-07T16:17:27.900Z"
   },
   {
    "duration": 9,
    "start_time": "2025-05-07T16:17:27.951Z"
   },
   {
    "duration": 10,
    "start_time": "2025-05-07T16:17:27.961Z"
   },
   {
    "duration": 14,
    "start_time": "2025-05-07T16:17:27.973Z"
   },
   {
    "duration": 265,
    "start_time": "2025-05-07T16:17:27.990Z"
   },
   {
    "duration": 13,
    "start_time": "2025-05-07T16:17:28.257Z"
   },
   {
    "duration": 323,
    "start_time": "2025-05-07T16:17:28.272Z"
   },
   {
    "duration": 16,
    "start_time": "2025-05-07T16:17:28.597Z"
   },
   {
    "duration": 396,
    "start_time": "2025-05-07T16:17:28.614Z"
   },
   {
    "duration": 21,
    "start_time": "2025-05-07T16:17:29.011Z"
   },
   {
    "duration": 338,
    "start_time": "2025-05-07T16:17:29.033Z"
   },
   {
    "duration": 159,
    "start_time": "2025-05-07T16:17:29.373Z"
   },
   {
    "duration": 11,
    "start_time": "2025-05-07T16:17:29.534Z"
   },
   {
    "duration": 201,
    "start_time": "2025-05-07T16:17:29.547Z"
   },
   {
    "duration": 5,
    "start_time": "2025-05-07T16:17:29.750Z"
   },
   {
    "duration": 11,
    "start_time": "2025-05-07T16:22:55.121Z"
   },
   {
    "duration": 12,
    "start_time": "2025-05-07T16:32:51.425Z"
   },
   {
    "duration": 14,
    "start_time": "2025-05-07T16:33:29.852Z"
   },
   {
    "duration": 15,
    "start_time": "2025-05-07T16:33:30.032Z"
   },
   {
    "duration": 223,
    "start_time": "2025-05-07T16:40:50.259Z"
   },
   {
    "duration": 8,
    "start_time": "2025-05-07T16:41:07.955Z"
   },
   {
    "duration": 8,
    "start_time": "2025-05-07T16:42:43.723Z"
   },
   {
    "duration": 8,
    "start_time": "2025-05-07T16:42:53.926Z"
   },
   {
    "duration": 7,
    "start_time": "2025-05-07T16:44:09.717Z"
   },
   {
    "duration": 4,
    "start_time": "2025-05-07T16:44:28.208Z"
   },
   {
    "duration": 4,
    "start_time": "2025-05-07T16:45:07.754Z"
   },
   {
    "duration": 4,
    "start_time": "2025-05-07T16:45:12.434Z"
   },
   {
    "duration": 3,
    "start_time": "2025-05-07T16:45:31.652Z"
   },
   {
    "duration": 4,
    "start_time": "2025-05-07T16:45:51.719Z"
   },
   {
    "duration": 4,
    "start_time": "2025-05-07T16:57:23.247Z"
   },
   {
    "duration": 4,
    "start_time": "2025-05-07T16:59:55.799Z"
   },
   {
    "duration": 5,
    "start_time": "2025-05-07T17:09:14.708Z"
   },
   {
    "duration": 7,
    "start_time": "2025-05-07T17:09:25.533Z"
   },
   {
    "duration": 8,
    "start_time": "2025-05-07T17:10:28.444Z"
   },
   {
    "duration": 7,
    "start_time": "2025-05-07T17:12:14.869Z"
   },
   {
    "duration": 8,
    "start_time": "2025-05-07T17:12:31.004Z"
   },
   {
    "duration": 7,
    "start_time": "2025-05-07T17:12:37.841Z"
   },
   {
    "duration": 8,
    "start_time": "2025-05-07T17:21:59.225Z"
   },
   {
    "duration": 6,
    "start_time": "2025-05-07T17:51:28.183Z"
   },
   {
    "duration": 6,
    "start_time": "2025-05-07T17:51:35.270Z"
   },
   {
    "duration": 5,
    "start_time": "2025-05-07T17:51:38.068Z"
   },
   {
    "duration": 5,
    "start_time": "2025-05-07T17:51:51.070Z"
   },
   {
    "duration": 5,
    "start_time": "2025-05-07T17:51:56.700Z"
   },
   {
    "duration": 13,
    "start_time": "2025-05-07T17:52:15.571Z"
   },
   {
    "duration": 12,
    "start_time": "2025-05-07T17:52:31.869Z"
   },
   {
    "duration": 110,
    "start_time": "2025-05-07T17:52:40.112Z"
   },
   {
    "duration": 13,
    "start_time": "2025-05-07T17:52:44.512Z"
   },
   {
    "duration": 13,
    "start_time": "2025-05-07T17:52:56.255Z"
   },
   {
    "duration": 12,
    "start_time": "2025-05-07T17:53:08.189Z"
   },
   {
    "duration": 11,
    "start_time": "2025-05-07T17:53:16.351Z"
   },
   {
    "duration": 6,
    "start_time": "2025-05-07T17:54:11.471Z"
   },
   {
    "duration": 7,
    "start_time": "2025-05-07T17:54:41.868Z"
   },
   {
    "duration": 9,
    "start_time": "2025-05-07T17:54:59.984Z"
   },
   {
    "duration": 9,
    "start_time": "2025-05-07T17:55:11.812Z"
   },
   {
    "duration": 12,
    "start_time": "2025-05-07T17:55:17.484Z"
   },
   {
    "duration": 10,
    "start_time": "2025-05-07T17:55:24.856Z"
   },
   {
    "duration": 9,
    "start_time": "2025-05-07T17:55:30.420Z"
   },
   {
    "duration": 9,
    "start_time": "2025-05-07T17:57:22.185Z"
   },
   {
    "duration": 8,
    "start_time": "2025-05-07T17:57:26.305Z"
   },
   {
    "duration": 4,
    "start_time": "2025-05-07T17:58:31.857Z"
   },
   {
    "duration": 5,
    "start_time": "2025-05-07T17:58:47.038Z"
   },
   {
    "duration": 7,
    "start_time": "2025-05-07T18:12:44.777Z"
   },
   {
    "duration": 11,
    "start_time": "2025-05-07T18:13:39.749Z"
   },
   {
    "duration": 9,
    "start_time": "2025-05-07T18:13:55.469Z"
   },
   {
    "duration": 8,
    "start_time": "2025-05-07T18:15:18.584Z"
   },
   {
    "duration": 7,
    "start_time": "2025-05-07T18:15:43.312Z"
   },
   {
    "duration": 7,
    "start_time": "2025-05-07T18:15:53.992Z"
   },
   {
    "duration": 8,
    "start_time": "2025-05-07T18:16:14.676Z"
   },
   {
    "duration": 3671,
    "start_time": "2025-05-07T21:49:15.741Z"
   },
   {
    "duration": 44,
    "start_time": "2025-05-07T21:49:19.415Z"
   },
   {
    "duration": 21,
    "start_time": "2025-05-07T21:49:19.461Z"
   },
   {
    "duration": 17,
    "start_time": "2025-05-07T21:49:19.485Z"
   },
   {
    "duration": 16,
    "start_time": "2025-05-07T21:49:19.505Z"
   },
   {
    "duration": 22,
    "start_time": "2025-05-07T21:49:19.525Z"
   },
   {
    "duration": 12,
    "start_time": "2025-05-07T21:49:19.549Z"
   },
   {
    "duration": 6,
    "start_time": "2025-05-07T21:49:19.563Z"
   },
   {
    "duration": 8,
    "start_time": "2025-05-07T21:49:19.570Z"
   },
   {
    "duration": 30,
    "start_time": "2025-05-07T21:49:19.583Z"
   },
   {
    "duration": 17,
    "start_time": "2025-05-07T21:49:19.623Z"
   },
   {
    "duration": 18,
    "start_time": "2025-05-07T21:49:19.644Z"
   },
   {
    "duration": 15,
    "start_time": "2025-05-07T21:49:19.665Z"
   },
   {
    "duration": 354,
    "start_time": "2025-05-07T21:49:19.682Z"
   },
   {
    "duration": 25,
    "start_time": "2025-05-07T21:49:20.039Z"
   },
   {
    "duration": 401,
    "start_time": "2025-05-07T21:49:20.066Z"
   },
   {
    "duration": 15,
    "start_time": "2025-05-07T21:49:20.469Z"
   },
   {
    "duration": 406,
    "start_time": "2025-05-07T21:49:20.485Z"
   },
   {
    "duration": 32,
    "start_time": "2025-05-07T21:49:20.893Z"
   },
   {
    "duration": 421,
    "start_time": "2025-05-07T21:49:20.927Z"
   },
   {
    "duration": 171,
    "start_time": "2025-05-07T21:49:21.350Z"
   },
   {
    "duration": 11,
    "start_time": "2025-05-07T21:49:21.523Z"
   },
   {
    "duration": 290,
    "start_time": "2025-05-07T21:49:21.541Z"
   },
   {
    "duration": 12,
    "start_time": "2025-05-07T21:49:21.836Z"
   },
   {
    "duration": 9,
    "start_time": "2025-05-07T21:49:21.853Z"
   },
   {
    "duration": 5,
    "start_time": "2025-05-07T21:49:21.863Z"
   },
   {
    "duration": 290,
    "start_time": "2025-05-07T21:49:21.869Z"
   },
   {
    "duration": 0,
    "start_time": "2025-05-07T21:49:22.160Z"
   },
   {
    "duration": 0,
    "start_time": "2025-05-07T21:49:22.161Z"
   },
   {
    "duration": 0,
    "start_time": "2025-05-07T21:49:22.163Z"
   },
   {
    "duration": 3171,
    "start_time": "2025-05-08T20:41:14.518Z"
   },
   {
    "duration": 31,
    "start_time": "2025-05-08T20:41:17.691Z"
   },
   {
    "duration": 18,
    "start_time": "2025-05-08T20:41:17.724Z"
   },
   {
    "duration": 13,
    "start_time": "2025-05-08T20:41:17.744Z"
   },
   {
    "duration": 6,
    "start_time": "2025-05-08T20:41:17.759Z"
   },
   {
    "duration": 15,
    "start_time": "2025-05-08T20:41:17.767Z"
   },
   {
    "duration": 15,
    "start_time": "2025-05-08T20:41:17.783Z"
   },
   {
    "duration": 6,
    "start_time": "2025-05-08T20:41:17.799Z"
   },
   {
    "duration": 9,
    "start_time": "2025-05-08T20:41:17.806Z"
   },
   {
    "duration": 15,
    "start_time": "2025-05-08T20:41:17.817Z"
   },
   {
    "duration": 14,
    "start_time": "2025-05-08T20:41:17.833Z"
   },
   {
    "duration": 11,
    "start_time": "2025-05-08T20:41:17.851Z"
   },
   {
    "duration": 32,
    "start_time": "2025-05-08T20:41:17.889Z"
   },
   {
    "duration": 303,
    "start_time": "2025-05-08T20:41:17.928Z"
   },
   {
    "duration": 18,
    "start_time": "2025-05-08T20:41:18.234Z"
   },
   {
    "duration": 398,
    "start_time": "2025-05-08T20:41:18.254Z"
   },
   {
    "duration": 20,
    "start_time": "2025-05-08T20:41:18.658Z"
   },
   {
    "duration": 371,
    "start_time": "2025-05-08T20:41:18.679Z"
   },
   {
    "duration": 21,
    "start_time": "2025-05-08T20:41:19.052Z"
   },
   {
    "duration": 375,
    "start_time": "2025-05-08T20:41:19.075Z"
   },
   {
    "duration": 202,
    "start_time": "2025-05-08T20:41:19.454Z"
   },
   {
    "duration": 6,
    "start_time": "2025-05-08T20:41:19.658Z"
   },
   {
    "duration": 269,
    "start_time": "2025-05-08T20:41:19.666Z"
   },
   {
    "duration": 4,
    "start_time": "2025-05-08T20:41:19.937Z"
   },
   {
    "duration": 8,
    "start_time": "2025-05-08T20:41:19.943Z"
   },
   {
    "duration": 4,
    "start_time": "2025-05-08T20:41:19.953Z"
   },
   {
    "duration": 384,
    "start_time": "2025-05-08T20:41:19.959Z"
   },
   {
    "duration": 0,
    "start_time": "2025-05-08T20:41:20.345Z"
   },
   {
    "duration": 0,
    "start_time": "2025-05-08T20:41:20.346Z"
   },
   {
    "duration": 0,
    "start_time": "2025-05-08T20:41:20.347Z"
   },
   {
    "duration": 16,
    "start_time": "2025-05-08T20:48:22.818Z"
   },
   {
    "duration": 12,
    "start_time": "2025-05-08T20:49:01.621Z"
   },
   {
    "duration": 12,
    "start_time": "2025-05-08T20:55:14.677Z"
   },
   {
    "duration": 18,
    "start_time": "2025-05-08T20:55:38.129Z"
   },
   {
    "duration": 15,
    "start_time": "2025-05-08T20:56:03.778Z"
   },
   {
    "duration": 17,
    "start_time": "2025-05-08T20:56:37.498Z"
   },
   {
    "duration": 18,
    "start_time": "2025-05-08T20:57:59.866Z"
   },
   {
    "duration": 19,
    "start_time": "2025-05-08T20:58:12.136Z"
   },
   {
    "duration": 17,
    "start_time": "2025-05-08T20:58:55.330Z"
   },
   {
    "duration": 318,
    "start_time": "2025-05-08T20:59:35.032Z"
   },
   {
    "duration": 181,
    "start_time": "2025-05-08T21:01:41.636Z"
   },
   {
    "duration": 374,
    "start_time": "2025-05-08T21:01:52.484Z"
   },
   {
    "duration": 12,
    "start_time": "2025-05-08T21:04:14.151Z"
   },
   {
    "duration": 3057,
    "start_time": "2025-05-09T09:28:49.650Z"
   },
   {
    "duration": 25,
    "start_time": "2025-05-09T09:28:52.709Z"
   },
   {
    "duration": 17,
    "start_time": "2025-05-09T09:28:52.735Z"
   },
   {
    "duration": 17,
    "start_time": "2025-05-09T09:28:52.754Z"
   },
   {
    "duration": 6,
    "start_time": "2025-05-09T09:28:52.772Z"
   },
   {
    "duration": 18,
    "start_time": "2025-05-09T09:28:52.780Z"
   },
   {
    "duration": 13,
    "start_time": "2025-05-09T09:28:52.799Z"
   },
   {
    "duration": 30,
    "start_time": "2025-05-09T09:28:52.814Z"
   },
   {
    "duration": 8,
    "start_time": "2025-05-09T09:28:52.845Z"
   },
   {
    "duration": 15,
    "start_time": "2025-05-09T09:28:52.856Z"
   },
   {
    "duration": 10,
    "start_time": "2025-05-09T09:28:52.872Z"
   },
   {
    "duration": 9,
    "start_time": "2025-05-09T09:28:52.884Z"
   },
   {
    "duration": 14,
    "start_time": "2025-05-09T09:28:52.895Z"
   },
   {
    "duration": 306,
    "start_time": "2025-05-09T09:28:52.911Z"
   },
   {
    "duration": 15,
    "start_time": "2025-05-09T09:28:53.219Z"
   },
   {
    "duration": 347,
    "start_time": "2025-05-09T09:28:53.235Z"
   },
   {
    "duration": 16,
    "start_time": "2025-05-09T09:28:53.584Z"
   },
   {
    "duration": 383,
    "start_time": "2025-05-09T09:28:53.602Z"
   },
   {
    "duration": 20,
    "start_time": "2025-05-09T09:28:56.341Z"
   },
   {
    "duration": 817,
    "start_time": "2025-05-09T09:31:31.804Z"
   },
   {
    "duration": 12,
    "start_time": "2025-05-09T09:31:32.623Z"
   },
   {
    "duration": 17,
    "start_time": "2025-05-09T09:31:32.637Z"
   },
   {
    "duration": 13,
    "start_time": "2025-05-09T09:31:32.657Z"
   },
   {
    "duration": 6,
    "start_time": "2025-05-09T09:31:32.672Z"
   },
   {
    "duration": 20,
    "start_time": "2025-05-09T09:31:32.679Z"
   },
   {
    "duration": 43,
    "start_time": "2025-05-09T09:31:32.700Z"
   },
   {
    "duration": 5,
    "start_time": "2025-05-09T09:31:32.745Z"
   },
   {
    "duration": 7,
    "start_time": "2025-05-09T09:31:32.752Z"
   },
   {
    "duration": 12,
    "start_time": "2025-05-09T09:31:32.762Z"
   },
   {
    "duration": 10,
    "start_time": "2025-05-09T09:31:32.776Z"
   },
   {
    "duration": 9,
    "start_time": "2025-05-09T09:31:32.788Z"
   },
   {
    "duration": 49,
    "start_time": "2025-05-09T09:31:32.799Z"
   },
   {
    "duration": 274,
    "start_time": "2025-05-09T09:31:32.850Z"
   },
   {
    "duration": 39,
    "start_time": "2025-05-09T09:31:33.126Z"
   },
   {
    "duration": 323,
    "start_time": "2025-05-09T09:31:33.168Z"
   },
   {
    "duration": 16,
    "start_time": "2025-05-09T09:31:33.493Z"
   },
   {
    "duration": 406,
    "start_time": "2025-05-09T09:31:33.510Z"
   },
   {
    "duration": 18,
    "start_time": "2025-05-09T09:31:33.918Z"
   },
   {
    "duration": 348,
    "start_time": "2025-05-09T09:31:33.938Z"
   },
   {
    "duration": 180,
    "start_time": "2025-05-09T09:31:34.288Z"
   },
   {
    "duration": 4,
    "start_time": "2025-05-09T09:31:34.471Z"
   },
   {
    "duration": 219,
    "start_time": "2025-05-09T09:31:34.477Z"
   },
   {
    "duration": 5,
    "start_time": "2025-05-09T09:31:34.698Z"
   },
   {
    "duration": 8,
    "start_time": "2025-05-09T09:31:34.704Z"
   },
   {
    "duration": 4,
    "start_time": "2025-05-09T09:31:34.713Z"
   },
   {
    "duration": 6,
    "start_time": "2025-05-09T09:31:34.719Z"
   },
   {
    "duration": 33,
    "start_time": "2025-05-09T09:31:34.729Z"
   },
   {
    "duration": 5,
    "start_time": "2025-05-09T09:31:34.770Z"
   },
   {
    "duration": 261,
    "start_time": "2025-05-09T09:31:34.776Z"
   },
   {
    "duration": 8,
    "start_time": "2025-05-09T09:32:06.340Z"
   },
   {
    "duration": 169,
    "start_time": "2025-05-09T12:40:51.259Z"
   },
   {
    "duration": 2600,
    "start_time": "2025-05-09T12:40:59.171Z"
   },
   {
    "duration": 24,
    "start_time": "2025-05-09T12:41:01.774Z"
   },
   {
    "duration": 15,
    "start_time": "2025-05-09T12:41:01.800Z"
   },
   {
    "duration": 13,
    "start_time": "2025-05-09T12:41:01.819Z"
   },
   {
    "duration": 5,
    "start_time": "2025-05-09T12:41:01.835Z"
   },
   {
    "duration": 15,
    "start_time": "2025-05-09T12:41:01.842Z"
   },
   {
    "duration": 11,
    "start_time": "2025-05-09T12:41:01.859Z"
   },
   {
    "duration": 5,
    "start_time": "2025-05-09T12:41:01.872Z"
   },
   {
    "duration": 43,
    "start_time": "2025-05-09T12:41:01.879Z"
   },
   {
    "duration": 10,
    "start_time": "2025-05-09T12:41:01.924Z"
   },
   {
    "duration": 9,
    "start_time": "2025-05-09T12:41:01.936Z"
   },
   {
    "duration": 10,
    "start_time": "2025-05-09T12:41:01.947Z"
   },
   {
    "duration": 14,
    "start_time": "2025-05-09T12:41:01.959Z"
   },
   {
    "duration": 281,
    "start_time": "2025-05-09T12:41:01.975Z"
   },
   {
    "duration": 15,
    "start_time": "2025-05-09T12:41:02.258Z"
   },
   {
    "duration": 375,
    "start_time": "2025-05-09T12:41:02.275Z"
   },
   {
    "duration": 16,
    "start_time": "2025-05-09T12:41:02.651Z"
   },
   {
    "duration": 342,
    "start_time": "2025-05-09T12:41:02.669Z"
   },
   {
    "duration": 173,
    "start_time": "2025-05-09T12:41:03.013Z"
   },
   {
    "duration": 0,
    "start_time": "2025-05-09T12:41:03.189Z"
   },
   {
    "duration": 0,
    "start_time": "2025-05-09T12:41:03.190Z"
   },
   {
    "duration": 0,
    "start_time": "2025-05-09T12:41:03.191Z"
   },
   {
    "duration": 0,
    "start_time": "2025-05-09T12:41:03.192Z"
   },
   {
    "duration": 0,
    "start_time": "2025-05-09T12:41:03.193Z"
   },
   {
    "duration": 0,
    "start_time": "2025-05-09T12:41:03.194Z"
   },
   {
    "duration": 0,
    "start_time": "2025-05-09T12:41:03.196Z"
   },
   {
    "duration": 0,
    "start_time": "2025-05-09T12:41:03.197Z"
   },
   {
    "duration": 0,
    "start_time": "2025-05-09T12:41:03.198Z"
   },
   {
    "duration": 0,
    "start_time": "2025-05-09T12:41:03.199Z"
   },
   {
    "duration": 0,
    "start_time": "2025-05-09T12:41:03.200Z"
   },
   {
    "duration": 787,
    "start_time": "2025-05-09T12:43:19.324Z"
   },
   {
    "duration": 12,
    "start_time": "2025-05-09T12:43:20.113Z"
   },
   {
    "duration": 15,
    "start_time": "2025-05-09T12:43:20.126Z"
   },
   {
    "duration": 12,
    "start_time": "2025-05-09T12:43:20.142Z"
   },
   {
    "duration": 6,
    "start_time": "2025-05-09T12:43:20.156Z"
   },
   {
    "duration": 14,
    "start_time": "2025-05-09T12:43:20.163Z"
   },
   {
    "duration": 10,
    "start_time": "2025-05-09T12:43:20.179Z"
   },
   {
    "duration": 4,
    "start_time": "2025-05-09T12:43:20.220Z"
   },
   {
    "duration": 6,
    "start_time": "2025-05-09T12:43:20.225Z"
   },
   {
    "duration": 8,
    "start_time": "2025-05-09T12:43:20.233Z"
   },
   {
    "duration": 10,
    "start_time": "2025-05-09T12:43:20.243Z"
   },
   {
    "duration": 9,
    "start_time": "2025-05-09T12:43:20.255Z"
   },
   {
    "duration": 14,
    "start_time": "2025-05-09T12:43:20.265Z"
   },
   {
    "duration": 243,
    "start_time": "2025-05-09T12:43:20.321Z"
   },
   {
    "duration": 14,
    "start_time": "2025-05-09T12:43:20.566Z"
   },
   {
    "duration": 351,
    "start_time": "2025-05-09T12:43:20.582Z"
   },
   {
    "duration": 14,
    "start_time": "2025-05-09T12:43:20.935Z"
   },
   {
    "duration": 398,
    "start_time": "2025-05-09T12:43:20.951Z"
   },
   {
    "duration": 166,
    "start_time": "2025-05-09T12:43:21.351Z"
   },
   {
    "duration": 0,
    "start_time": "2025-05-09T12:43:21.519Z"
   },
   {
    "duration": 0,
    "start_time": "2025-05-09T12:43:21.520Z"
   },
   {
    "duration": 0,
    "start_time": "2025-05-09T12:43:21.521Z"
   },
   {
    "duration": 0,
    "start_time": "2025-05-09T12:43:21.522Z"
   },
   {
    "duration": 0,
    "start_time": "2025-05-09T12:43:21.523Z"
   },
   {
    "duration": 0,
    "start_time": "2025-05-09T12:43:21.523Z"
   },
   {
    "duration": 0,
    "start_time": "2025-05-09T12:43:21.524Z"
   },
   {
    "duration": 0,
    "start_time": "2025-05-09T12:43:21.525Z"
   },
   {
    "duration": 0,
    "start_time": "2025-05-09T12:43:21.525Z"
   },
   {
    "duration": 0,
    "start_time": "2025-05-09T12:43:21.526Z"
   },
   {
    "duration": 0,
    "start_time": "2025-05-09T12:43:21.527Z"
   },
   {
    "duration": 40,
    "start_time": "2025-05-09T12:43:39.202Z"
   },
   {
    "duration": 42,
    "start_time": "2025-05-09T12:43:50.248Z"
   },
   {
    "duration": 9,
    "start_time": "2025-05-09T12:44:04.062Z"
   },
   {
    "duration": 8,
    "start_time": "2025-05-09T12:44:56.015Z"
   },
   {
    "duration": 14,
    "start_time": "2025-05-09T12:45:00.700Z"
   },
   {
    "duration": 14,
    "start_time": "2025-05-09T12:45:35.047Z"
   },
   {
    "duration": 18,
    "start_time": "2025-05-09T12:45:40.211Z"
   },
   {
    "duration": 19,
    "start_time": "2025-05-09T12:46:38.146Z"
   },
   {
    "duration": 23,
    "start_time": "2025-05-09T12:46:48.769Z"
   },
   {
    "duration": 23,
    "start_time": "2025-05-09T12:47:30.266Z"
   },
   {
    "duration": 32,
    "start_time": "2025-05-09T12:47:35.132Z"
   },
   {
    "duration": 29,
    "start_time": "2025-05-09T12:48:14.751Z"
   },
   {
    "duration": 29,
    "start_time": "2025-05-09T12:48:19.752Z"
   },
   {
    "duration": 39,
    "start_time": "2025-05-09T12:48:43.729Z"
   },
   {
    "duration": 26,
    "start_time": "2025-05-09T12:50:05.170Z"
   },
   {
    "duration": 27,
    "start_time": "2025-05-09T12:50:15.575Z"
   },
   {
    "duration": 24,
    "start_time": "2025-05-09T12:50:51.392Z"
   },
   {
    "duration": 32,
    "start_time": "2025-05-09T12:50:56.937Z"
   },
   {
    "duration": 25,
    "start_time": "2025-05-09T12:51:28.842Z"
   },
   {
    "duration": 34,
    "start_time": "2025-05-09T12:51:33.654Z"
   },
   {
    "duration": 296,
    "start_time": "2025-05-09T12:52:15.455Z"
   },
   {
    "duration": 309,
    "start_time": "2025-05-09T12:52:39.018Z"
   },
   {
    "duration": 297,
    "start_time": "2025-05-09T12:52:44.449Z"
   },
   {
    "duration": 2518,
    "start_time": "2025-05-10T11:52:46.290Z"
   },
   {
    "duration": 24,
    "start_time": "2025-05-10T11:52:48.810Z"
   },
   {
    "duration": 15,
    "start_time": "2025-05-10T11:52:48.836Z"
   },
   {
    "duration": 13,
    "start_time": "2025-05-10T11:52:48.852Z"
   },
   {
    "duration": 5,
    "start_time": "2025-05-10T11:52:48.868Z"
   },
   {
    "duration": 14,
    "start_time": "2025-05-10T11:52:48.875Z"
   },
   {
    "duration": 11,
    "start_time": "2025-05-10T11:52:48.890Z"
   },
   {
    "duration": 41,
    "start_time": "2025-05-10T11:52:48.902Z"
   },
   {
    "duration": 7,
    "start_time": "2025-05-10T11:52:48.944Z"
   },
   {
    "duration": 13,
    "start_time": "2025-05-10T11:52:48.953Z"
   },
   {
    "duration": 12,
    "start_time": "2025-05-10T11:52:48.968Z"
   },
   {
    "duration": 11,
    "start_time": "2025-05-10T11:52:48.982Z"
   },
   {
    "duration": 14,
    "start_time": "2025-05-10T11:52:48.994Z"
   },
   {
    "duration": 249,
    "start_time": "2025-05-10T11:52:49.042Z"
   },
   {
    "duration": 15,
    "start_time": "2025-05-10T11:52:49.293Z"
   },
   {
    "duration": 368,
    "start_time": "2025-05-10T11:52:49.310Z"
   },
   {
    "duration": 14,
    "start_time": "2025-05-10T11:52:49.681Z"
   },
   {
    "duration": 364,
    "start_time": "2025-05-10T11:52:49.698Z"
   },
   {
    "duration": 37,
    "start_time": "2025-05-10T11:52:50.064Z"
   },
   {
    "duration": 359,
    "start_time": "2025-05-10T11:52:50.103Z"
   },
   {
    "duration": 217,
    "start_time": "2025-05-10T11:52:50.465Z"
   },
   {
    "duration": 4,
    "start_time": "2025-05-10T11:52:50.684Z"
   },
   {
    "duration": 203,
    "start_time": "2025-05-10T11:52:50.690Z"
   },
   {
    "duration": 4,
    "start_time": "2025-05-10T11:52:50.895Z"
   },
   {
    "duration": 8,
    "start_time": "2025-05-10T11:52:50.900Z"
   },
   {
    "duration": 5,
    "start_time": "2025-05-10T11:52:50.910Z"
   },
   {
    "duration": 29,
    "start_time": "2025-05-10T11:52:50.916Z"
   },
   {
    "duration": 9,
    "start_time": "2025-05-10T11:52:50.946Z"
   },
   {
    "duration": 4,
    "start_time": "2025-05-10T11:52:50.957Z"
   },
   {
    "duration": 7,
    "start_time": "2025-05-10T11:52:50.963Z"
   },
   {
    "duration": 4,
    "start_time": "2025-05-10T11:55:27.069Z"
   },
   {
    "duration": 11,
    "start_time": "2025-05-10T11:55:44.144Z"
   },
   {
    "duration": 8,
    "start_time": "2025-05-10T11:55:51.070Z"
   },
   {
    "duration": 34,
    "start_time": "2025-05-10T11:57:33.113Z"
   },
   {
    "duration": 32,
    "start_time": "2025-05-10T11:57:36.030Z"
   },
   {
    "duration": 32,
    "start_time": "2025-05-10T11:57:36.639Z"
   },
   {
    "duration": 3,
    "start_time": "2025-05-10T11:57:45.662Z"
   },
   {
    "duration": 13,
    "start_time": "2025-05-10T11:57:45.667Z"
   },
   {
    "duration": 12,
    "start_time": "2025-05-10T11:57:45.681Z"
   },
   {
    "duration": 12,
    "start_time": "2025-05-10T11:57:45.696Z"
   },
   {
    "duration": 5,
    "start_time": "2025-05-10T11:57:45.709Z"
   },
   {
    "duration": 27,
    "start_time": "2025-05-10T11:57:45.716Z"
   },
   {
    "duration": 11,
    "start_time": "2025-05-10T11:57:45.745Z"
   },
   {
    "duration": 5,
    "start_time": "2025-05-10T11:57:45.757Z"
   },
   {
    "duration": 6,
    "start_time": "2025-05-10T11:57:45.765Z"
   },
   {
    "duration": 10,
    "start_time": "2025-05-10T11:57:45.772Z"
   },
   {
    "duration": 8,
    "start_time": "2025-05-10T11:57:45.783Z"
   },
   {
    "duration": 9,
    "start_time": "2025-05-10T11:57:45.793Z"
   },
   {
    "duration": 51,
    "start_time": "2025-05-10T11:57:45.803Z"
   },
   {
    "duration": 221,
    "start_time": "2025-05-10T11:57:45.855Z"
   },
   {
    "duration": 15,
    "start_time": "2025-05-10T11:57:46.077Z"
   },
   {
    "duration": 352,
    "start_time": "2025-05-10T11:57:46.093Z"
   },
   {
    "duration": 14,
    "start_time": "2025-05-10T11:57:46.447Z"
   },
   {
    "duration": 342,
    "start_time": "2025-05-10T11:57:46.463Z"
   },
   {
    "duration": 8,
    "start_time": "2025-05-10T11:57:46.807Z"
   },
   {
    "duration": 11,
    "start_time": "2025-05-10T11:58:02.359Z"
   },
   {
    "duration": 561,
    "start_time": "2025-05-10T11:58:13.743Z"
   },
   {
    "duration": 9,
    "start_time": "2025-05-10T11:58:44.215Z"
   },
   {
    "duration": 3,
    "start_time": "2025-05-10T11:58:55.988Z"
   },
   {
    "duration": 33,
    "start_time": "2025-05-10T11:58:57.496Z"
   },
   {
    "duration": 334,
    "start_time": "2025-05-10T11:59:01.520Z"
   },
   {
    "duration": 797,
    "start_time": "2025-05-10T12:04:06.714Z"
   },
   {
    "duration": 12,
    "start_time": "2025-05-10T12:04:07.513Z"
   },
   {
    "duration": 22,
    "start_time": "2025-05-10T12:04:07.526Z"
   },
   {
    "duration": 13,
    "start_time": "2025-05-10T12:04:07.549Z"
   },
   {
    "duration": 5,
    "start_time": "2025-05-10T12:04:07.564Z"
   },
   {
    "duration": 15,
    "start_time": "2025-05-10T12:04:07.571Z"
   },
   {
    "duration": 11,
    "start_time": "2025-05-10T12:04:07.587Z"
   },
   {
    "duration": 5,
    "start_time": "2025-05-10T12:04:07.599Z"
   },
   {
    "duration": 42,
    "start_time": "2025-05-10T12:04:07.605Z"
   },
   {
    "duration": 8,
    "start_time": "2025-05-10T12:04:07.649Z"
   },
   {
    "duration": 7,
    "start_time": "2025-05-10T12:04:07.659Z"
   },
   {
    "duration": 8,
    "start_time": "2025-05-10T12:04:07.668Z"
   },
   {
    "duration": 12,
    "start_time": "2025-05-10T12:04:07.678Z"
   },
   {
    "duration": 254,
    "start_time": "2025-05-10T12:04:07.694Z"
   },
   {
    "duration": 13,
    "start_time": "2025-05-10T12:04:07.949Z"
   },
   {
    "duration": 343,
    "start_time": "2025-05-10T12:04:07.964Z"
   },
   {
    "duration": 13,
    "start_time": "2025-05-10T12:04:08.310Z"
   },
   {
    "duration": 394,
    "start_time": "2025-05-10T12:04:08.325Z"
   },
   {
    "duration": 43,
    "start_time": "2025-05-10T12:04:08.721Z"
   },
   {
    "duration": 315,
    "start_time": "2025-05-10T12:04:08.766Z"
   },
   {
    "duration": 155,
    "start_time": "2025-05-10T12:04:09.083Z"
   },
   {
    "duration": 3,
    "start_time": "2025-05-10T12:04:09.242Z"
   },
   {
    "duration": 197,
    "start_time": "2025-05-10T12:04:09.247Z"
   },
   {
    "duration": 4,
    "start_time": "2025-05-10T12:04:09.446Z"
   },
   {
    "duration": 8,
    "start_time": "2025-05-10T12:04:09.452Z"
   },
   {
    "duration": 4,
    "start_time": "2025-05-10T12:04:09.462Z"
   },
   {
    "duration": 7,
    "start_time": "2025-05-10T12:04:09.467Z"
   },
   {
    "duration": 8,
    "start_time": "2025-05-10T12:04:09.476Z"
   },
   {
    "duration": 4,
    "start_time": "2025-05-10T12:04:09.486Z"
   },
   {
    "duration": 7,
    "start_time": "2025-05-10T12:04:09.491Z"
   },
   {
    "duration": 171,
    "start_time": "2025-05-10T14:37:05.108Z"
   },
   {
    "duration": 2604,
    "start_time": "2025-05-10T14:37:18.970Z"
   },
   {
    "duration": 23,
    "start_time": "2025-05-10T14:37:21.576Z"
   },
   {
    "duration": 15,
    "start_time": "2025-05-10T14:37:21.601Z"
   },
   {
    "duration": 14,
    "start_time": "2025-05-10T14:37:21.617Z"
   },
   {
    "duration": 5,
    "start_time": "2025-05-10T14:37:21.633Z"
   },
   {
    "duration": 14,
    "start_time": "2025-05-10T14:37:21.640Z"
   },
   {
    "duration": 11,
    "start_time": "2025-05-10T14:37:21.656Z"
   },
   {
    "duration": 39,
    "start_time": "2025-05-10T14:37:21.669Z"
   },
   {
    "duration": 7,
    "start_time": "2025-05-10T14:37:21.711Z"
   },
   {
    "duration": 9,
    "start_time": "2025-05-10T14:37:21.720Z"
   },
   {
    "duration": 8,
    "start_time": "2025-05-10T14:37:21.731Z"
   },
   {
    "duration": 10,
    "start_time": "2025-05-10T14:37:21.740Z"
   },
   {
    "duration": 13,
    "start_time": "2025-05-10T14:37:21.752Z"
   },
   {
    "duration": 285,
    "start_time": "2025-05-10T14:37:21.768Z"
   },
   {
    "duration": 15,
    "start_time": "2025-05-10T14:37:22.055Z"
   },
   {
    "duration": 369,
    "start_time": "2025-05-10T14:37:22.071Z"
   },
   {
    "duration": 16,
    "start_time": "2025-05-10T14:37:22.442Z"
   },
   {
    "duration": 341,
    "start_time": "2025-05-10T14:37:22.460Z"
   },
   {
    "duration": 294,
    "start_time": "2025-05-10T14:37:22.804Z"
   },
   {
    "duration": 0,
    "start_time": "2025-05-10T14:37:23.100Z"
   },
   {
    "duration": 0,
    "start_time": "2025-05-10T14:37:23.109Z"
   },
   {
    "duration": 0,
    "start_time": "2025-05-10T14:37:23.111Z"
   },
   {
    "duration": 0,
    "start_time": "2025-05-10T14:37:23.113Z"
   },
   {
    "duration": 0,
    "start_time": "2025-05-10T14:37:23.114Z"
   },
   {
    "duration": 0,
    "start_time": "2025-05-10T14:37:23.116Z"
   },
   {
    "duration": 0,
    "start_time": "2025-05-10T14:37:23.117Z"
   },
   {
    "duration": 0,
    "start_time": "2025-05-10T14:37:23.118Z"
   },
   {
    "duration": 0,
    "start_time": "2025-05-10T14:37:23.120Z"
   },
   {
    "duration": 0,
    "start_time": "2025-05-10T14:37:23.121Z"
   },
   {
    "duration": 0,
    "start_time": "2025-05-10T14:37:23.122Z"
   },
   {
    "duration": 28,
    "start_time": "2025-05-10T14:39:24.157Z"
   },
   {
    "duration": 8,
    "start_time": "2025-05-10T14:39:56.050Z"
   },
   {
    "duration": 41,
    "start_time": "2025-05-10T14:43:07.178Z"
   },
   {
    "duration": 35,
    "start_time": "2025-05-10T14:44:05.160Z"
   },
   {
    "duration": 34,
    "start_time": "2025-05-10T14:44:12.316Z"
   },
   {
    "duration": 39,
    "start_time": "2025-05-10T14:44:23.085Z"
   },
   {
    "duration": 349,
    "start_time": "2025-05-10T14:45:12.495Z"
   },
   {
    "duration": 37,
    "start_time": "2025-05-10T14:45:27.831Z"
   },
   {
    "duration": 38,
    "start_time": "2025-05-10T14:46:36.967Z"
   },
   {
    "duration": 36,
    "start_time": "2025-05-10T14:47:05.371Z"
   },
   {
    "duration": 30,
    "start_time": "2025-05-10T14:47:54.387Z"
   },
   {
    "duration": 28,
    "start_time": "2025-05-10T14:48:07.384Z"
   },
   {
    "duration": 162,
    "start_time": "2025-05-10T14:49:22.926Z"
   },
   {
    "duration": 9,
    "start_time": "2025-05-10T14:49:44.620Z"
   },
   {
    "duration": 8,
    "start_time": "2025-05-10T14:49:50.041Z"
   },
   {
    "duration": 4,
    "start_time": "2025-05-10T14:50:53.376Z"
   },
   {
    "duration": 16,
    "start_time": "2025-05-10T14:50:57.541Z"
   },
   {
    "duration": 10,
    "start_time": "2025-05-10T14:51:03.253Z"
   },
   {
    "duration": 4,
    "start_time": "2025-05-10T14:51:06.526Z"
   },
   {
    "duration": 30,
    "start_time": "2025-05-10T14:52:18.267Z"
   },
   {
    "duration": 34,
    "start_time": "2025-05-10T14:52:30.398Z"
   },
   {
    "duration": 48,
    "start_time": "2025-05-10T14:53:15.882Z"
   },
   {
    "duration": 11,
    "start_time": "2025-05-10T14:53:40.093Z"
   },
   {
    "duration": 35,
    "start_time": "2025-05-10T14:53:52.130Z"
   },
   {
    "duration": 9,
    "start_time": "2025-05-10T14:56:04.254Z"
   },
   {
    "duration": 26,
    "start_time": "2025-05-10T14:56:37.398Z"
   },
   {
    "duration": 33,
    "start_time": "2025-05-10T14:56:52.339Z"
   },
   {
    "duration": 29,
    "start_time": "2025-05-10T14:56:58.679Z"
   },
   {
    "duration": 356,
    "start_time": "2025-05-10T14:57:20.549Z"
   },
   {
    "duration": 35,
    "start_time": "2025-05-10T14:58:42.440Z"
   },
   {
    "duration": 29,
    "start_time": "2025-05-10T14:58:55.089Z"
   }
  ],
  "kernelspec": {
   "display_name": "Python 3 (ipykernel)",
   "language": "python",
   "name": "python3"
  },
  "language_info": {
   "codemirror_mode": {
    "name": "ipython",
    "version": 3
   },
   "file_extension": ".py",
   "mimetype": "text/x-python",
   "name": "python",
   "nbconvert_exporter": "python",
   "pygments_lexer": "ipython3",
   "version": "3.9.19"
  },
  "toc": {
   "base_numbering": 1,
   "nav_menu": {},
   "number_sections": true,
   "sideBar": true,
   "skip_h1_title": true,
   "title_cell": "Table of Contents",
   "title_sidebar": "Contents",
   "toc_cell": false,
   "toc_position": {},
   "toc_section_display": true,
   "toc_window_display": false
  }
 },
 "nbformat": 4,
 "nbformat_minor": 2
}
